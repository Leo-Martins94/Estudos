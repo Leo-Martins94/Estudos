{
 "cells": [
  {
   "cell_type": "code",
   "execution_count": 1,
   "id": "8c53d1ac",
   "metadata": {},
   "outputs": [],
   "source": [
    "# Exercício 1 - Crie um objeto a partir da classe abaixo, chamado roc1, passando 2 parâmetros e depois faça uma chamada\n",
    "# aos atributos e métodos\n",
    "from math import sqrt\n",
    "\n",
    "class Rocket():\n",
    "     \n",
    "    def __init__(self, x=0, y=0):\n",
    "        self.x = x\n",
    "        self.y = y\n",
    "        \n",
    "    def move_rocket(self, x_increment=0, y_increment=1):\n",
    "        self.x += x_increment\n",
    "        self.y += y_increment\n",
    "        \n",
    "    def print_rocket(self):\n",
    "        print(self.x, self.y)"
   ]
  },
  {
   "cell_type": "code",
   "execution_count": 2,
   "id": "99993b30",
   "metadata": {},
   "outputs": [],
   "source": [
    "roc1 = Rocket(10,35)"
   ]
  },
  {
   "cell_type": "code",
   "execution_count": 3,
   "id": "93f3255b",
   "metadata": {},
   "outputs": [],
   "source": [
    "roc1.move_rocket()"
   ]
  },
  {
   "cell_type": "code",
   "execution_count": 4,
   "id": "3d9da5fe",
   "metadata": {},
   "outputs": [
    {
     "name": "stdout",
     "output_type": "stream",
     "text": [
      "10 36\n"
     ]
    }
   ],
   "source": [
    "roc1.print_rocket()"
   ]
  },
  {
   "cell_type": "code",
   "execution_count": 5,
   "id": "64620e00",
   "metadata": {},
   "outputs": [],
   "source": [
    "# Exercício 2 - Crie uma classe chamada Pessoa() com os atributos: nome, cidade, telefone e e-mail. Use pelo menos 2\n",
    "# métodos especiais na sua classe. Crie um objeto da sua classe e faça uma chamada a pelo menos um dos seus métodos\n",
    "# especiais.\n",
    "\n",
    "class Pessoas():\n",
    "    \n",
    "    def __init__(self,nome,cidade,telefone,email):\n",
    "        self.nome = nome\n",
    "        self.cidade = cidade\n",
    "        self.telefone = telefone\n",
    "        self.email = email\n",
    "    \n",
    "    def __str__(self):\n",
    "        return 'Nome:{}/nCidade:{}\\nTelefone:{}\\nEmail:{}'.format(self.nome,self.cidade,self.telefone,self.email)\n",
    "    \n",
    "    def __len__(self):\n",
    "        return self.telefone"
   ]
  },
  {
   "cell_type": "code",
   "execution_count": 6,
   "id": "58303538",
   "metadata": {},
   "outputs": [],
   "source": [
    "pessoa1 = Pessoas('Leo','SP',932034949,'leo@outlook.com')"
   ]
  },
  {
   "cell_type": "code",
   "execution_count": 7,
   "id": "7c041741",
   "metadata": {},
   "outputs": [
    {
     "data": {
      "text/plain": [
       "'Nome:Leo/nCidade:SP\\nTelefone:932034949\\nEmail:leo@outlook.com'"
      ]
     },
     "execution_count": 7,
     "metadata": {},
     "output_type": "execute_result"
    }
   ],
   "source": [
    "str(pessoa1)"
   ]
  },
  {
   "cell_type": "code",
   "execution_count": 8,
   "id": "8ff80412",
   "metadata": {},
   "outputs": [
    {
     "data": {
      "text/plain": [
       "932034949"
      ]
     },
     "execution_count": 8,
     "metadata": {},
     "output_type": "execute_result"
    }
   ],
   "source": [
    "len(pessoa1)"
   ]
  },
  {
   "cell_type": "code",
   "execution_count": 9,
   "id": "b97cea6f",
   "metadata": {},
   "outputs": [],
   "source": [
    "# Exercício 3 - Crie a classe Smartphone com 2 atributos, tamanho e interface e crie a classe MP3Player com os \n",
    "# atributos capacidade. A classe MP3player deve herdar os atributos da classe Smartphone."
   ]
  },
  {
   "cell_type": "code",
   "execution_count": 14,
   "id": "38883f22",
   "metadata": {},
   "outputs": [],
   "source": [
    "class SmartPhone():\n",
    "    \n",
    "    def __init__(self,tamanho,interface):\n",
    "        self.tamanho = tamanho\n",
    "        self.interface = interface"
   ]
  },
  {
   "cell_type": "code",
   "execution_count": 18,
   "id": "cfbc4675",
   "metadata": {},
   "outputs": [],
   "source": [
    "class MP3Player(SmartPhone):\n",
    "   \n",
    "    def __init__(self,capacidade):\n",
    "        SmartPhone.__init__(self)\n",
    "        self.capacidade = capacidade"
   ]
  },
  {
   "cell_type": "code",
   "execution_count": null,
   "id": "1920f8e9",
   "metadata": {},
   "outputs": [],
   "source": []
  }
 ],
 "metadata": {
  "kernelspec": {
   "display_name": "Python 3",
   "language": "python",
   "name": "python3"
  },
  "language_info": {
   "codemirror_mode": {
    "name": "ipython",
    "version": 3
   },
   "file_extension": ".py",
   "mimetype": "text/x-python",
   "name": "python",
   "nbconvert_exporter": "python",
   "pygments_lexer": "ipython3",
   "version": "3.8.8"
  }
 },
 "nbformat": 4,
 "nbformat_minor": 5
}

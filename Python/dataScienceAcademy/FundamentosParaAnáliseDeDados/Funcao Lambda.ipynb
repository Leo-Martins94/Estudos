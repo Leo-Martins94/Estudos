{
 "cells": [
  {
   "cell_type": "code",
   "execution_count": 1,
   "id": "c305c8c5",
   "metadata": {},
   "outputs": [],
   "source": [
    "# Definindo uma função em 3 linhas de código\n",
    "\n",
    "def potencia3 (num):\n",
    "    result = num**2\n",
    "    return result"
   ]
  },
  {
   "cell_type": "code",
   "execution_count": 2,
   "id": "40e919eb",
   "metadata": {},
   "outputs": [
    {
     "data": {
      "text/plain": [
       "25"
      ]
     },
     "execution_count": 2,
     "metadata": {},
     "output_type": "execute_result"
    }
   ],
   "source": [
    "potencia3(5)"
   ]
  },
  {
   "cell_type": "code",
   "execution_count": 3,
   "id": "f7df4d91",
   "metadata": {},
   "outputs": [],
   "source": [
    "# Definindo função em duas linhas\n",
    "\n",
    "def potencia2 (num):\n",
    "    return num ** 2"
   ]
  },
  {
   "cell_type": "code",
   "execution_count": 4,
   "id": "557e6811",
   "metadata": {},
   "outputs": [
    {
     "data": {
      "text/plain": [
       "25"
      ]
     },
     "execution_count": 4,
     "metadata": {},
     "output_type": "execute_result"
    }
   ],
   "source": [
    "potencia2(5)"
   ]
  },
  {
   "cell_type": "code",
   "execution_count": 9,
   "id": "47c2a612",
   "metadata": {},
   "outputs": [],
   "source": [
    "# Definindo função em uma linha\n",
    "\n",
    "def potencia1(num): return num ** 2"
   ]
  },
  {
   "cell_type": "code",
   "execution_count": 11,
   "id": "4414cf69",
   "metadata": {},
   "outputs": [
    {
     "data": {
      "text/plain": [
       "25"
      ]
     },
     "execution_count": 11,
     "metadata": {},
     "output_type": "execute_result"
    }
   ],
   "source": [
    "potencia1(5)"
   ]
  },
  {
   "cell_type": "code",
   "execution_count": 12,
   "id": "19a1fe8c",
   "metadata": {},
   "outputs": [],
   "source": [
    "#Definindo função lambda\n",
    "\n",
    "potencia = lambda num: num **2"
   ]
  },
  {
   "cell_type": "code",
   "execution_count": 13,
   "id": "0f6e2fdb",
   "metadata": {},
   "outputs": [
    {
     "data": {
      "text/plain": [
       "25"
      ]
     },
     "execution_count": 13,
     "metadata": {},
     "output_type": "execute_result"
    }
   ],
   "source": [
    "potencia(5)"
   ]
  },
  {
   "cell_type": "code",
   "execution_count": 14,
   "id": "4f888eec",
   "metadata": {},
   "outputs": [],
   "source": [
    "par = lambda num: num%2==0"
   ]
  },
  {
   "cell_type": "code",
   "execution_count": 15,
   "id": "e518364e",
   "metadata": {},
   "outputs": [
    {
     "data": {
      "text/plain": [
       "True"
      ]
     },
     "execution_count": 15,
     "metadata": {},
     "output_type": "execute_result"
    }
   ],
   "source": [
    "par(4)"
   ]
  },
  {
   "cell_type": "code",
   "execution_count": 17,
   "id": "c062d95c",
   "metadata": {},
   "outputs": [
    {
     "data": {
      "text/plain": [
       "False"
      ]
     },
     "execution_count": 17,
     "metadata": {},
     "output_type": "execute_result"
    }
   ],
   "source": [
    "par(3)"
   ]
  },
  {
   "cell_type": "code",
   "execution_count": 18,
   "id": "8c4e8228",
   "metadata": {},
   "outputs": [],
   "source": [
    "first = lambda s : s[0]"
   ]
  },
  {
   "cell_type": "code",
   "execution_count": 19,
   "id": "159e557f",
   "metadata": {},
   "outputs": [
    {
     "data": {
      "text/plain": [
       "'p'"
      ]
     },
     "execution_count": 19,
     "metadata": {},
     "output_type": "execute_result"
    }
   ],
   "source": [
    "first('python')"
   ]
  },
  {
   "cell_type": "code",
   "execution_count": 20,
   "id": "a7f51d21",
   "metadata": {},
   "outputs": [],
   "source": [
    "addNum = lambda x,y : x + y "
   ]
  },
  {
   "cell_type": "code",
   "execution_count": 21,
   "id": "457901a1",
   "metadata": {},
   "outputs": [
    {
     "data": {
      "text/plain": [
       "8"
      ]
     },
     "execution_count": 21,
     "metadata": {},
     "output_type": "execute_result"
    }
   ],
   "source": [
    "addNum(3,5)"
   ]
  },
  {
   "cell_type": "code",
   "execution_count": 22,
   "id": "c9931fe4",
   "metadata": {},
   "outputs": [],
   "source": [
    "reverso = lambda r : r[::-1]"
   ]
  },
  {
   "cell_type": "code",
   "execution_count": 23,
   "id": "d26b6fad",
   "metadata": {},
   "outputs": [
    {
     "data": {
      "text/plain": [
       "'nohtyp'"
      ]
     },
     "execution_count": 23,
     "metadata": {},
     "output_type": "execute_result"
    }
   ],
   "source": [
    "reverso('python')"
   ]
  },
  {
   "cell_type": "code",
   "execution_count": null,
   "id": "63089646",
   "metadata": {},
   "outputs": [],
   "source": []
  }
 ],
 "metadata": {
  "kernelspec": {
   "display_name": "Python 3",
   "language": "python",
   "name": "python3"
  },
  "language_info": {
   "codemirror_mode": {
    "name": "ipython",
    "version": 3
   },
   "file_extension": ".py",
   "mimetype": "text/x-python",
   "name": "python",
   "nbconvert_exporter": "python",
   "pygments_lexer": "ipython3",
   "version": "3.8.8"
  }
 },
 "nbformat": 4,
 "nbformat_minor": 5
}

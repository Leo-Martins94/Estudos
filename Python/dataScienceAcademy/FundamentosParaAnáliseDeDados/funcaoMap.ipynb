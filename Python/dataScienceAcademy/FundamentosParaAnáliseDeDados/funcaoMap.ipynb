{
 "cells": [
  {
   "cell_type": "markdown",
   "id": "4d2450c2",
   "metadata": {},
   "source": [
    "# Função Map"
   ]
  },
  {
   "cell_type": "code",
   "execution_count": 9,
   "id": "2c522311",
   "metadata": {},
   "outputs": [],
   "source": [
    "# criando duas funções\n",
    "\n",
    "#1 recebendo como parametro uma temperatura e retorna em fahrenhait\n",
    "\n",
    "def fahrenhait (t):\n",
    "    return(float((9)/5)*t+32)\n",
    "\n",
    "def celcius (t):\n",
    "    return(float((9)/5)*(t-32))"
   ]
  },
  {
   "cell_type": "code",
   "execution_count": 2,
   "id": "4f2acf2d",
   "metadata": {},
   "outputs": [],
   "source": [
    "temperaturas = [27, 26.5, 48, 45.6, 40]"
   ]
  },
  {
   "cell_type": "code",
   "execution_count": 3,
   "id": "0fd1b5c0",
   "metadata": {},
   "outputs": [
    {
     "data": {
      "text/plain": [
       "<map at 0x7f54b9602b20>"
      ]
     },
     "execution_count": 3,
     "metadata": {},
     "output_type": "execute_result"
    }
   ],
   "source": [
    "# Aplicando a função map, map retorna por padrão um iterator\n",
    "map(fahrenhait,temperaturas)"
   ]
  },
  {
   "cell_type": "code",
   "execution_count": 4,
   "id": "f88dc038",
   "metadata": {},
   "outputs": [
    {
     "data": {
      "text/plain": [
       "[80.6, 79.7, 118.4, 114.08, 104.0]"
      ]
     },
     "execution_count": 4,
     "metadata": {},
     "output_type": "execute_result"
    }
   ],
   "source": [
    "# função map retornando temperaturas convertidas em fahrenhait\n",
    "list(map(fahrenhait, temperaturas))"
   ]
  },
  {
   "cell_type": "code",
   "execution_count": 6,
   "id": "7742d3bb",
   "metadata": {},
   "outputs": [
    {
     "name": "stdout",
     "output_type": "stream",
     "text": [
      "80.6\n",
      "79.7\n",
      "118.4\n",
      "114.08\n",
      "104.0\n"
     ]
    }
   ],
   "source": [
    "#utilizando o loop for para imprimir o resultado do map\n",
    "\n",
    "for temp in map(fahrenhait, temperaturas):\n",
    "    print(temp)"
   ]
  },
  {
   "cell_type": "code",
   "execution_count": 7,
   "id": "aadc858a",
   "metadata": {},
   "outputs": [
    {
     "data": {
      "text/plain": [
       "<map at 0x7f54b95f5280>"
      ]
     },
     "execution_count": 7,
     "metadata": {},
     "output_type": "execute_result"
    }
   ],
   "source": [
    "# Rependido o uso da função com celcius\n",
    "\n",
    "map(celcius,temperaturas)"
   ]
  },
  {
   "cell_type": "code",
   "execution_count": 10,
   "id": "82076d65",
   "metadata": {},
   "outputs": [
    {
     "data": {
      "text/plain": [
       "[-9.0, -9.9, 28.8, 24.480000000000004, 14.4]"
      ]
     },
     "execution_count": 10,
     "metadata": {},
     "output_type": "execute_result"
    }
   ],
   "source": [
    "list(map(celcius,temperaturas))"
   ]
  },
  {
   "cell_type": "code",
   "execution_count": 11,
   "id": "53359384",
   "metadata": {},
   "outputs": [
    {
     "name": "stdout",
     "output_type": "stream",
     "text": [
      "-9.0\n",
      "-9.9\n",
      "28.8\n",
      "24.480000000000004\n",
      "14.4\n"
     ]
    }
   ],
   "source": [
    "for temp in map(celcius,temperaturas):\n",
    "    print(temp)"
   ]
  },
  {
   "cell_type": "code",
   "execution_count": 12,
   "id": "2d4e7ed3",
   "metadata": {},
   "outputs": [
    {
     "data": {
      "text/plain": [
       "<map at 0x7f54b95f50d0>"
      ]
     },
     "execution_count": 12,
     "metadata": {},
     "output_type": "execute_result"
    }
   ],
   "source": [
    "# usando a função lambda\n",
    "map(lambda c : (5.0/9)*(c-32),temperaturas)"
   ]
  },
  {
   "cell_type": "code",
   "execution_count": 15,
   "id": "cbe7f68b",
   "metadata": {},
   "outputs": [
    {
     "data": {
      "text/plain": [
       "[80.6, 79.7, 118.4, 114.08, 104.0]"
      ]
     },
     "execution_count": 15,
     "metadata": {},
     "output_type": "execute_result"
    }
   ],
   "source": [
    "list(map(lambda f : ((9.0)/5)*f+32,temperaturas))"
   ]
  },
  {
   "cell_type": "code",
   "execution_count": 16,
   "id": "8cfb956c",
   "metadata": {},
   "outputs": [],
   "source": [
    "#somando itens de duas listas\n",
    "\n",
    "a = [1, 3, 5, 7, 9]\n",
    "b = [2, 4, 6, 8,10]\n",
    "c = [3.5, 4.7, 8,2]"
   ]
  },
  {
   "cell_type": "code",
   "execution_count": 18,
   "id": "e4c650ea",
   "metadata": {},
   "outputs": [
    {
     "data": {
      "text/plain": [
       "[6.5, 11.7, 19, 17]"
      ]
     },
     "execution_count": 18,
     "metadata": {},
     "output_type": "execute_result"
    }
   ],
   "source": [
    "list(map(lambda x,y,z : x+y+z,a,b,c))"
   ]
  },
  {
   "cell_type": "code",
   "execution_count": null,
   "id": "80e4f3b8",
   "metadata": {},
   "outputs": [],
   "source": []
  }
 ],
 "metadata": {
  "kernelspec": {
   "display_name": "Python 3",
   "language": "python",
   "name": "python3"
  },
  "language_info": {
   "codemirror_mode": {
    "name": "ipython",
    "version": 3
   },
   "file_extension": ".py",
   "mimetype": "text/x-python",
   "name": "python",
   "nbconvert_exporter": "python",
   "pygments_lexer": "ipython3",
   "version": "3.8.8"
  }
 },
 "nbformat": 4,
 "nbformat_minor": 5
}

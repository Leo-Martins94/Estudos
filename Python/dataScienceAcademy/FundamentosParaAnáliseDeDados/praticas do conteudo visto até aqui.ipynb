{
 "cells": [
  {
   "cell_type": "markdown",
   "id": "55c63e7d",
   "metadata": {},
   "source": [
    "## imprimindo listas dentro de listas ##"
   ]
  },
  {
   "cell_type": "code",
   "execution_count": 47,
   "id": "c3611f1d",
   "metadata": {},
   "outputs": [
    {
     "name": "stdout",
     "output_type": "stream",
     "text": [
      "1\n",
      "3\n",
      "5\n",
      "7\n",
      "9\n",
      "0\n",
      "2\n",
      "4\n",
      "6\n",
      "8\n",
      "11\n",
      "13\n",
      "15\n",
      "17\n",
      "19\n",
      "10\n",
      "12\n",
      "14\n",
      "16\n",
      "18\n",
      "fim 4\n"
     ]
    }
   ],
   "source": [
    "db = [[1,3,5,7,9],[0,2,4,6,8],[11,13,15,17,19],[10,12,14,16,18]]\n",
    "width = len(db)\n",
    "db_i = 0\n",
    "\n",
    "while listas <= width:\n",
    "    \n",
    "        a = db[db_i]\n",
    "        for item in a:\n",
    "            print(item)\n",
    "        db_i += 1  \n",
    "        listas += 1\n",
    "print('fim {}'.format(width))"
   ]
  },
  {
   "cell_type": "markdown",
   "id": "9d7731ea",
   "metadata": {},
   "source": [
    "## Urna Eletronica ##"
   ]
  },
  {
   "cell_type": "code",
   "execution_count": 69,
   "id": "f1d179f1",
   "metadata": {},
   "outputs": [
    {
     "name": "stdout",
     "output_type": "stream",
     "text": [
      "O PT ganha as eleições\n",
      "O PT teve 24 votos\n",
      "O PL teve 12 votos\n",
      "Outros partios tiveram 4 votos\n"
     ]
    }
   ],
   "source": [
    "db = [[13, 17, 13, 25, 13, 17, 13, 17, 13, 13], [13, 17, 13, 17, 13, 13, 17, 17, 17, 17,13], [17,17,13,13,17,13]]\n",
    "width = len(db)\n",
    "db_i = 0\n",
    "pt = 0\n",
    "pl = 0\n",
    "outros_part = 0\n",
    "urnas = 0\n",
    "urna = db[db_i]\n",
    "\n",
    "#Calculando os votos\n",
    "\n",
    "while urnas <= width:\n",
    "    \n",
    "    for voto in urna:\n",
    "        if voto == 13:\n",
    "            pt += 1\n",
    "        elif voto == 17:\n",
    "            pl += 1\n",
    "        else:\n",
    "            outros_part += 1\n",
    "        db_i += 1\n",
    "    urnas += 1\n",
    "\n",
    "# Calculando o Resultado das Eleições\n",
    "\n",
    "if pt > pl and pt > outros_part :\n",
    "    print('O PT ganha as eleições')\n",
    "elif pl > pt and pl > outros_part :\n",
    "    print('O PL ganha as eleições')\n",
    "else:\n",
    "    print('Outro partido ganha as eleições')\n",
    "        \n",
    "\n",
    "print('O PT teve {} votos'.format(pt))\n",
    "print('O PL teve {} votos'.format(pl))\n",
    "print('Outros partios tiveram {} votos'.format(outros_part))\n"
   ]
  },
  {
   "cell_type": "code",
   "execution_count": null,
   "id": "78f0f749",
   "metadata": {},
   "outputs": [],
   "source": []
  }
 ],
 "metadata": {
  "kernelspec": {
   "display_name": "Python 3",
   "language": "python",
   "name": "python3"
  },
  "language_info": {
   "codemirror_mode": {
    "name": "ipython",
    "version": 3
   },
   "file_extension": ".py",
   "mimetype": "text/x-python",
   "name": "python",
   "nbconvert_exporter": "python",
   "pygments_lexer": "ipython3",
   "version": "3.8.8"
  }
 },
 "nbformat": 4,
 "nbformat_minor": 5
}

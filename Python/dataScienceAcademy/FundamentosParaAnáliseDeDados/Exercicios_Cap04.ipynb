{
 "cells": [
  {
   "cell_type": "code",
   "execution_count": 1,
   "id": "58a7a565",
   "metadata": {},
   "outputs": [
    {
     "data": {
      "text/plain": [
       "[1, 125, 314432]"
      ]
     },
     "execution_count": 1,
     "metadata": {},
     "output_type": "execute_result"
    }
   ],
   "source": [
    "# Exercício 1 - Crie uma lista de 3 elementos e calcule a terceira potência de cada elemento.\n",
    "lista = [ 1, 5, 68]\n",
    "list(map(lambda x: x**3,lista))"
   ]
  },
  {
   "cell_type": "code",
   "execution_count": 4,
   "id": "94f5d328",
   "metadata": {},
   "outputs": [
    {
     "name": "stdout",
     "output_type": "stream",
     "text": [
      "['A', 'a', 1]\n",
      "['DATA', 'data', 4]\n",
      "['SCIENCE', 'science', 7]\n",
      "['ACADEMY', 'academy', 7]\n",
      "['OFERCE', 'oferce', 6]\n",
      "['OS', 'os', 2]\n",
      "['MELHORES', 'melhores', 8]\n",
      "['CURSOS', 'cursos', 6]\n",
      "['DE', 'de', 2]\n",
      "['ANÁLISE', 'análise', 7]\n",
      "['DE', 'de', 2]\n",
      "['DADOS', 'dados', 5]\n",
      "['DO', 'do', 2]\n",
      "['BRASIL', 'brasil', 6]\n"
     ]
    },
    {
     "data": {
      "text/plain": [
       "[[['A', 'a', 1],\n",
       "  ['DATA', 'data', 4],\n",
       "  ['SCIENCE', 'science', 7],\n",
       "  ['ACADEMY', 'academy', 7],\n",
       "  ['OFERCE', 'oferce', 6],\n",
       "  ['OS', 'os', 2],\n",
       "  ['MELHORES', 'melhores', 8],\n",
       "  ['CURSOS', 'cursos', 6],\n",
       "  ['DE', 'de', 2],\n",
       "  ['ANÁLISE', 'análise', 7],\n",
       "  ['DE', 'de', 2],\n",
       "  ['DADOS', 'dados', 5],\n",
       "  ['DO', 'do', 2],\n",
       "  ['BRASIL', 'brasil', 6]],\n",
       " [['A', 'a', 1],\n",
       "  ['DATA', 'data', 4],\n",
       "  ['SCIENCE', 'science', 7],\n",
       "  ['ACADEMY', 'academy', 7],\n",
       "  ['OFERCE', 'oferce', 6],\n",
       "  ['OS', 'os', 2],\n",
       "  ['MELHORES', 'melhores', 8],\n",
       "  ['CURSOS', 'cursos', 6],\n",
       "  ['DE', 'de', 2],\n",
       "  ['ANÁLISE', 'análise', 7],\n",
       "  ['DE', 'de', 2],\n",
       "  ['DADOS', 'dados', 5],\n",
       "  ['DO', 'do', 2],\n",
       "  ['BRASIL', 'brasil', 6]],\n",
       " [['A', 'a', 1],\n",
       "  ['DATA', 'data', 4],\n",
       "  ['SCIENCE', 'science', 7],\n",
       "  ['ACADEMY', 'academy', 7],\n",
       "  ['OFERCE', 'oferce', 6],\n",
       "  ['OS', 'os', 2],\n",
       "  ['MELHORES', 'melhores', 8],\n",
       "  ['CURSOS', 'cursos', 6],\n",
       "  ['DE', 'de', 2],\n",
       "  ['ANÁLISE', 'análise', 7],\n",
       "  ['DE', 'de', 2],\n",
       "  ['DADOS', 'dados', 5],\n",
       "  ['DO', 'do', 2],\n",
       "  ['BRASIL', 'brasil', 6]],\n",
       " [['A', 'a', 1],\n",
       "  ['DATA', 'data', 4],\n",
       "  ['SCIENCE', 'science', 7],\n",
       "  ['ACADEMY', 'academy', 7],\n",
       "  ['OFERCE', 'oferce', 6],\n",
       "  ['OS', 'os', 2],\n",
       "  ['MELHORES', 'melhores', 8],\n",
       "  ['CURSOS', 'cursos', 6],\n",
       "  ['DE', 'de', 2],\n",
       "  ['ANÁLISE', 'análise', 7],\n",
       "  ['DE', 'de', 2],\n",
       "  ['DADOS', 'dados', 5],\n",
       "  ['DO', 'do', 2],\n",
       "  ['BRASIL', 'brasil', 6]],\n",
       " [['A', 'a', 1],\n",
       "  ['DATA', 'data', 4],\n",
       "  ['SCIENCE', 'science', 7],\n",
       "  ['ACADEMY', 'academy', 7],\n",
       "  ['OFERCE', 'oferce', 6],\n",
       "  ['OS', 'os', 2],\n",
       "  ['MELHORES', 'melhores', 8],\n",
       "  ['CURSOS', 'cursos', 6],\n",
       "  ['DE', 'de', 2],\n",
       "  ['ANÁLISE', 'análise', 7],\n",
       "  ['DE', 'de', 2],\n",
       "  ['DADOS', 'dados', 5],\n",
       "  ['DO', 'do', 2],\n",
       "  ['BRASIL', 'brasil', 6]],\n",
       " [['A', 'a', 1],\n",
       "  ['DATA', 'data', 4],\n",
       "  ['SCIENCE', 'science', 7],\n",
       "  ['ACADEMY', 'academy', 7],\n",
       "  ['OFERCE', 'oferce', 6],\n",
       "  ['OS', 'os', 2],\n",
       "  ['MELHORES', 'melhores', 8],\n",
       "  ['CURSOS', 'cursos', 6],\n",
       "  ['DE', 'de', 2],\n",
       "  ['ANÁLISE', 'análise', 7],\n",
       "  ['DE', 'de', 2],\n",
       "  ['DADOS', 'dados', 5],\n",
       "  ['DO', 'do', 2],\n",
       "  ['BRASIL', 'brasil', 6]],\n",
       " [['A', 'a', 1],\n",
       "  ['DATA', 'data', 4],\n",
       "  ['SCIENCE', 'science', 7],\n",
       "  ['ACADEMY', 'academy', 7],\n",
       "  ['OFERCE', 'oferce', 6],\n",
       "  ['OS', 'os', 2],\n",
       "  ['MELHORES', 'melhores', 8],\n",
       "  ['CURSOS', 'cursos', 6],\n",
       "  ['DE', 'de', 2],\n",
       "  ['ANÁLISE', 'análise', 7],\n",
       "  ['DE', 'de', 2],\n",
       "  ['DADOS', 'dados', 5],\n",
       "  ['DO', 'do', 2],\n",
       "  ['BRASIL', 'brasil', 6]],\n",
       " [['A', 'a', 1],\n",
       "  ['DATA', 'data', 4],\n",
       "  ['SCIENCE', 'science', 7],\n",
       "  ['ACADEMY', 'academy', 7],\n",
       "  ['OFERCE', 'oferce', 6],\n",
       "  ['OS', 'os', 2],\n",
       "  ['MELHORES', 'melhores', 8],\n",
       "  ['CURSOS', 'cursos', 6],\n",
       "  ['DE', 'de', 2],\n",
       "  ['ANÁLISE', 'análise', 7],\n",
       "  ['DE', 'de', 2],\n",
       "  ['DADOS', 'dados', 5],\n",
       "  ['DO', 'do', 2],\n",
       "  ['BRASIL', 'brasil', 6]],\n",
       " [['A', 'a', 1],\n",
       "  ['DATA', 'data', 4],\n",
       "  ['SCIENCE', 'science', 7],\n",
       "  ['ACADEMY', 'academy', 7],\n",
       "  ['OFERCE', 'oferce', 6],\n",
       "  ['OS', 'os', 2],\n",
       "  ['MELHORES', 'melhores', 8],\n",
       "  ['CURSOS', 'cursos', 6],\n",
       "  ['DE', 'de', 2],\n",
       "  ['ANÁLISE', 'análise', 7],\n",
       "  ['DE', 'de', 2],\n",
       "  ['DADOS', 'dados', 5],\n",
       "  ['DO', 'do', 2],\n",
       "  ['BRASIL', 'brasil', 6]],\n",
       " [['A', 'a', 1],\n",
       "  ['DATA', 'data', 4],\n",
       "  ['SCIENCE', 'science', 7],\n",
       "  ['ACADEMY', 'academy', 7],\n",
       "  ['OFERCE', 'oferce', 6],\n",
       "  ['OS', 'os', 2],\n",
       "  ['MELHORES', 'melhores', 8],\n",
       "  ['CURSOS', 'cursos', 6],\n",
       "  ['DE', 'de', 2],\n",
       "  ['ANÁLISE', 'análise', 7],\n",
       "  ['DE', 'de', 2],\n",
       "  ['DADOS', 'dados', 5],\n",
       "  ['DO', 'do', 2],\n",
       "  ['BRASIL', 'brasil', 6]],\n",
       " [['A', 'a', 1],\n",
       "  ['DATA', 'data', 4],\n",
       "  ['SCIENCE', 'science', 7],\n",
       "  ['ACADEMY', 'academy', 7],\n",
       "  ['OFERCE', 'oferce', 6],\n",
       "  ['OS', 'os', 2],\n",
       "  ['MELHORES', 'melhores', 8],\n",
       "  ['CURSOS', 'cursos', 6],\n",
       "  ['DE', 'de', 2],\n",
       "  ['ANÁLISE', 'análise', 7],\n",
       "  ['DE', 'de', 2],\n",
       "  ['DADOS', 'dados', 5],\n",
       "  ['DO', 'do', 2],\n",
       "  ['BRASIL', 'brasil', 6]],\n",
       " [['A', 'a', 1],\n",
       "  ['DATA', 'data', 4],\n",
       "  ['SCIENCE', 'science', 7],\n",
       "  ['ACADEMY', 'academy', 7],\n",
       "  ['OFERCE', 'oferce', 6],\n",
       "  ['OS', 'os', 2],\n",
       "  ['MELHORES', 'melhores', 8],\n",
       "  ['CURSOS', 'cursos', 6],\n",
       "  ['DE', 'de', 2],\n",
       "  ['ANÁLISE', 'análise', 7],\n",
       "  ['DE', 'de', 2],\n",
       "  ['DADOS', 'dados', 5],\n",
       "  ['DO', 'do', 2],\n",
       "  ['BRASIL', 'brasil', 6]],\n",
       " [['A', 'a', 1],\n",
       "  ['DATA', 'data', 4],\n",
       "  ['SCIENCE', 'science', 7],\n",
       "  ['ACADEMY', 'academy', 7],\n",
       "  ['OFERCE', 'oferce', 6],\n",
       "  ['OS', 'os', 2],\n",
       "  ['MELHORES', 'melhores', 8],\n",
       "  ['CURSOS', 'cursos', 6],\n",
       "  ['DE', 'de', 2],\n",
       "  ['ANÁLISE', 'análise', 7],\n",
       "  ['DE', 'de', 2],\n",
       "  ['DADOS', 'dados', 5],\n",
       "  ['DO', 'do', 2],\n",
       "  ['BRASIL', 'brasil', 6]],\n",
       " [['A', 'a', 1],\n",
       "  ['DATA', 'data', 4],\n",
       "  ['SCIENCE', 'science', 7],\n",
       "  ['ACADEMY', 'academy', 7],\n",
       "  ['OFERCE', 'oferce', 6],\n",
       "  ['OS', 'os', 2],\n",
       "  ['MELHORES', 'melhores', 8],\n",
       "  ['CURSOS', 'cursos', 6],\n",
       "  ['DE', 'de', 2],\n",
       "  ['ANÁLISE', 'análise', 7],\n",
       "  ['DE', 'de', 2],\n",
       "  ['DADOS', 'dados', 5],\n",
       "  ['DO', 'do', 2],\n",
       "  ['BRASIL', 'brasil', 6]]]"
      ]
     },
     "execution_count": 4,
     "metadata": {},
     "output_type": "execute_result"
    }
   ],
   "source": [
    "# Exercício 2 - Reescreva o código abaixo, usando a função map(). O resultado final deve ser o mesmo!\n",
    "palavras = 'A Data Science Academy oferce os melhores cursos de análise de dados do Brasil'.split()\n",
    "resultado = [[w.upper(), w.lower(), len(w)] for w in palavras]\n",
    "for i in resultado:\n",
    "    print (i)\n",
    "list(map(lambda x : resultado,palavras))"
   ]
  },
  {
   "cell_type": "code",
   "execution_count": 61,
   "id": "5581e2c7",
   "metadata": {},
   "outputs": [
    {
     "name": "stdout",
     "output_type": "stream",
     "text": [
      "[[1, 3, 5, 7], [2, 4, 6, 8]]\n"
     ]
    }
   ],
   "source": [
    "# Exercício 3 - Calcule a matriz transposta da matriz abaixo.\n",
    "# Caso não saiba o que é matriz transposta, visite este link: https://pt.wikipedia.org/wiki/Matriz_transposta\n",
    "# Matriz transposta é um conceito fundamental na construção de redes neurais artificiais, base de sistemas de IA.\n",
    "matrix = [[1, 2],[3,4],[5,6],[7,8]]\n",
    "\n",
    "transpose = [[row[i] for row in matrix] for i in range(2) ]\n",
    "\n",
    "print(transpose)"
   ]
  },
  {
   "cell_type": "code",
   "execution_count": 63,
   "id": "e68162fe",
   "metadata": {},
   "outputs": [
    {
     "name": "stdout",
     "output_type": "stream",
     "text": [
      "[0, 0]\n",
      "[1, 1]\n",
      "[4, 8]\n",
      "[9, 27]\n",
      "[16, 64]\n"
     ]
    }
   ],
   "source": [
    "# Exercício 4 - Crie duas funções, uma para elevar um número ao quadrado e outra para elevar ao cubo. \n",
    "# Aplique as duas funções aos elementos da lista abaixo. \n",
    "# Obs: as duas funções devem ser aplicadas simultaneamente.\n",
    "lista = [0, 1, 2, 3, 4]\n",
    "\n",
    "def Squad(x):\n",
    "    return x**2\n",
    "def Cube(x):\n",
    "    return x**3\n",
    "\n",
    "funcs = [Squad,Cube]\n",
    "\n",
    "for i in lista:\n",
    "    valor = map(lambda x: x(i), funcs)\n",
    "    print(list(valor))"
   ]
  },
  {
   "cell_type": "code",
   "execution_count": 64,
   "id": "d066ca04",
   "metadata": {},
   "outputs": [
    {
     "data": {
      "text/plain": [
       "[1, 8, 243, 15625, 823543, 43046721]"
      ]
     },
     "execution_count": 64,
     "metadata": {},
     "output_type": "execute_result"
    }
   ],
   "source": [
    "# Exercício 5 - Abaixo você encontra duas listas. Faça com que cada elemento da listaA seja elevado \n",
    "# ao elemento correspondente na listaB.\n",
    "listaA = [2, 3, 4]\n",
    "listaB = [10, 11, 12]\n",
    "\n",
    "list(map(pow,a,b))"
   ]
  },
  {
   "cell_type": "code",
   "execution_count": 28,
   "id": "f5d38f71",
   "metadata": {},
   "outputs": [
    {
     "data": {
      "text/plain": [
       "[-5, -4, -3, -2, -1]"
      ]
     },
     "execution_count": 28,
     "metadata": {},
     "output_type": "execute_result"
    }
   ],
   "source": [
    "# Exercício 6 - Considerando o range de valores abaixo, use a função filter() para retornar apenas os valores negativos.\n",
    "\n",
    "def Negativo(x):\n",
    "    if x < 0:\n",
    "        return True\n",
    "    else:\n",
    "        return False\n",
    "    \n",
    "list(filter(Negativo,range(-5,5)))"
   ]
  },
  {
   "cell_type": "code",
   "execution_count": 65,
   "id": "bad55ddc",
   "metadata": {},
   "outputs": [
    {
     "data": {
      "text/plain": [
       "[2, 3, 5, 7]"
      ]
     },
     "execution_count": 65,
     "metadata": {},
     "output_type": "execute_result"
    }
   ],
   "source": [
    "# Exercício 7 - Usando a função filter(), encontre os valores que são comuns às duas listas abaixo.\n",
    "a = [1,2,3,5,7,9]\n",
    "b = [2,3,5,6,7,8]\n",
    "\n",
    "list(filter(lambda x : x in a,b))"
   ]
  },
  {
   "cell_type": "code",
   "execution_count": 66,
   "id": "f87cb6e8",
   "metadata": {},
   "outputs": [
    {
     "name": "stdout",
     "output_type": "stream",
     "text": [
      "18/11/2021 21:33\n",
      "18/11/2021 21:33\n"
     ]
    }
   ],
   "source": [
    "# Exercício 8 - Considere o código abaixo. Obtenha o mesmo resultado usando o pacote time. \n",
    "# Não conhece o pacote time? Pesquise!\n",
    "import datetime\n",
    "print (datetime.datetime.now().strftime(\"%d/%m/%Y %H:%M\"))\n",
    "\n",
    "import time\n",
    "print (time.strftime(\"%d/%m/%Y %H:%M\"))"
   ]
  },
  {
   "cell_type": "code",
   "execution_count": 69,
   "id": "96713b35",
   "metadata": {},
   "outputs": [
    {
     "name": "stdout",
     "output_type": "stream",
     "text": [
      "{'a': 4}\n"
     ]
    }
   ],
   "source": [
    "# Exercício 9 - Considere os dois dicionários abaixo. \n",
    "# Crie um terceiro dicionário com as chaves do dicionário 1 e os valores do dicionário 2.\n",
    "dict1 = {'a':1,'b':2}\n",
    "dict2 = {'c':4,'d':5}\n",
    "\n",
    "def TrocaValor(d1,d2):\n",
    "    \n",
    "    dicTemp = {}\n",
    "    \n",
    "    for dk1,dv2 in zip(d1,d2.values()):\n",
    "        dicTemp[dk1] = dv2\n",
    "        return dicTemp\n",
    "\n",
    "dict3 = TrocaValor(dict1,dict2)\n",
    "print(dict3)"
   ]
  },
  {
   "cell_type": "code",
   "execution_count": 36,
   "id": "fe75f5fd",
   "metadata": {},
   "outputs": [
    {
     "name": "stdout",
     "output_type": "stream",
     "text": [
      "6 g\n",
      "7 h\n"
     ]
    }
   ],
   "source": [
    "# Exercício 10 - Considere a lista abaixo e retorne apenas os elementos cujo índice for maior que 5.\n",
    "lista = ['a', 'b', 'c', 'd', 'e', 'f', 'g', 'h']\n",
    "\n",
    "for i,v in enumerate(lista):\n",
    "    if i > 5:\n",
    "        print(i,v)"
   ]
  },
  {
   "cell_type": "code",
   "execution_count": null,
   "id": "4b2c5265",
   "metadata": {},
   "outputs": [],
   "source": []
  }
 ],
 "metadata": {
  "kernelspec": {
   "display_name": "Python 3",
   "language": "python",
   "name": "python3"
  },
  "language_info": {
   "codemirror_mode": {
    "name": "ipython",
    "version": 3
   },
   "file_extension": ".py",
   "mimetype": "text/x-python",
   "name": "python",
   "nbconvert_exporter": "python",
   "pygments_lexer": "ipython3",
   "version": "3.8.8"
  }
 },
 "nbformat": 4,
 "nbformat_minor": 5
}

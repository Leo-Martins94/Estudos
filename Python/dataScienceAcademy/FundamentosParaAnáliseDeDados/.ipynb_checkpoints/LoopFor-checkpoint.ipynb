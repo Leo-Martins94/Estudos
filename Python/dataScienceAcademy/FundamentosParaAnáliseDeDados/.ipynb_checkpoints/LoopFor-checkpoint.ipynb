{
 "cells": [
  {
   "cell_type": "raw",
   "id": "b222c737",
   "metadata": {},
   "source": []
  },
  {
   "cell_type": "markdown",
   "id": "e4d4eba8",
   "metadata": {},
   "source": [
    "## Loop For ##"
   ]
  },
  {
   "cell_type": "code",
   "execution_count": 1,
   "id": "2d5fef1c",
   "metadata": {},
   "outputs": [
    {
     "name": "stdout",
     "output_type": "stream",
     "text": [
      "1\n",
      "2\n"
     ]
    }
   ],
   "source": [
    "#Criando uma tupla e imprimindo cada valor\n",
    "\n",
    "tp = (1 , 2)\n",
    "\n",
    "for i in tp:\n",
    "    print(i)"
   ]
  },
  {
   "cell_type": "code",
   "execution_count": 3,
   "id": "65d4c325",
   "metadata": {},
   "outputs": [
    {
     "name": "stdout",
     "output_type": "stream",
     "text": [
      "Ovo\n",
      "pão\n",
      "carne\n",
      "bacon\n",
      "mostarda\n"
     ]
    }
   ],
   "source": [
    "#Criando uma lista e imprimindo cada um dos seus valores\n",
    "\n",
    "lista = ['Ovo', 'pão', 'carne', 'bacon', 'mostarda']\n",
    "\n",
    "for i in lista:\n",
    "     print(i)"
   ]
  },
  {
   "cell_type": "code",
   "execution_count": 5,
   "id": "8d1529ac",
   "metadata": {},
   "outputs": [
    {
     "name": "stdout",
     "output_type": "stream",
     "text": [
      "0\n",
      "1\n",
      "2\n",
      "3\n",
      "4\n",
      "5\n"
     ]
    }
   ],
   "source": [
    "#imprimindo os valores em um intervalo entre 0 e 5\n",
    "\n",
    "for contador in range(0,6):\n",
    "    print(contador)"
   ]
  },
  {
   "cell_type": "code",
   "execution_count": 6,
   "id": "948f6c0f",
   "metadata": {},
   "outputs": [
    {
     "name": "stdout",
     "output_type": "stream",
     "text": [
      "2\n",
      "4\n",
      "6\n",
      "8\n",
      "10\n"
     ]
    }
   ],
   "source": [
    "#imprimindo numeros pares de uma lista\n",
    "\n",
    "lista = [1 , 2, 3, 4, 5, 6, 7, 8, 9, 10]\n",
    "\n",
    "for i in lista:\n",
    "    if i%2 == 0:\n",
    "        print(i)"
   ]
  },
  {
   "cell_type": "code",
   "execution_count": 7,
   "id": "a0021b55",
   "metadata": {},
   "outputs": [
    {
     "name": "stdout",
     "output_type": "stream",
     "text": [
      "0\n",
      "2\n",
      "4\n",
      "6\n",
      "8\n",
      "10\n",
      "12\n",
      "14\n",
      "16\n",
      "18\n",
      "20\n",
      "22\n",
      "24\n",
      "26\n",
      "28\n",
      "30\n",
      "32\n",
      "34\n",
      "36\n",
      "38\n",
      "40\n",
      "42\n",
      "44\n",
      "46\n",
      "48\n",
      "50\n",
      "52\n",
      "54\n",
      "56\n",
      "58\n",
      "60\n",
      "62\n",
      "64\n",
      "66\n",
      "68\n",
      "70\n",
      "72\n",
      "74\n",
      "76\n",
      "78\n",
      "80\n",
      "82\n",
      "84\n",
      "86\n",
      "88\n",
      "90\n",
      "92\n",
      "94\n",
      "96\n",
      "98\n",
      "100\n",
      "102\n"
     ]
    }
   ],
   "source": [
    "#listando o intervalo de 0 a 102 com intervalo de 2\n",
    "\n",
    "for i in range(0,104,2):\n",
    "    print(i)"
   ]
  },
  {
   "cell_type": "code",
   "execution_count": 8,
   "id": "85d87f7a",
   "metadata": {},
   "outputs": [
    {
     "name": "stdout",
     "output_type": "stream",
     "text": [
      "P\n",
      "y\n",
      "t\n",
      "h\n",
      "o\n",
      "n\n"
     ]
    }
   ],
   "source": [
    "#String sequenciais\n",
    "\n",
    "for st in 'Python':\n",
    "    print(st)"
   ]
  },
  {
   "cell_type": "markdown",
   "id": "bbd7f208",
   "metadata": {},
   "source": [
    "## Loop For Aninhado ##"
   ]
  },
  {
   "cell_type": "code",
   "execution_count": 1,
   "id": "24ecf2b8",
   "metadata": {},
   "outputs": [
    {
     "name": "stdout",
     "output_type": "stream",
     "text": [
      "0\n",
      "1\n",
      "2\n",
      "3\n",
      "4\n",
      "0\n",
      "1\n",
      "2\n",
      "3\n",
      "4\n",
      "0\n",
      "1\n",
      "2\n",
      "3\n",
      "4\n",
      "0\n",
      "1\n",
      "2\n",
      "3\n",
      "4\n",
      "0\n",
      "1\n",
      "2\n",
      "3\n",
      "4\n"
     ]
    }
   ],
   "source": [
    "for i in range(0,5):\n",
    "    for a in range(0,5):\n",
    "        print(a)"
   ]
  },
  {
   "cell_type": "code",
   "execution_count": 2,
   "id": "2f4a3cac",
   "metadata": {},
   "outputs": [
    {
     "name": "stdout",
     "output_type": "stream",
     "text": [
      "250\n"
     ]
    }
   ],
   "source": [
    "listaLoop = [5, 10 ,20, 40, 50]\n",
    "soma_dobro = 0\n",
    "\n",
    "for i in listaLoop:\n",
    "    double_i = i * 2\n",
    "    soma_dobro += double_i\n",
    "\n",
    "print(soma_dobro)"
   ]
  },
  {
   "cell_type": "code",
   "execution_count": 3,
   "id": "abd20f81",
   "metadata": {},
   "outputs": [
    {
     "name": "stdout",
     "output_type": "stream",
     "text": [
      "[1, 3, 5, 7, 9]\n",
      "[2, 4, 6, 8, 10]\n",
      "[10, 20, 30, 40, 50, 60, 70, 80, 90, 100]\n"
     ]
    }
   ],
   "source": [
    "#loop em listas de listas\n",
    "\n",
    "lista = [[1, 3, 5, 7, 9], [2, 4, 6, 8, 10], [10, 20 ,30, 40, 50, 60, 70, 80, 90, 100]]\n",
    "\n",
    "for valor in lista:\n",
    "    print(valor)"
   ]
  },
  {
   "cell_type": "code",
   "execution_count": null,
   "id": "be2e855e",
   "metadata": {},
   "outputs": [],
   "source": []
  }
 ],
 "metadata": {
  "kernelspec": {
   "display_name": "Python 3",
   "language": "python",
   "name": "python3"
  },
  "language_info": {
   "codemirror_mode": {
    "name": "ipython",
    "version": 3
   },
   "file_extension": ".py",
   "mimetype": "text/x-python",
   "name": "python",
   "nbconvert_exporter": "python",
   "pygments_lexer": "ipython3",
   "version": "3.8.8"
  }
 },
 "nbformat": 4,
 "nbformat_minor": 5
}

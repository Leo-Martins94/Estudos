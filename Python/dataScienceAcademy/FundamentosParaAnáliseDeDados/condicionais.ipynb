{
 "cells": [
  {
   "cell_type": "code",
   "execution_count": 4,
   "id": "b16babfd",
   "metadata": {},
   "outputs": [
    {
     "name": "stdout",
     "output_type": "stream",
     "text": [
      "verdadeiro\n"
     ]
    }
   ],
   "source": [
    "#Condifionamento if\n",
    "if 5 > 2 :\n",
    "    print('verdadeiro')"
   ]
  },
  {
   "cell_type": "code",
   "execution_count": 6,
   "id": "72b0d3b2",
   "metadata": {},
   "outputs": [
    {
     "name": "stdout",
     "output_type": "stream",
     "text": [
      "Falso\n"
     ]
    }
   ],
   "source": [
    "#Statament if else\n",
    "if 1 > 2:\n",
    "    print('Verdadeiro')\n",
    "else:\n",
    "    print('Falso')"
   ]
  },
  {
   "cell_type": "code",
   "execution_count": 7,
   "id": "df7e7bc3",
   "metadata": {},
   "outputs": [
    {
     "data": {
      "text/plain": [
       "False"
      ]
     },
     "execution_count": 7,
     "metadata": {},
     "output_type": "execute_result"
    }
   ],
   "source": [
    "3 > 4"
   ]
  },
  {
   "cell_type": "code",
   "execution_count": 9,
   "id": "eec9ca54",
   "metadata": {},
   "outputs": [
    {
     "data": {
      "text/plain": [
       "True"
      ]
     },
     "execution_count": 9,
     "metadata": {},
     "output_type": "execute_result"
    }
   ],
   "source": [
    "6 < 7"
   ]
  },
  {
   "cell_type": "code",
   "execution_count": 10,
   "id": "7867669b",
   "metadata": {},
   "outputs": [
    {
     "name": "stdout",
     "output_type": "stream",
     "text": [
      "Python Funcionando\n"
     ]
    }
   ],
   "source": [
    "if 5 == 5:\n",
    "    print('Python Funcionando')"
   ]
  },
  {
   "cell_type": "code",
   "execution_count": 11,
   "id": "ee6aa646",
   "metadata": {},
   "outputs": [
    {
     "name": "stdout",
     "output_type": "stream",
     "text": [
      "Parece que Python funciona\n"
     ]
    }
   ],
   "source": [
    "if True:\n",
    "    print('Parece que Python funciona')"
   ]
  },
  {
   "cell_type": "markdown",
   "id": "2701dd98",
   "metadata": {},
   "source": [
    "Condicionais Aninhadas"
   ]
  },
  {
   "cell_type": "code",
   "execution_count": 1,
   "id": "0fb488b5",
   "metadata": {},
   "outputs": [
    {
     "name": "stdout",
     "output_type": "stream",
     "text": [
      "Voce pode dirigir\n"
     ]
    }
   ],
   "source": [
    "idade = 18\n",
    "\n",
    "if idade >= 18:\n",
    "    print('Voce pode dirigir')\n",
    "else:\n",
    "    print('Voce ainda não pode dirigir')"
   ]
  },
  {
   "cell_type": "code",
   "execution_count": 5,
   "id": "e96e1cd2",
   "metadata": {},
   "outputs": [
    {
     "name": "stdout",
     "output_type": "stream",
     "text": [
      "Voce não é o Leo\n"
     ]
    }
   ],
   "source": [
    "nome = 'Leon'\n",
    "idade = 18\n",
    "\n",
    "if idade >= 18:\n",
    "    if nome == 'Leo':\n",
    "        print('Acesso liberado')\n",
    "    else:\n",
    "        print('Voce não é o Leo')\n",
    "else:\n",
    "    print('Acesso negado, idade minima não alcançada')\n"
   ]
  },
  {
   "cell_type": "code",
   "execution_count": 6,
   "id": "b215cd3a",
   "metadata": {},
   "outputs": [
    {
     "name": "stdout",
     "output_type": "stream",
     "text": [
      "acesso negado\n"
     ]
    }
   ],
   "source": [
    "nome = 'Leo'\n",
    "idade = 17\n",
    "\n",
    "if idade >= 18 and nome == 'Leo':\n",
    "    print('Acesso Liberado')\n",
    "else:\n",
    "    print('acesso negado')"
   ]
  },
  {
   "cell_type": "code",
   "execution_count": 7,
   "id": "c9a10b94",
   "metadata": {},
   "outputs": [
    {
     "name": "stdout",
     "output_type": "stream",
     "text": [
      "Acesso Liberado\n"
     ]
    }
   ],
   "source": [
    "nome = 'Leo'\n",
    "idade = 17\n",
    "\n",
    "if idade >= 18 or nome =='Leo':\n",
    "    print('Acesso Liberado')\n",
    "else:\n",
    "    print('Acesso Negado')"
   ]
  },
  {
   "cell_type": "markdown",
   "id": "6fe487d2",
   "metadata": {},
   "source": [
    "Elif\n"
   ]
  },
  {
   "cell_type": "code",
   "execution_count": 11,
   "id": "0ea6c247",
   "metadata": {},
   "outputs": [
    {
     "name": "stdout",
     "output_type": "stream",
     "text": [
      "Fará Sol\n"
     ]
    }
   ],
   "source": [
    "diaDaSemana = 'segunda'\n",
    "\n",
    "if (diaDaSemana == 'segunda'):\n",
    "    print('Fará Sol')\n",
    "else:\n",
    "    print('Vai Chover')"
   ]
  },
  {
   "cell_type": "code",
   "execution_count": 12,
   "id": "6b59c46a",
   "metadata": {},
   "outputs": [
    {
     "name": "stdout",
     "output_type": "stream",
     "text": [
      "Irá chover\n"
     ]
    }
   ],
   "source": [
    "diaDaSemana = 'terça'\n",
    "\n",
    "if (diaDaSemana == 'segunda' ):\n",
    "    print('Fará Sol')\n",
    "elif (diaDaSemana == 'terça'):\n",
    "    print('Irá chover')\n",
    "else:\n",
    "    print('Sem previsão de tempo para este dia')"
   ]
  },
  {
   "cell_type": "markdown",
   "id": "225e86a7",
   "metadata": {},
   "source": [
    "Operadores Logicos"
   ]
  },
  {
   "cell_type": "code",
   "execution_count": 13,
   "id": "746db768",
   "metadata": {},
   "outputs": [
    {
     "name": "stdout",
     "output_type": "stream",
     "text": [
      "Pode dirigir\n"
     ]
    }
   ],
   "source": [
    "nome = 'Leo'\n",
    "idade = 18\n",
    "\n",
    "if idade >= 17:\n",
    "    print('Pode dirigir')"
   ]
  },
  {
   "cell_type": "code",
   "execution_count": 15,
   "id": "87b70ceb",
   "metadata": {},
   "outputs": [
    {
     "name": "stdout",
     "output_type": "stream",
     "text": [
      "Acesso Liberado\n"
     ]
    }
   ],
   "source": [
    "if nome == 'Leo' and idade >= 18:\n",
    "    print('Acesso Liberado')"
   ]
  },
  {
   "cell_type": "code",
   "execution_count": 16,
   "id": "e3450839",
   "metadata": {},
   "outputs": [
    {
     "name": "stdout",
     "output_type": "stream",
     "text": [
      "diga a disciplina: geografia\n",
      "Digite a nota final (entre 0 a 100): 85\n",
      "Aprovado\n"
     ]
    }
   ],
   "source": [
    "disciplina = input('diga a disciplina: ')\n",
    "nota_final = int(input('Digite a nota final (entre 0 a 100): '))\n",
    "\n",
    "if disciplina == 'geografia' and nota_final >= 70:\n",
    "    print('Aprovado')\n",
    "else:\n",
    "    print('Reprovado')"
   ]
  },
  {
   "cell_type": "code",
   "execution_count": 18,
   "id": "59bbaf11",
   "metadata": {},
   "outputs": [
    {
     "name": "stdout",
     "output_type": "stream",
     "text": [
      "Dgigita a discipplina: matematica\n",
      "Dgitie a nota final (entre 0 a 100):90\n",
      "Digite o semestre1\n",
      "voce foi aprovado em matematica com media final 90  \n"
     ]
    }
   ],
   "source": [
    "disciplina = input('Dgigita a discipplina: ')\n",
    "nota_final = int(input('Dgitie a nota final (entre 0 a 100):'))\n",
    "semestre = input('Digite o semestre')\n",
    "if disciplina == 'matematica' and nota_final >= 70 and semestre != 1:\n",
    "    print('voce foi aprovado em %s com media final %r  ' %(disciplina, nota_final))\n",
    "else:\n",
    "    print('Reprovado')"
   ]
  },
  {
   "cell_type": "code",
   "execution_count": null,
   "id": "bdca5acb",
   "metadata": {},
   "outputs": [],
   "source": []
  }
 ],
 "metadata": {
  "kernelspec": {
   "display_name": "Python 3",
   "language": "python",
   "name": "python3"
  },
  "language_info": {
   "codemirror_mode": {
    "name": "ipython",
    "version": 3
   },
   "file_extension": ".py",
   "mimetype": "text/x-python",
   "name": "python",
   "nbconvert_exporter": "python",
   "pygments_lexer": "ipython3",
   "version": "3.8.8"
  }
 },
 "nbformat": 4,
 "nbformat_minor": 5
}

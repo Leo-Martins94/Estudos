{
 "cells": [
  {
   "cell_type": "code",
   "execution_count": 10,
   "id": "ab092c34",
   "metadata": {},
   "outputs": [
    {
     "data": {
      "text/plain": [
       "[1, 2, 3, 4, 5, 6, 7, 8, 9, 10]"
      ]
     },
     "execution_count": 10,
     "metadata": {},
     "output_type": "execute_result"
    }
   ],
   "source": [
    "# Exercício 1 - Imprima na tela os números de 1 a 10. Use uma lista para armazenar os números.\n",
    "listaDeNumeros = [1, 2, 3, 4, 5, 6, 7, 8, 9, 10]\n",
    "listaDeNumeros"
   ]
  },
  {
   "cell_type": "code",
   "execution_count": 12,
   "id": "8fcdb78f",
   "metadata": {},
   "outputs": [
    {
     "data": {
      "text/plain": [
       "['Leo', 1, 'Ana', 2, 'Estela']"
      ]
     },
     "execution_count": 12,
     "metadata": {},
     "output_type": "execute_result"
    }
   ],
   "source": [
    "# Exercício 2 - Crie uma lista de 5 objetos e imprima na tela\n",
    "lista5 = ['Leo', 1 , 'Ana', 2, 'Estela']\n",
    "lista5"
   ]
  },
  {
   "cell_type": "code",
   "execution_count": 16,
   "id": "33511334",
   "metadata": {},
   "outputs": [
    {
     "name": "stdout",
     "output_type": "stream",
     "text": [
      "Ana Caroline\n"
     ]
    }
   ],
   "source": [
    "# Exercício 3 - Crie duas strings e concatene as duas em uma terceira string\n",
    "primeira = 'Ana'\n",
    "segunda = 'Caroline'\n",
    "terceira = primeira + ' ' + segunda\n",
    "print(terceira)"
   ]
  },
  {
   "cell_type": "code",
   "execution_count": 17,
   "id": "45635079",
   "metadata": {},
   "outputs": [
    {
     "data": {
      "text/plain": [
       "3"
      ]
     },
     "execution_count": 17,
     "metadata": {},
     "output_type": "execute_result"
    }
   ],
   "source": [
    "# Exercício 4 - Crie uma tupla com os seguintes elementos: 1, 2, 2, 3, 4, 4, 4, 5 e depois utilize a função count do \n",
    "# objeto tupla para verificar quantas vezes o número 4 aparece na tupla\n",
    "tupla = (1 , 2 ,2 , 3, 4, 4, 4, 5)\n",
    "tupla.count(4)"
   ]
  },
  {
   "cell_type": "code",
   "execution_count": 18,
   "id": "303f903d",
   "metadata": {},
   "outputs": [
    {
     "data": {
      "text/plain": [
       "{}"
      ]
     },
     "execution_count": 18,
     "metadata": {},
     "output_type": "execute_result"
    }
   ],
   "source": [
    "# Exercício 5 - Crie um dicionário vazio e imprima na tela\n",
    "dic ={}\n",
    "dic"
   ]
  },
  {
   "cell_type": "code",
   "execution_count": 19,
   "id": "55170e63",
   "metadata": {},
   "outputs": [
    {
     "data": {
      "text/plain": [
       "{1: 'Leo', 2: 'Ana', 3: 'Angelica'}"
      ]
     },
     "execution_count": 19,
     "metadata": {},
     "output_type": "execute_result"
    }
   ],
   "source": [
    "# Exercício 6 - Crie um dicionário com 3 chaves e 3 valores e imprima na tela\n",
    "dic1 = {1:'Leo', 2:'Ana', 3:'Angelica'}\n",
    "dic1"
   ]
  },
  {
   "cell_type": "code",
   "execution_count": 22,
   "id": "32a59e03",
   "metadata": {},
   "outputs": [
    {
     "data": {
      "text/plain": [
       "{1: 'Leo', 2: 'Ana', 3: 'Angelica', 4: 'Julia'}"
      ]
     },
     "execution_count": 22,
     "metadata": {},
     "output_type": "execute_result"
    }
   ],
   "source": [
    "# Exercício 7 - Adicione mais um elemento ao dicionário criado no exercício anterior e imprima na tela\n",
    "dic1.update({4:'Julia'})\n",
    "dic1"
   ]
  },
  {
   "cell_type": "code",
   "execution_count": 23,
   "id": "8c8fa9d7",
   "metadata": {},
   "outputs": [
    {
     "data": {
      "text/plain": [
       "{1: 'Leo', 2: 'Ana', 'lista': [1, 2]}"
      ]
     },
     "execution_count": 23,
     "metadata": {},
     "output_type": "execute_result"
    }
   ],
   "source": [
    "# Exercício 8 - Crie um dicionário com 3 chaves e 3 valores. Um dos valores deve ser uma lista de 2 elementos numéricos. \n",
    "# Imprima o dicionário na tela.\n",
    "dic2 = {1:'Leo', 2:'Ana', 'lista':[1,2]}\n",
    "dic2"
   ]
  },
  {
   "cell_type": "code",
   "execution_count": 24,
   "id": "fb11cd02",
   "metadata": {},
   "outputs": [
    {
     "data": {
      "text/plain": [
       "['Leo', ('Ana', 'Angelica'), {1: 'Celina', 2: 'Paulo'}, 3, 5]"
      ]
     },
     "execution_count": 24,
     "metadata": {},
     "output_type": "execute_result"
    }
   ],
   "source": [
    "# Exercício 9 - Crie uma lista de 4 elementos. O primeiro elemento deve ser uma string, \n",
    "# o segundo uma tupla de 2 elementos, o terceiro um dcionário com 2 chaves e 2 valores e \n",
    "# o quarto elemento um valor do tipo float.\n",
    "# Imprima a lista na tela.\n",
    "lista09 = ['Leo', ('Ana', 'Angelica'), {1:'Celina', 2:'Paulo'}, 3,5]\n",
    "lista09"
   ]
  },
  {
   "cell_type": "code",
   "execution_count": 26,
   "id": "2dd48547",
   "metadata": {},
   "outputs": [
    {
     "data": {
      "text/plain": [
       "'Cientista de Dados '"
      ]
     },
     "execution_count": 26,
     "metadata": {},
     "output_type": "execute_result"
    }
   ],
   "source": [
    "# Exercício 10 - Considere a string abaixo. Imprima na tela apenas os caracteres da posição 1 a 18.\n",
    "frase = 'Cientista de Dados é o profissional mais sexy do século XXI'\n",
    "frase[0:19]"
   ]
  },
  {
   "cell_type": "code",
   "execution_count": null,
   "id": "1e949f32",
   "metadata": {},
   "outputs": [],
   "source": []
  }
 ],
 "metadata": {
  "kernelspec": {
   "display_name": "Python 3",
   "language": "python",
   "name": "python3"
  },
  "language_info": {
   "codemirror_mode": {
    "name": "ipython",
    "version": 3
   },
   "file_extension": ".py",
   "mimetype": "text/x-python",
   "name": "python",
   "nbconvert_exporter": "python",
   "pygments_lexer": "ipython3",
   "version": "3.8.8"
  }
 },
 "nbformat": 4,
 "nbformat_minor": 5
}

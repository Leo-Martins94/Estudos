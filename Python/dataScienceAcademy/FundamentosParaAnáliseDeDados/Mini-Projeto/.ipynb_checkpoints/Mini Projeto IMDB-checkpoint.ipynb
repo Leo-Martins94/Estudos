{
 "cells": [
  {
   "cell_type": "markdown",
   "id": "1c378fb8",
   "metadata": {},
   "source": [
    "Ao aplicar Análise Exploratória de Dados vamos responder a estas 10 perguntas:\n",
    "\n",
    "    1- Quais São as Categorias de Filmes Mais Comuns no IMDB?\n",
    "    2- Qual o Número de Títulos Por Gênero?\n",
    "    3- Qual a Mediana de Avaliação dos Filmes Por Gênero?\n",
    "    4- Qual a Mediana de Avaliação dos Filmes Em Relação ao Ano de Estréia?\n",
    "    5- Qual o Número de Filmes Avaliados Por Gênero Em Relação ao Ano de Estréia?\n",
    "    6- Qual o Filme Com Maior Tempo de Duração? Calcule os Percentis.\n",
    "    7- Qual a Relação Entre Duração e Gênero?\n",
    "    8- Qual o Número de Filmes Produzidos Por País?\n",
    "    9- Quais São os Top 10 Melhores Filmes?\n",
    "    10- Quais São os Top 10 Piores Filmes?\n"
   ]
  },
  {
   "cell_type": "code",
   "execution_count": null,
   "id": "d290aa59",
   "metadata": {},
   "outputs": [],
   "source": [
    "#Intala o pacote\n",
    "!pip install -q imdb-sqlite\n",
    "\n",
    "#https://pypi.org/project/pycountry\n",
    "!pip install -q pycountry"
   ]
  },
  {
   "cell_type": "code",
   "execution_count": null,
   "id": "b91ad93a",
   "metadata": {},
   "outputs": [],
   "source": [
    "#Imports\n",
    "import re\n",
    "import time\n",
    "import pycountry\n",
    "import numpy as np\n",
    "import pandas as pd\n",
    "import matplotlib.pyplot as plt\n",
    "import seaborn as sns\n",
    "from matplotlib import cm\n",
    "from sklearn.feature_extraction.text import CountVectorizer\n",
    "import warnings\n",
    "warnings.filterwarnings(\"ignore\")\n",
    "sns.set_theme(style = \"whitegrid\")"
   ]
  },
  {
   "cell_type": "markdown",
   "id": "ac0f8a5b",
   "metadata": {},
   "source": [
    "# Carregando os Dados"
   ]
  },
  {
   "cell_type": "code",
   "execution_count": null,
   "id": "53838dd8",
   "metadata": {},
   "outputs": [
    {
     "name": "stdout",
     "output_type": "stream",
     "text": [
      "2022-02-12 23:45:36,936 GET https://datasets.imdbws.com/name.basics.tsv.gz -> downloads/name.basics.tsv.gz\n",
      "2022-02-13 00:06:42,980 GET https://datasets.imdbws.com/title.basics.tsv.gz -> downloads/title.basics.tsv.gz\n"
     ]
    }
   ],
   "source": [
    "%%time\n",
    "!imdb-sqlite"
   ]
  },
  {
   "cell_type": "code",
   "execution_count": null,
   "id": "58fe6dee",
   "metadata": {},
   "outputs": [],
   "source": [
    "#Conecta no banco de dados\n",
    "conn = sqlite3.connect(\"imdb.db\")"
   ]
  },
  {
   "cell_type": "code",
   "execution_count": null,
   "id": "ee1c41af",
   "metadata": {},
   "outputs": [],
   "source": [
    "#Extrai a lista de tabelas\n",
    "tabelas = pd.read_sql_query(\"SELECT NAME AS 'Table_Name' FROM sqlite_master WHERE type = 'table'\",conn)"
   ]
  },
  {
   "cell_type": "code",
   "execution_count": null,
   "id": "515a6ea7",
   "metadata": {},
   "outputs": [],
   "source": [
    "#Tipo do objeto\n",
    "type(tabelas)"
   ]
  },
  {
   "cell_type": "code",
   "execution_count": null,
   "id": "f570774c",
   "metadata": {},
   "outputs": [],
   "source": [
    "#Visualiza o resultado\n",
    "tabelas.head()"
   ]
  },
  {
   "cell_type": "code",
   "execution_count": null,
   "id": "d7794e82",
   "metadata": {},
   "outputs": [],
   "source": [
    "#Convertendo o dataframe em uma lista\n",
    "tableas - tabelas[\"Table_Name\"].values.tolist()"
   ]
  },
  {
   "cell_type": "code",
   "execution_count": null,
   "id": "56f4543a",
   "metadata": {},
   "outputs": [],
   "source": [
    "#Percorendo a lista de tabelas no banco de dados e extrair o esquema de cada uma\n",
    "for tabela in tabelas:\n",
    "    consulta = \"PRAGMA TABLE_INFO({})\".format(tabela)\n",
    "    resultado = pd.read_sql_query(consulta, conn)\n",
    "    print(\"Esquema da tabela:\", tabela)\n",
    "    display(resultado)\n",
    "    print(\"-\"*100)\n",
    "    print(\"\\n\")"
   ]
  },
  {
   "cell_type": "markdown",
   "id": "cba5c00d",
   "metadata": {},
   "source": [
    "# 1 - Quais São as Categorias de Filmes Mais Comuns no IMDB?"
   ]
  },
  {
   "cell_type": "code",
   "execution_count": null,
   "id": "ba76e4e7",
   "metadata": {},
   "outputs": [],
   "source": [
    "# Cria a consulta SQL\n",
    "consulta1 = '''\n",
    "            SELECT type, COUNT(*) AS COUNT FROM titles GROUP BY type\n",
    "            '''"
   ]
  },
  {
   "cell_type": "code",
   "execution_count": null,
   "id": "1568d624",
   "metadata": {},
   "outputs": [],
   "source": [
    "# Extrai o resultado\n",
    "reasultado1 = pd.read_sql_query(consulta1, conn)"
   ]
  },
  {
   "cell_type": "code",
   "execution_count": null,
   "id": "47cfa96b",
   "metadata": {},
   "outputs": [],
   "source": [
    "#Visualiza o resultado\n",
    "display(resultado1)"
   ]
  },
  {
   "cell_type": "code",
   "execution_count": null,
   "id": "81604cb0",
   "metadata": {},
   "outputs": [],
   "source": [
    "# Calculando o percentual para cda tipo\n",
    "resultado1['percentual'] = (resultado1['COUNT'] / resultado1['COUNT'].sum())*100"
   ]
  },
  {
   "cell_type": "code",
   "execution_count": null,
   "id": "767a9497",
   "metadata": {},
   "outputs": [],
   "source": [
    "#Visualiza o resultado\n",
    "display(resultado1)"
   ]
  },
  {
   "cell_type": "code",
   "execution_count": null,
   "id": "f698e887",
   "metadata": {},
   "outputs": [],
   "source": [
    "# Criando um gráfico com apenas 4 categorias:\n",
    "# As 3 categorias com mais titulos e 1 categoria com todo o restante\n",
    "\n",
    "#Cria um dicionário vazio\n",
    "others = {}\n",
    "\n",
    "# Filtra o percentual em 5% e soma o total\n",
    "others['COUNT'] = resultado1[resultado1['percentual']<5]['COUNT'].sum()\n",
    "\n",
    "#Grava o percentual\n",
    "others['percentual'] = resultado1[resultado1['percentual']<5]['percentual'].sum()\n",
    "\n",
    "#Ajuste o nome\n",
    "others['type'] = 'others'"
   ]
  },
  {
   "cell_type": "code",
   "execution_count": null,
   "id": "74496ea7",
   "metadata": {},
   "outputs": [],
   "source": [
    "#Visualiza\n",
    "others"
   ]
  },
  {
   "cell_type": "code",
   "execution_count": null,
   "id": "0e0ec214",
   "metadata": {},
   "outputs": [],
   "source": [
    "# Filtra o dataframe de resultado\n",
    "resultado1 = resultado1[resultado1['percentual']>5]"
   ]
  },
  {
   "cell_type": "code",
   "execution_count": null,
   "id": "e440e08d",
   "metadata": {},
   "outputs": [],
   "source": [
    "#Append com o dataframe de outras categorias\n",
    "resultado1 = resultado1.append(others, ignore_index = True)"
   ]
  },
  {
   "cell_type": "code",
   "execution_count": null,
   "id": "0060bd54",
   "metadata": {},
   "outputs": [],
   "source": [
    "#Ordena o resultado\n",
    "resultado1 = resultado1.sort_values(by = 'COUNT', ascending = False)"
   ]
  },
  {
   "cell_type": "code",
   "execution_count": null,
   "id": "4eb2764f",
   "metadata": {
    "collapsed": true
   },
   "outputs": [],
   "source": [
    "#Visualiza\n",
    "resultado1.head()"
   ]
  },
  {
   "cell_type": "code",
   "execution_count": null,
   "id": "f3dacd10",
   "metadata": {},
   "outputs": [],
   "source": [
    "#Ajusta os labels\n",
    "labels = [str(resultado1['type'][i])+' '+'['+str(round(resultado1['percentual'][i],2))+'%'+']' for i in resultado1.index]"
   ]
  },
  {
   "cell_type": "code",
   "execution_count": null,
   "id": "23ef9f6f",
   "metadata": {},
   "outputs": [],
   "source": [
    "#Plot\n",
    "\n",
    "#Mapa de cores\n",
    "#https://matplotlib.org/stable/tutorials/colors/colormaps.html\n",
    "cs = cm.Set3(np.arange(100))\n",
    "\n",
    "#Cria a figura\n",
    "f = plt.figure()\n",
    "\n",
    "#Pie Plot\n",
    "plt.pie(resultado1['COUNT'], labeldistance = 1, radius = 3, colors = cs, wedgeprops = dict(width = 0.8))\n",
    "plt.legend(labels = labels, loc = 'center', prop = {'size':12})\n",
    "plt.title(\"Distribuição de Títulos\", loc = 'Center', fontdict = {'fontsize':20,'fontweight':20})\n",
    "plt.show()"
   ]
  },
  {
   "cell_type": "markdown",
   "id": "7a5d9b64",
   "metadata": {},
   "source": [
    "# 2 - Qual o Número de Títulos Por Gênero?"
   ]
  },
  {
   "cell_type": "code",
   "execution_count": null,
   "id": "98f167bd",
   "metadata": {},
   "outputs": [],
   "source": [
    "#Cria a consulta SQL\n",
    "consulta2 = '''\n",
    "            SELECT genres, COUNT(*) FROM titles WHERE type = 'movie' GROUP BY genres\n",
    "            '''"
   ]
  },
  {
   "cell_type": "code",
   "execution_count": null,
   "id": "da41895e",
   "metadata": {},
   "outputs": [],
   "source": [
    "#Resultado\n",
    "resultado2 = pd.read_sql_query(consulta2, conn)"
   ]
  },
  {
   "cell_type": "code",
   "execution_count": null,
   "id": "ffa4c802",
   "metadata": {},
   "outputs": [],
   "source": [
    "#Visualiza o resultado\n",
    "display(resultado2)"
   ]
  },
  {
   "cell_type": "code",
   "execution_count": null,
   "id": "d16ae771",
   "metadata": {},
   "outputs": [],
   "source": [
    "# Converte as strings para minúsculo\n",
    "resultado2['genres'] = resultado2['genres'].str.lower().values"
   ]
  },
  {
   "cell_type": "code",
   "execution_count": null,
   "id": "c560e9dc",
   "metadata": {},
   "outputs": [],
   "source": [
    "#Remove valores NA (ausentes)\n",
    "temp = resultado2['genres'].dropna()"
   ]
  },
  {
   "cell_type": "code",
   "execution_count": null,
   "id": "5d814f0b",
   "metadata": {},
   "outputs": [],
   "source": [
    "# Vamo criar um vetor usando expressão regular para filtrar as strings\n",
    "\n",
    "#https://docs.python.org/3.8/library/re.html\n",
    "padrao = '(?u)\\\\b[\\\\w-]+\\\\b'\n",
    "\n",
    "#https://scikit-learn.org/stable/modules/generated/sklearn.feature_extraction.text.CountVectorizer.html\n",
    "vetor = CountVectorizer(token_pattern = padrao, analyzer = 'word').fit(temp)"
   ]
  },
  {
   "cell_type": "code",
   "execution_count": null,
   "id": "16ad6bf5",
   "metadata": {},
   "outputs": [],
   "source": [
    "type(vetor)"
   ]
  },
  {
   "cell_type": "code",
   "execution_count": null,
   "id": "de4c003e",
   "metadata": {},
   "outputs": [],
   "source": [
    "# Aplica a vetorização ao dataset sem valores NA\n",
    "bag_generos = vetor.transform(temp)"
   ]
  },
  {
   "cell_type": "code",
   "execution_count": null,
   "id": "3e91bb20",
   "metadata": {},
   "outputs": [],
   "source": [
    "type(bag_generos)"
   ]
  },
  {
   "cell_type": "code",
   "execution_count": null,
   "id": "19e45405",
   "metadata": {},
   "outputs": [],
   "source": [
    "# Retorna generos únicos\n",
    "generos_unicos = vetor.get_feature_names()"
   ]
  },
  {
   "cell_type": "code",
   "execution_count": null,
   "id": "39301b9b",
   "metadata": {},
   "outputs": [],
   "source": [
    "#Cria o dataframe de generos\n",
    "generos = pd.DataFrame(bag_generos.todense(), columns = generos_unicos, index = temp.index)"
   ]
  },
  {
   "cell_type": "code",
   "execution_count": null,
   "id": "b043be08",
   "metadata": {},
   "outputs": [],
   "source": [
    "#Visualiza\n",
    "generos.info()"
   ]
  },
  {
   "cell_type": "code",
   "execution_count": null,
   "id": "f9244fbe",
   "metadata": {},
   "outputs": [],
   "source": [
    "#Drop da coluna n\n",
    "generos = generos.drop(columns = 'n', axis=0)"
   ]
  },
  {
   "cell_type": "code",
   "execution_count": null,
   "id": "466560c7",
   "metadata": {},
   "outputs": [],
   "source": [
    "#Calcula o percentual\n",
    "generos_percentual = 100 * pd.Series(generos.)"
   ]
  },
  {
   "cell_type": "code",
   "execution_count": null,
   "id": "90bb5531",
   "metadata": {},
   "outputs": [],
   "source": []
  },
  {
   "cell_type": "code",
   "execution_count": null,
   "id": "0ecb0b95",
   "metadata": {},
   "outputs": [],
   "source": []
  },
  {
   "cell_type": "code",
   "execution_count": null,
   "id": "0a139fb8",
   "metadata": {},
   "outputs": [],
   "source": []
  },
  {
   "cell_type": "code",
   "execution_count": null,
   "id": "ba796232",
   "metadata": {},
   "outputs": [],
   "source": []
  },
  {
   "cell_type": "code",
   "execution_count": null,
   "id": "24e320c2",
   "metadata": {},
   "outputs": [],
   "source": []
  },
  {
   "cell_type": "code",
   "execution_count": null,
   "id": "d027a708",
   "metadata": {},
   "outputs": [],
   "source": []
  },
  {
   "cell_type": "code",
   "execution_count": null,
   "id": "ac3ab618",
   "metadata": {},
   "outputs": [],
   "source": []
  },
  {
   "cell_type": "code",
   "execution_count": null,
   "id": "0d4f1671",
   "metadata": {},
   "outputs": [],
   "source": []
  },
  {
   "cell_type": "code",
   "execution_count": null,
   "id": "9b880a61",
   "metadata": {},
   "outputs": [],
   "source": []
  },
  {
   "cell_type": "code",
   "execution_count": null,
   "id": "e14f81a6",
   "metadata": {},
   "outputs": [],
   "source": []
  },
  {
   "cell_type": "code",
   "execution_count": null,
   "id": "5814e3f4",
   "metadata": {},
   "outputs": [],
   "source": []
  }
 ],
 "metadata": {
  "kernelspec": {
   "display_name": "Python 3",
   "language": "python",
   "name": "python3"
  },
  "language_info": {
   "codemirror_mode": {
    "name": "ipython",
    "version": 3
   },
   "file_extension": ".py",
   "mimetype": "text/x-python",
   "name": "python",
   "nbconvert_exporter": "python",
   "pygments_lexer": "ipython3",
   "version": "3.8.8"
  }
 },
 "nbformat": 4,
 "nbformat_minor": 5
}

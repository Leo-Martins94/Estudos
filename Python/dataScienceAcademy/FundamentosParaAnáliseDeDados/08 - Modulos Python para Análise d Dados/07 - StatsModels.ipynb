{
 "cells": [
  {
   "cell_type": "markdown",
   "id": "fd819118",
   "metadata": {},
   "source": [
    "# Statsmodels"
   ]
  },
  {
   "cell_type": "markdown",
   "id": "a3e0f634",
   "metadata": {},
   "source": [
    "### Linear Regression Models"
   ]
  },
  {
   "cell_type": "code",
   "execution_count": 1,
   "id": "58bbbdb3",
   "metadata": {},
   "outputs": [],
   "source": [
    "#Para visualização de gráficos\n",
    "from pylab import *\n",
    "%matplotlib inline"
   ]
  },
  {
   "cell_type": "code",
   "execution_count": 2,
   "id": "f5df36ae",
   "metadata": {},
   "outputs": [],
   "source": [
    "#Importando os modulos\n",
    "import numpy as np\n",
    "import pandas as pd\n",
    "import statsmodels as st\n",
    "import sys\n",
    "import warnings\n",
    "if not sys.warnoptions:\n",
    "    warnings.simplefilter(\"ignore\")\n",
    "warnings.simplefilter(action = 'ignore', category = FutureWarning)\n",
    "warnings.filterwarnings(action = 'ignore', category = FutureWarning)\n",
    "warnings.filterwarnings('ignore')\n",
    "import statsmodels.api as sm\n",
    "from statsmodels.sandbox.regression.predstd import wls_prediction_std\n",
    "np.random.seed(9876789)"
   ]
  },
  {
   "cell_type": "code",
   "execution_count": 3,
   "id": "7cf44878",
   "metadata": {},
   "outputs": [
    {
     "data": {
      "text/plain": [
       "'1.21.3'"
      ]
     },
     "execution_count": 3,
     "metadata": {},
     "output_type": "execute_result"
    }
   ],
   "source": [
    "np.__version__"
   ]
  },
  {
   "cell_type": "code",
   "execution_count": 4,
   "id": "da5b3e8a",
   "metadata": {},
   "outputs": [
    {
     "data": {
      "text/plain": [
       "'1.3.4'"
      ]
     },
     "execution_count": 4,
     "metadata": {},
     "output_type": "execute_result"
    }
   ],
   "source": [
    "pd.__version__"
   ]
  },
  {
   "cell_type": "code",
   "execution_count": 5,
   "id": "2f703517",
   "metadata": {},
   "outputs": [
    {
     "data": {
      "text/plain": [
       "'0.12.2'"
      ]
     },
     "execution_count": 5,
     "metadata": {},
     "output_type": "execute_result"
    }
   ],
   "source": [
    "st.__version__"
   ]
  },
  {
   "cell_type": "code",
   "execution_count": 12,
   "id": "a60775a1",
   "metadata": {},
   "outputs": [],
   "source": [
    "#Criando dados artificiais\n",
    "nsample = 100\n",
    "x = np.linspace(0, 10, 100)\n",
    "X = np.column_stack((x, x**2))\n",
    "beta = np.array([1, 0.1, 10])\n",
    "e = np.random.normal(size = nsample)"
   ]
  },
  {
   "cell_type": "code",
   "execution_count": 14,
   "id": "069ee995",
   "metadata": {},
   "outputs": [],
   "source": [
    "x = sm.add_constant(X)\n",
    "y = np.dot(x, beta) + e"
   ]
  },
  {
   "cell_type": "code",
   "execution_count": 15,
   "id": "3c9600ab",
   "metadata": {},
   "outputs": [
    {
     "name": "stdout",
     "output_type": "stream",
     "text": [
      "                            OLS Regression Results                            \n",
      "==============================================================================\n",
      "Dep. Variable:                      y   R-squared:                       1.000\n",
      "Model:                            OLS   Adj. R-squared:                  1.000\n",
      "Method:                 Least Squares   F-statistic:                 5.000e+06\n",
      "Date:                Wed, 23 Feb 2022   Prob (F-statistic):          7.20e-244\n",
      "Time:                        13:38:02   Log-Likelihood:                -135.63\n",
      "No. Observations:                 100   AIC:                             277.3\n",
      "Df Residuals:                      97   BIC:                             285.1\n",
      "Df Model:                           2                                         \n",
      "Covariance Type:            nonrobust                                         \n",
      "==============================================================================\n",
      "                 coef    std err          t      P>|t|      [0.025      0.975]\n",
      "------------------------------------------------------------------------------\n",
      "const          1.0897      0.280      3.885      0.000       0.533       1.646\n",
      "x1             0.0637      0.130      0.492      0.624      -0.194       0.321\n",
      "x2            10.0029      0.013    797.439      0.000       9.978      10.028\n",
      "==============================================================================\n",
      "Omnibus:                        2.783   Durbin-Watson:                   2.249\n",
      "Prob(Omnibus):                  0.249   Jarque-Bera (JB):                2.092\n",
      "Skew:                          -0.193   Prob(JB):                        0.351\n",
      "Kurtosis:                       2.405   Cond. No.                         144.\n",
      "==============================================================================\n",
      "\n",
      "Notes:\n",
      "[1] Standard Errors assume that the covariance matrix of the errors is correctly specified.\n"
     ]
    }
   ],
   "source": [
    "model = sm.OLS(y,x)\n",
    "results = model.fit()\n",
    "print(results.summary())"
   ]
  },
  {
   "cell_type": "code",
   "execution_count": 16,
   "id": "ac011866",
   "metadata": {},
   "outputs": [
    {
     "name": "stdout",
     "output_type": "stream",
     "text": [
      "Parameters:  [ 1.08966139  0.06373247 10.00293808]\n",
      "R2 0.9999903004590601\n"
     ]
    }
   ],
   "source": [
    "print('Parameters: ', results.params)\n",
    "print('R2', results.rsquared)"
   ]
  },
  {
   "cell_type": "code",
   "execution_count": 20,
   "id": "9cfadec6",
   "metadata": {},
   "outputs": [
    {
     "name": "stdout",
     "output_type": "stream",
     "text": [
      "                                 OLS Regression Results                                \n",
      "=======================================================================================\n",
      "Dep. Variable:                      y   R-squared (uncentered):                   0.885\n",
      "Model:                            OLS   Adj. R-squared (uncentered):              0.882\n",
      "Method:                 Least Squares   F-statistic:                              376.0\n",
      "Date:                Wed, 23 Feb 2022   Prob (F-statistic):                    1.24e-24\n",
      "Time:                        13:39:40   Log-Likelihood:                         -127.08\n",
      "No. Observations:                  50   AIC:                                      256.2\n",
      "Df Residuals:                      49   BIC:                                      258.1\n",
      "Df Model:                           1                                                  \n",
      "Covariance Type:            nonrobust                                                  \n",
      "==============================================================================\n",
      "                 coef    std err          t      P>|t|      [0.025      0.975]\n",
      "------------------------------------------------------------------------------\n",
      "x1             0.7335      0.038     19.391      0.000       0.658       0.810\n",
      "==============================================================================\n",
      "Omnibus:                        6.916   Durbin-Watson:                   0.055\n",
      "Prob(Omnibus):                  0.031   Jarque-Bera (JB):                3.335\n",
      "Skew:                          -0.383   Prob(JB):                        0.189\n",
      "Kurtosis:                       1.993   Cond. No.                         1.00\n",
      "==============================================================================\n",
      "\n",
      "Notes:\n",
      "[1] R² is computed without centering (uncentered) since the model does not contain a constant.\n",
      "[2] Standard Errors assume that the covariance matrix of the errors is correctly specified.\n"
     ]
    }
   ],
   "source": [
    "nsample = 50\n",
    "sig = 0.5\n",
    "x = np.linspace(0, 20, nsample)\n",
    "X = np.column_stack((x, np.sin(x), (x - 5) **2, np.ones(nsample)))\n",
    "beta = [0.5, 0.5, -0.02, 5,]\n",
    "\n",
    "y_true = np.dot(X, beta)\n",
    "y = y_true + sig * np.random.normal(size = nsample)\n",
    "\n",
    "res = sm.OLS(y, x).fit()\n",
    "print(res.summary())"
   ]
  },
  {
   "cell_type": "code",
   "execution_count": 21,
   "id": "3920b7d3",
   "metadata": {},
   "outputs": [
    {
     "name": "stdout",
     "output_type": "stream",
     "text": [
      "Parameters:  [0.73351854]\n",
      "Standard errors:  [0.0378272]\n",
      "Predicted values:  [ 0.          0.29939532  0.59879064  0.89818597  1.19758129  1.49697661\n",
      "  1.79637193  2.09576725  2.39516257  2.6945579   2.99395322  3.29334854\n",
      "  3.59274386  3.89213918  4.1915345   4.49092983  4.79032515  5.08972047\n",
      "  5.38911579  5.68851111  5.98790644  6.28730176  6.58669708  6.8860924\n",
      "  7.18548772  7.48488304  7.78427837  8.08367369  8.38306901  8.68246433\n",
      "  8.98185965  9.28125498  9.5806503   9.88004562 10.17944094 10.47883626\n",
      " 10.77823158 11.07762691 11.37702223 11.67641755 11.97581287 12.27520819\n",
      " 12.57460351 12.87399884 13.17339416 13.47278948 13.7721848  14.07158012\n",
      " 14.37097545 14.67037077]\n"
     ]
    }
   ],
   "source": [
    "print('Parameters: ', res.params)\n",
    "print('Standard errors: ', res.bse)\n",
    "print('Predicted values: ', res.predict())"
   ]
  },
  {
   "cell_type": "code",
   "execution_count": 23,
   "id": "6b25012b",
   "metadata": {},
   "outputs": [
    {
     "data": {
      "text/plain": [
       "<matplotlib.legend.Legend at 0x7f0ce4ab6220>"
      ]
     },
     "execution_count": 23,
     "metadata": {},
     "output_type": "execute_result"
    },
    {
     "data": {
      "image/png": "[encoded data removed]",
      "text/plain": [
       "<Figure size 576x432 with 1 Axes>"
      ]
     },
     "metadata": {
      "needs_background": "light"
     },
     "output_type": "display_data"
    }
   ],
   "source": [
    "prstd, iv_1, iv_u = wls_prediction_std(res)\n",
    "\n",
    "fig, ax = plt.subplots(figsize = (8, 6))\n",
    "\n",
    "ax.plot(x, y, 'o', label = \"data\")\n",
    "ax.plot(x, y_true, 'b-', label = \"True\")\n",
    "ax.plot(x, res.fittedvalues, 'r--.', label = \"ols\")\n",
    "ax.plot(x, iv_u, 'r--')\n",
    "ax.plot(x, iv_1, 'r--')\n",
    "ax.legend(loc='best')"
   ]
  },
  {
   "cell_type": "markdown",
   "id": "8529af0e",
   "metadata": {},
   "source": [
    "### Time-Series Analysis"
   ]
  },
  {
   "cell_type": "code",
   "execution_count": 24,
   "id": "9d4e1c0e",
   "metadata": {},
   "outputs": [],
   "source": [
    "from statsmodels.tsa.arima_process import arma_generate_sample"
   ]
  },
  {
   "cell_type": "code",
   "execution_count": 26,
   "id": "0d826363",
   "metadata": {},
   "outputs": [],
   "source": [
    "#Gerando dados\n",
    "np.random.seed(12345)\n",
    "arparms = np.array([.75, -.25])\n",
    "maparams = np.array([.65, .35])"
   ]
  },
  {
   "cell_type": "code",
   "execution_count": 27,
   "id": "8863ff24",
   "metadata": {},
   "outputs": [],
   "source": [
    "#Parâmetros\n",
    "arparms = np.r_[1, -arparms]\n",
    "maparam = np.r_[1, maparams]\n",
    "nobs = 250\n",
    "y = arma_generate_sample(arparms, maparams, nobs)"
   ]
  },
  {
   "cell_type": "code",
   "execution_count": 28,
   "id": "a2f35879",
   "metadata": {},
   "outputs": [
    {
     "name": "stderr",
     "output_type": "stream",
     "text": [
      "/home/lion/anaconda3/lib/python3.8/site-packages/statsmodels/tsa/base/tsa_model.py:524: ValueWarning: No frequency information was provided, so inferred frequency M will be used.\n",
      "  warnings.warn('No frequency information was'\n"
     ]
    }
   ],
   "source": [
    "dates = sm.tsa.datetools.dates_from_range('1980m1', length = nobs)\n",
    "y = pd.Series(y, index = dates)\n",
    "arma_mod = sm.tsa.ARMA(y, order = (2,2))\n",
    "arma_res = arma_mod.fit(trend = 'nc', disp = -1)"
   ]
  },
  {
   "cell_type": "code",
   "execution_count": 29,
   "id": "784ab0da",
   "metadata": {},
   "outputs": [
    {
     "name": "stdout",
     "output_type": "stream",
     "text": [
      "                              ARMA Model Results                              \n",
      "==============================================================================\n",
      "Dep. Variable:                      y   No. Observations:                  250\n",
      "Model:                     ARMA(2, 2)   Log Likelihood                -245.887\n",
      "Method:                       css-mle   S.D. of innovations              0.645\n",
      "Date:                Wed, 23 Feb 2022   AIC                            501.773\n",
      "Time:                        13:55:18   BIC                            519.381\n",
      "Sample:                    01-31-1980   HQIC                           508.860\n",
      "                         - 10-31-2000                                         \n",
      "==============================================================================\n",
      "                 coef    std err          z      P>|z|      [0.025      0.975]\n",
      "------------------------------------------------------------------------------\n",
      "ar.L1.y        0.8411      0.403      2.089      0.037       0.052       1.630\n",
      "ar.L2.y       -0.2693      0.247     -1.092      0.275      -0.753       0.214\n",
      "ma.L1.y        0.5352      0.412      1.299      0.194      -0.273       1.343\n",
      "ma.L2.y        0.0157      0.306      0.051      0.959      -0.585       0.616\n",
      "                                    Roots                                    \n",
      "=============================================================================\n",
      "                  Real          Imaginary           Modulus         Frequency\n",
      "-----------------------------------------------------------------------------\n",
      "AR.1            1.5618           -1.1289j            1.9271           -0.0996\n",
      "AR.2            1.5618           +1.1289j            1.9271            0.0996\n",
      "MA.1           -1.9835           +0.0000j            1.9835            0.5000\n",
      "MA.2          -32.1814           +0.0000j           32.1814            0.5000\n",
      "-----------------------------------------------------------------------------\n"
     ]
    }
   ],
   "source": [
    "print(arma_res.summary())"
   ]
  },
  {
   "cell_type": "markdown",
   "id": "d0b5da5c",
   "metadata": {},
   "source": [
    "# Fim"
   ]
  },
  {
   "cell_type": "code",
   "execution_count": null,
   "id": "1e601030",
   "metadata": {},
   "outputs": [],
   "source": []
  }
 ],
 "metadata": {
  "kernelspec": {
   "display_name": "Python 3",
   "language": "python",
   "name": "python3"
  },
  "language_info": {
   "codemirror_mode": {
    "name": "ipython",
    "version": 3
   },
   "file_extension": ".py",
   "mimetype": "text/x-python",
   "name": "python",
   "nbconvert_exporter": "python",
   "pygments_lexer": "ipython3",
   "version": "3.8.8"
  }
 },
 "nbformat": 4,
 "nbformat_minor": 5
}

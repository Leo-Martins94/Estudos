{
 "cells": [
  {
   "cell_type": "markdown",
   "id": "2c44cb31",
   "metadata": {},
   "source": [
    "# SciPy"
   ]
  },
  {
   "cell_type": "markdown",
   "id": "fa9fd7f9",
   "metadata": {},
   "source": [
    "## Processamento de Imagens"
   ]
  },
  {
   "cell_type": "code",
   "execution_count": 1,
   "id": "285cb7d0",
   "metadata": {},
   "outputs": [
    {
     "data": {
      "text/plain": [
       "'1.6.2'"
      ]
     },
     "execution_count": 1,
     "metadata": {},
     "output_type": "execute_result"
    }
   ],
   "source": [
    "import scipy\n",
    "scipy.__version__"
   ]
  },
  {
   "cell_type": "code",
   "execution_count": 2,
   "id": "41c76823",
   "metadata": {},
   "outputs": [
    {
     "data": {
      "text/plain": [
       "'3.5.1'"
      ]
     },
     "execution_count": 2,
     "metadata": {},
     "output_type": "execute_result"
    }
   ],
   "source": [
    "import matplotlib\n",
    "matplotlib.__version__"
   ]
  },
  {
   "cell_type": "code",
   "execution_count": 4,
   "id": "acd122e2",
   "metadata": {},
   "outputs": [
    {
     "data": {
      "text/plain": [
       "array([[[0.9607843, 0.9647059, 0.9647059],\n",
       "        [0.9607843, 0.9647059, 0.9647059],\n",
       "        [0.9607843, 0.9647059, 0.9647059],\n",
       "        ...,\n",
       "        [0.9607843, 0.9647059, 0.9647059],\n",
       "        [0.9607843, 0.9647059, 0.9647059],\n",
       "        [0.9607843, 0.9647059, 0.9647059]],\n",
       "\n",
       "       [[0.9607843, 0.9647059, 0.9647059],\n",
       "        [0.9607843, 0.9647059, 0.9647059],\n",
       "        [0.9607843, 0.9647059, 0.9647059],\n",
       "        ...,\n",
       "        [0.9607843, 0.9647059, 0.9647059],\n",
       "        [0.9607843, 0.9647059, 0.9647059],\n",
       "        [0.9607843, 0.9647059, 0.9647059]],\n",
       "\n",
       "       [[0.9607843, 0.9647059, 0.9647059],\n",
       "        [0.9607843, 0.9647059, 0.9647059],\n",
       "        [0.9607843, 0.9647059, 0.9647059],\n",
       "        ...,\n",
       "        [0.9607843, 0.9647059, 0.9647059],\n",
       "        [0.9607843, 0.9647059, 0.9647059],\n",
       "        [0.9607843, 0.9647059, 0.9647059]],\n",
       "\n",
       "       ...,\n",
       "\n",
       "       [[0.9607843, 0.9647059, 0.9647059],\n",
       "        [0.9607843, 0.9647059, 0.9647059],\n",
       "        [0.9607843, 0.9647059, 0.9647059],\n",
       "        ...,\n",
       "        [0.9607843, 0.9647059, 0.9647059],\n",
       "        [0.9607843, 0.9647059, 0.9647059],\n",
       "        [0.9607843, 0.9647059, 0.9647059]],\n",
       "\n",
       "       [[0.9607843, 0.9647059, 0.9647059],\n",
       "        [0.9607843, 0.9647059, 0.9647059],\n",
       "        [0.9607843, 0.9647059, 0.9647059],\n",
       "        ...,\n",
       "        [0.9607843, 0.9647059, 0.9647059],\n",
       "        [0.9607843, 0.9647059, 0.9647059],\n",
       "        [0.9607843, 0.9647059, 0.9647059]],\n",
       "\n",
       "       [[0.9607843, 0.9647059, 0.9647059],\n",
       "        [0.9607843, 0.9647059, 0.9647059],\n",
       "        [0.9607843, 0.9647059, 0.9647059],\n",
       "        ...,\n",
       "        [0.9607843, 0.9647059, 0.9647059],\n",
       "        [0.9607843, 0.9647059, 0.9647059],\n",
       "        [0.9607843, 0.9647059, 0.9647059]]], dtype=float32)"
      ]
     },
     "execution_count": 4,
     "metadata": {},
     "output_type": "execute_result"
    }
   ],
   "source": [
    "# Função imread foi descontinuada no SciPy\n",
    "#from scipy import misc\n",
    "#misc.imread('Matplotlip-Mapa.png')\n",
    "\n",
    "#Usamos agora a função do pacote imageio\n",
    "from imageio import imread\n",
    "imread('ml_map.png')\n",
    "\n",
    "#Matplotlib tem uma função similar\n",
    "import matplotlib.pyplot as plt\n",
    "plt.imread('ml_map.png')"
   ]
  },
  {
   "cell_type": "markdown",
   "id": "d8b416c8",
   "metadata": {},
   "source": [
    "## integração numerica"
   ]
  },
  {
   "cell_type": "code",
   "execution_count": 5,
   "id": "659bbaf2",
   "metadata": {},
   "outputs": [
    {
     "data": {
      "text/plain": [
       "'1.21.3'"
      ]
     },
     "execution_count": 5,
     "metadata": {},
     "output_type": "execute_result"
    }
   ],
   "source": [
    "import numpy as np\n",
    "np.__version__"
   ]
  },
  {
   "cell_type": "code",
   "execution_count": 6,
   "id": "00d4737f",
   "metadata": {},
   "outputs": [],
   "source": [
    "from numpy import *\n",
    "from scipy.integrate import quad, dblquad, tplquad"
   ]
  },
  {
   "cell_type": "code",
   "execution_count": 7,
   "id": "07d0ba49",
   "metadata": {},
   "outputs": [
    {
     "data": {
      "text/plain": [
       "(0.0, 0.0)"
      ]
     },
     "execution_count": 7,
     "metadata": {},
     "output_type": "execute_result"
    }
   ],
   "source": [
    "#Integração\n",
    "val, abserr = quad(lambda x: exp(-x**2), Inf, Inf)\n",
    "val, abserr"
   ]
  },
  {
   "cell_type": "code",
   "execution_count": 8,
   "id": "6f97c9af",
   "metadata": {},
   "outputs": [],
   "source": [
    "from scipy.integrate import odeint, ode"
   ]
  },
  {
   "cell_type": "code",
   "execution_count": 9,
   "id": "744b8130",
   "metadata": {},
   "outputs": [],
   "source": [
    "from pylab import *\n",
    "%matplotlib inline"
   ]
  },
  {
   "cell_type": "code",
   "execution_count": 10,
   "id": "09b8bb3c",
   "metadata": {},
   "outputs": [
    {
     "data": {
      "image/png": "[encoded data removed]",
      "text/plain": [
       "<Figure size 432x288 with 1 Axes>"
      ]
     },
     "metadata": {
      "needs_background": "light"
     },
     "output_type": "display_data"
    }
   ],
   "source": [
    "def dy(y, t, zeta, w0):\n",
    "    x, p = y[0], y[1]\n",
    "    \n",
    "    dx = p\n",
    "    dp = -2 * zeta * w0 * p - w0**2 * x\n",
    "    \n",
    "    return [dx, dp]\n",
    "\n",
    "y0 = [1.0, 0.0]\n",
    "\n",
    "t = linspace(0, 10, 1000)\n",
    "w0 = 2*pi*1.0\n",
    "\n",
    "y1 = odeint(dy, y0, t, args=(0.0,w0))\n",
    "y2 = odeint(dy, y0, t, args=(0.2,w0))\n",
    "y3 = odeint(dy, y0, t, args=(1.0,w0))\n",
    "y4 = odeint(dy, y0, t, args=(5.0,20))\n",
    "\n",
    "fig, ax = subplots()\n",
    "ax.plot(t, y1[:,0], 'k', label=\"Não Abafado\", linewidth=0.25)\n",
    "ax.plot(t, y2[:,0], 'r', label=\"Pouco Abafado\")\n",
    "ax.plot(t, y3[:,0], 'b', label=\"Criticamente Abafado\")\n",
    "ax.plot(t, y4[:,0], 'g', label=\"Perigosamente Abafado\")\n",
    "ax.legend();"
   ]
  },
  {
   "cell_type": "markdown",
   "id": "46ecd9ba",
   "metadata": {},
   "source": [
    "## Fourier Transformation"
   ]
  },
  {
   "cell_type": "code",
   "execution_count": 12,
   "id": "5fe855c9",
   "metadata": {},
   "outputs": [],
   "source": [
    "from scipy.fftpack import *"
   ]
  },
  {
   "cell_type": "code",
   "execution_count": 13,
   "id": "3184b122",
   "metadata": {},
   "outputs": [
    {
     "data": {
      "image/png": "[encoded data removed]",
      "text/plain": [
       "<Figure size 648x216 with 1 Axes>"
      ]
     },
     "metadata": {
      "needs_background": "light"
     },
     "output_type": "display_data"
    }
   ],
   "source": [
    "#Fourier transformation\n",
    "N = len(t)\n",
    "dt = t[1]-t[0]\n",
    "\n",
    "F = fft(y2[:,0])\n",
    "\n",
    "w = fftfreq(N, dt)\n",
    "\n",
    "fig, ax = subplots(figsize=(9,3))\n",
    "ax.plot(w, abs(F));"
   ]
  },
  {
   "cell_type": "markdown",
   "id": "21f5be32",
   "metadata": {},
   "source": [
    "## Álgebra Linear"
   ]
  },
  {
   "cell_type": "code",
   "execution_count": 14,
   "id": "eb33f1f7",
   "metadata": {},
   "outputs": [],
   "source": [
    "A = np.array([[3, 2, 0], [1, -1, 0], [0, 5, 1]])\n",
    "b = np.array([2,4,-1])"
   ]
  },
  {
   "cell_type": "code",
   "execution_count": 15,
   "id": "6bf97ee6",
   "metadata": {},
   "outputs": [
    {
     "data": {
      "text/plain": [
       "array([ 2., -2.,  9.])"
      ]
     },
     "execution_count": 15,
     "metadata": {},
     "output_type": "execute_result"
    }
   ],
   "source": [
    "#Resolvendo um sistema de equações lineares\n",
    "x = solve(A, b)\n",
    "x"
   ]
  },
  {
   "cell_type": "code",
   "execution_count": 16,
   "id": "2a7c12b8",
   "metadata": {},
   "outputs": [
    {
     "data": {
      "text/plain": [
       "array([ 1.67130352+0.j        , -0.13166088+0.08173646j,\n",
       "       -0.13166088-0.08173646j])"
      ]
     },
     "execution_count": 16,
     "metadata": {},
     "output_type": "execute_result"
    }
   ],
   "source": [
    "A = rand(3,3)\n",
    "B = rand(3,3)\n",
    "\n",
    "evals, evecs = eig(A)\n",
    "\n",
    "evals"
   ]
  },
  {
   "cell_type": "code",
   "execution_count": 17,
   "id": "89e5c921",
   "metadata": {},
   "outputs": [
    {
     "data": {
      "text/plain": [
       "array([[ 0.61561461+0.j        , -0.29313456+0.22114528j,\n",
       "        -0.29313456-0.22114528j],\n",
       "       [ 0.25431232+0.j        ,  0.88964373+0.j        ,\n",
       "         0.88964373-0.j        ],\n",
       "       [ 0.74588464+0.j        , -0.21277429-0.16860615j,\n",
       "        -0.21277429+0.16860615j]])"
      ]
     },
     "execution_count": 17,
     "metadata": {},
     "output_type": "execute_result"
    }
   ],
   "source": [
    "evecs"
   ]
  },
  {
   "cell_type": "code",
   "execution_count": 18,
   "id": "ef50cc75",
   "metadata": {},
   "outputs": [
    {
     "data": {
      "text/plain": [
       "(array([[-0.62139302,  0.47784103, -0.6209176 ],\n",
       "        [-0.23704851, -0.87001101, -0.43230642],\n",
       "        [-0.74677889, -0.1214446 ,  0.65389028]]),\n",
       " array([1.6868708 , 0.32995638, 0.07211198]),\n",
       " array([[-0.5424711 , -0.36992519, -0.75424165],\n",
       "        [-0.8395431 ,  0.20679651,  0.50239685],\n",
       "        [-0.02987471,  0.90575414, -0.42274927]]))"
      ]
     },
     "execution_count": 18,
     "metadata": {},
     "output_type": "execute_result"
    }
   ],
   "source": [
    "svd(A)"
   ]
  },
  {
   "cell_type": "markdown",
   "id": "bbeea2fb",
   "metadata": {},
   "source": [
    "## Otimização"
   ]
  },
  {
   "cell_type": "code",
   "execution_count": 19,
   "id": "15de273c",
   "metadata": {},
   "outputs": [],
   "source": [
    "from scipy import optimize"
   ]
  },
  {
   "cell_type": "code",
   "execution_count": 20,
   "id": "84dfcd48",
   "metadata": {},
   "outputs": [
    {
     "data": {
      "image/png": "[encoded data removed]",
      "text/plain": [
       "<Figure size 432x288 with 1 Axes>"
      ]
     },
     "metadata": {
      "needs_background": "light"
     },
     "output_type": "display_data"
    }
   ],
   "source": [
    "def f(x):\n",
    "    return 4*x**3 + (x-2)**2 + x**4\n",
    "\n",
    "fig, ax = subplots()\n",
    "x = linspace(-5, 3, 100)\n",
    "ax.plot(x, f(x));"
   ]
  },
  {
   "cell_type": "code",
   "execution_count": 21,
   "id": "0dd8a085",
   "metadata": {},
   "outputs": [
    {
     "name": "stdout",
     "output_type": "stream",
     "text": [
      "Optimization terminated successfully.\n",
      "         Current function value: 2.804988\n",
      "         Iterations: 4\n",
      "         Function evaluations: 12\n",
      "         Gradient evaluations: 6\n"
     ]
    },
    {
     "data": {
      "text/plain": [
       "array([0.46961743])"
      ]
     },
     "execution_count": 21,
     "metadata": {},
     "output_type": "execute_result"
    }
   ],
   "source": [
    "x_min = optimize.fmin_bfgs(f, -0.5)\n",
    "x_min"
   ]
  },
  {
   "cell_type": "markdown",
   "id": "fff08d6e",
   "metadata": {},
   "source": [
    "## Estatística"
   ]
  },
  {
   "cell_type": "code",
   "execution_count": 22,
   "id": "222b7d75",
   "metadata": {},
   "outputs": [],
   "source": [
    "from scipy import stats"
   ]
  },
  {
   "cell_type": "code",
   "execution_count": 24,
   "id": "fb01b2cb",
   "metadata": {},
   "outputs": [
    {
     "data": {
      "text/plain": [
       "(array([ 3.,  1.,  5.,  4.,  5.,  3.,  7.,  5., 12., 17., 16., 14., 28.,\n",
       "        28., 42., 31., 38., 49., 49., 59., 61., 55., 58., 51., 54., 52.,\n",
       "        36., 32., 32., 35., 22., 15., 16., 17.,  7., 11.,  8.,  4.,  6.,\n",
       "         1.,  3.,  2.,  2.,  0.,  1.,  2.,  0.,  0.,  0.,  1.]),\n",
       " array([-2.81177021, -2.6816436 , -2.551517  , -2.42139039, -2.29126379,\n",
       "        -2.16113718, -2.03101058, -1.90088397, -1.77075736, -1.64063076,\n",
       "        -1.51050415, -1.38037755, -1.25025094, -1.12012434, -0.98999773,\n",
       "        -0.85987113, -0.72974452, -0.59961792, -0.46949131, -0.33936471,\n",
       "        -0.2092381 , -0.0791115 ,  0.05101511,  0.18114171,  0.31126832,\n",
       "         0.44139492,  0.57152153,  0.70164813,  0.83177474,  0.96190134,\n",
       "         1.09202795,  1.22215455,  1.35228116,  1.48240777,  1.61253437,\n",
       "         1.74266098,  1.87278758,  2.00291419,  2.13304079,  2.2631674 ,\n",
       "         2.393294  ,  2.52342061,  2.65354721,  2.78367382,  2.91380042,\n",
       "         3.04392703,  3.17405363,  3.30418024,  3.43430684,  3.56443345,\n",
       "         3.69456005]),\n",
       " <BarContainer object of 50 artists>)"
      ]
     },
     "execution_count": 24,
     "metadata": {},
     "output_type": "execute_result"
    },
    {
     "data": {
      "image/png": "[encoded data removed]",
      "text/plain": [
       "<Figure size 432x288 with 3 Axes>"
      ]
     },
     "metadata": {
      "needs_background": "light"
     },
     "output_type": "display_data"
    }
   ],
   "source": [
    "Y = stats.norm()\n",
    "\n",
    "x = linspace(-5,5,100)\n",
    "\n",
    "fig, axes = subplots(3,1, sharex=True)\n",
    "\n",
    "axes[0].plot(x, Y.pdf(x))\n",
    "\n",
    "axes[1].plot(x, Y.cdf(x));\n",
    "\n",
    "axes[2].hist(Y.rvs(size=1000), bins=50)"
   ]
  },
  {
   "cell_type": "code",
   "execution_count": 25,
   "id": "18df55f4",
   "metadata": {},
   "outputs": [
    {
     "data": {
      "text/plain": [
       "(0.0, 1.0, 1.0)"
      ]
     },
     "execution_count": 25,
     "metadata": {},
     "output_type": "execute_result"
    }
   ],
   "source": [
    "Y.mean(), Y.std(), Y.var()"
   ]
  },
  {
   "cell_type": "code",
   "execution_count": 26,
   "id": "cc5905d9",
   "metadata": {},
   "outputs": [
    {
     "data": {
      "text/plain": [
       "(-0.4655970404066729, 0.6415547077362864)"
      ]
     },
     "execution_count": 26,
     "metadata": {},
     "output_type": "execute_result"
    }
   ],
   "source": [
    "# T-test\n",
    "\n",
    "t_statistic, p_value = stats.ttest_ind(Y.rvs(size=1000), Y.rvs(size=1000))\n",
    "t_statistic, p_value"
   ]
  },
  {
   "cell_type": "markdown",
   "id": "f1f7679d",
   "metadata": {},
   "source": [
    "# Fim"
   ]
  },
  {
   "cell_type": "code",
   "execution_count": null,
   "id": "cf929886",
   "metadata": {},
   "outputs": [],
   "source": []
  }
 ],
 "metadata": {
  "kernelspec": {
   "display_name": "Python 3",
   "language": "python",
   "name": "python3"
  },
  "language_info": {
   "codemirror_mode": {
    "name": "ipython",
    "version": 3
   },
   "file_extension": ".py",
   "mimetype": "text/x-python",
   "name": "python",
   "nbconvert_exporter": "python",
   "pygments_lexer": "ipython3",
   "version": "3.8.8"
  }
 },
 "nbformat": 4,
 "nbformat_minor": 5
}

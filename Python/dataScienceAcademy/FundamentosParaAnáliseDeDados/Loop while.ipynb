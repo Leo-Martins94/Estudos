{
 "cells": [
  {
   "cell_type": "code",
   "execution_count": 1,
   "id": "ce753f6b",
   "metadata": {},
   "outputs": [
    {
     "name": "stdout",
     "output_type": "stream",
     "text": [
      "0\n",
      "1\n",
      "2\n",
      "3\n",
      "4\n",
      "5\n",
      "6\n",
      "7\n",
      "8\n",
      "9\n",
      "Fim do programa\n"
     ]
    }
   ],
   "source": [
    "#imprimindo de 0 a 9\n",
    "count = 0\n",
    "\n",
    "while count < 10:\n",
    "    print(count)\n",
    "    count += 1\n",
    "print('Fim do programa')"
   ]
  },
  {
   "cell_type": "code",
   "execution_count": 2,
   "id": "ce5ca68a",
   "metadata": {},
   "outputs": [
    {
     "name": "stdout",
     "output_type": "stream",
     "text": [
      "O valor desta iteração é  0\n",
      "Ainda é menor que 10, vamos somar mais 1\n",
      "O valor desta iteração é  1\n",
      "Ainda é menor que 10, vamos somar mais 1\n",
      "O valor desta iteração é  2\n",
      "Ainda é menor que 10, vamos somar mais 1\n",
      "O valor desta iteração é  3\n",
      "Ainda é menor que 10, vamos somar mais 1\n",
      "O valor desta iteração é  4\n",
      "Ainda é menor que 10, vamos somar mais 1\n",
      "O valor desta iteração é  5\n",
      "Ainda é menor que 10, vamos somar mais 1\n",
      "O valor desta iteração é  6\n",
      "Ainda é menor que 10, vamos somar mais 1\n",
      "O valor desta iteração é  7\n",
      "Ainda é menor que 10, vamos somar mais 1\n",
      "O valor desta iteração é  8\n",
      "Ainda é menor que 10, vamos somar mais 1\n",
      "O valor desta iteração é  9\n",
      "Ainda é menor que 10, vamos somar mais 1\n",
      "Fim da iteração\n"
     ]
    }
   ],
   "source": [
    "#usando o else no encerramento do loop\n",
    "\n",
    "count = 0\n",
    "\n",
    "while count < 10:\n",
    "    print('O valor desta iteração é ', count)\n",
    "    print('Ainda é menor que 10, vamos somar mais 1')\n",
    "    count += 1\n",
    "    \n",
    "else:\n",
    "    print('Fim da iteração')"
   ]
  },
  {
   "cell_type": "markdown",
   "id": "e782b344",
   "metadata": {},
   "source": [
    "## Pass, Break e Continue"
   ]
  },
  {
   "cell_type": "code",
   "execution_count": 2,
   "id": "cc84ede2",
   "metadata": {},
   "outputs": [
    {
     "name": "stdout",
     "output_type": "stream",
     "text": [
      "0\n",
      "1\n",
      "2\n",
      "3\n"
     ]
    }
   ],
   "source": [
    "counter = 0\n",
    "\n",
    "while counter <= 10:\n",
    "    if counter == 4:\n",
    "        break\n",
    "    else:\n",
    "        pass\n",
    "    print(counter)\n",
    "    counter += 1"
   ]
  },
  {
   "cell_type": "code",
   "execution_count": 3,
   "id": "d57c5ad5",
   "metadata": {},
   "outputs": [
    {
     "name": "stdout",
     "output_type": "stream",
     "text": [
      "P\n",
      "y\n",
      "t\n",
      "o\n",
      "n\n"
     ]
    }
   ],
   "source": [
    "for search in 'Python':\n",
    "    if search == 'h':\n",
    "        continue\n",
    "    print(search)"
   ]
  },
  {
   "cell_type": "markdown",
   "id": "d8d769a3",
   "metadata": {},
   "source": [
    "## While e For juntos ##"
   ]
  },
  {
   "cell_type": "code",
   "execution_count": null,
   "id": "ca7601b8",
   "metadata": {},
   "outputs": [
    {
     "name": "stdout",
     "output_type": "stream",
     "text": [
      "2 é um número primo\n",
      "3 é um número primo\n"
     ]
    }
   ],
   "source": [
    "for i in range(2,30):\n",
    "    j = 2\n",
    "    counter = 0\n",
    "    while j < i:\n",
    "        if i % j == 0:\n",
    "            counter += 1\n",
    "        else:\n",
    "            j += 1\n",
    "    if counter == 0:\n",
    "        print('{} é um número primo'.format(i))\n",
    "        counter = 0\n",
    "    else:\n",
    "        counter = 0"
   ]
  },
  {
   "cell_type": "code",
   "execution_count": null,
   "id": "0246292d",
   "metadata": {},
   "outputs": [],
   "source": []
  }
 ],
 "metadata": {
  "kernelspec": {
   "display_name": "Python 3",
   "language": "python",
   "name": "python3"
  },
  "language_info": {
   "codemirror_mode": {
    "name": "ipython",
    "version": 3
   },
   "file_extension": ".py",
   "mimetype": "text/x-python",
   "name": "python",
   "nbconvert_exporter": "python",
   "pygments_lexer": "ipython3",
   "version": "3.8.8"
  }
 },
 "nbformat": 4,
 "nbformat_minor": 5
}

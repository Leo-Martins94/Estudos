{
 "cells": [
  {
   "cell_type": "code",
   "execution_count": 3,
   "id": "06da19b4",
   "metadata": {},
   "outputs": [],
   "source": [
    "#Removendo o arquivo de banco de dados caso exitas\n",
    "import os\n",
    "os.remove('escola.db') if os.path.exists('escola.db') else None"
   ]
  },
  {
   "cell_type": "code",
   "execution_count": 4,
   "id": "2489a6db",
   "metadata": {},
   "outputs": [],
   "source": [
    "#Importando o SQLite\n",
    "\n",
    "import sqlite3"
   ]
  },
  {
   "cell_type": "code",
   "execution_count": 5,
   "id": "484daca6",
   "metadata": {},
   "outputs": [],
   "source": [
    "#cria uma conecção com o banco de dados, caso ele não exista ele será criado\n",
    "con = sqlite3.connect('escola.db')"
   ]
  },
  {
   "cell_type": "code",
   "execution_count": 6,
   "id": "7794652d",
   "metadata": {},
   "outputs": [
    {
     "data": {
      "text/plain": [
       "sqlite3.Connection"
      ]
     },
     "execution_count": 6,
     "metadata": {},
     "output_type": "execute_result"
    }
   ],
   "source": [
    "type(con)"
   ]
  },
  {
   "cell_type": "code",
   "execution_count": 7,
   "id": "85b01e6d",
   "metadata": {},
   "outputs": [],
   "source": [
    "#Criando um cursor\n",
    "#Um cursor permite perdcorer todos os registros de um grupo de dados\n",
    "\n",
    "cur = con.cursor()"
   ]
  },
  {
   "cell_type": "code",
   "execution_count": 8,
   "id": "65ad4cf3",
   "metadata": {},
   "outputs": [
    {
     "data": {
      "text/plain": [
       "sqlite3.Cursor"
      ]
     },
     "execution_count": 8,
     "metadata": {},
     "output_type": "execute_result"
    }
   ],
   "source": [
    "type(cur)"
   ]
  },
  {
   "cell_type": "code",
   "execution_count": 9,
   "id": "05f691a4",
   "metadata": {},
   "outputs": [],
   "source": [
    "#Criando um comando SQL\n",
    "\n",
    "sqlCreate = \"create table cursos\"\\\n",
    "'(id integer primary key,'\\\n",
    "'titulo varchar(100),'\\\n",
    "'categoria varchar(140))'"
   ]
  },
  {
   "cell_type": "code",
   "execution_count": 10,
   "id": "fc1d959b",
   "metadata": {},
   "outputs": [
    {
     "data": {
      "text/plain": [
       "<sqlite3.Cursor at 0x7f4b4820f9d0>"
      ]
     },
     "execution_count": 10,
     "metadata": {},
     "output_type": "execute_result"
    }
   ],
   "source": [
    "cur.execute(sqlCreate)"
   ]
  },
  {
   "cell_type": "code",
   "execution_count": 11,
   "id": "98ff9ea4",
   "metadata": {},
   "outputs": [],
   "source": [
    "#Criando outra instrução SQL\n",
    "\n",
    "sql_insert = 'insert into cursos values (?,?,?)'"
   ]
  },
  {
   "cell_type": "code",
   "execution_count": 12,
   "id": "f89f1db0",
   "metadata": {},
   "outputs": [],
   "source": [
    "#Dados\n",
    "recSet = [\n",
    "    (1,'Power BI','Dados'),\n",
    "    (2,'Cientista de dados','analise de dados'),\n",
    "    (3,'Python para Analise de dados', 'analise de dados')\n",
    "]"
   ]
  },
  {
   "cell_type": "code",
   "execution_count": 13,
   "id": "217c1b2a",
   "metadata": {},
   "outputs": [],
   "source": [
    "#inserindo registros\n",
    "\n",
    "for rec in recSet:\n",
    "    cur.execute(sql_insert, rec)"
   ]
  },
  {
   "cell_type": "code",
   "execution_count": 14,
   "id": "070caf7b",
   "metadata": {},
   "outputs": [],
   "source": [
    "#Gravar a trasação\n",
    "\n",
    "con.commit()"
   ]
  },
  {
   "cell_type": "code",
   "execution_count": 15,
   "id": "90827c5e",
   "metadata": {},
   "outputs": [],
   "source": [
    "sqlSelect = 'select * from cursos'"
   ]
  },
  {
   "cell_type": "code",
   "execution_count": 16,
   "id": "e1ade1ce",
   "metadata": {},
   "outputs": [],
   "source": [
    "#seleciona todos os registros e guarda\n",
    "\n",
    "cur.execute(sqlSelect)\n",
    "dados = cur.fetchall()"
   ]
  },
  {
   "cell_type": "code",
   "execution_count": 17,
   "id": "429119ad",
   "metadata": {},
   "outputs": [
    {
     "name": "stdout",
     "output_type": "stream",
     "text": [
      "Id: 1d, Titulo: Power BI, Categoria: Dados\n",
      "\n",
      "Id: 2d, Titulo: Cientista de dados, Categoria: analise de dados\n",
      "\n",
      "Id: 3d, Titulo: Python para Analise de dados, Categoria: analise de dados\n",
      "\n"
     ]
    }
   ],
   "source": [
    "# Exibindo dados\n",
    "\n",
    "for linha in dados:\n",
    "    print('Id: %id, Titulo: %s, Categoria: %s\\n' %linha)"
   ]
  },
  {
   "cell_type": "code",
   "execution_count": 18,
   "id": "ec55c79c",
   "metadata": {},
   "outputs": [
    {
     "name": "stdout",
     "output_type": "stream",
     "text": [
      "Curso: 1003, Titulo: Gestao de dados com MongoDB, Categoria: Big data \n",
      "\n",
      "Curso: 1004, Titulo: R fundamentos, Categoria: Analise de dados \n",
      "\n"
     ]
    }
   ],
   "source": [
    "#Gerando outros registros\n",
    "recset = [(1003,'Gestao de dados com MongoDB', 'Big data'),\n",
    "          (1004, 'R fundamentos', 'Analise de dados')]\n",
    "\n",
    "#Inserindo os registros\n",
    "for rec in recset:\n",
    "    print('Curso: %d, Titulo: %s, Categoria: %s \\n' % rec)"
   ]
  },
  {
   "cell_type": "code",
   "execution_count": 19,
   "id": "a5357632",
   "metadata": {},
   "outputs": [],
   "source": [
    "#FEchar conexão\n",
    "con.close()"
   ]
  },
  {
   "cell_type": "code",
   "execution_count": null,
   "id": "6578e5e6",
   "metadata": {},
   "outputs": [],
   "source": []
  }
 ],
 "metadata": {
  "kernelspec": {
   "display_name": "Python 3",
   "language": "python",
   "name": "python3"
  },
  "language_info": {
   "codemirror_mode": {
    "name": "ipython",
    "version": 3
   },
   "file_extension": ".py",
   "mimetype": "text/x-python",
   "name": "python",
   "nbconvert_exporter": "python",
   "pygments_lexer": "ipython3",
   "version": "3.8.8"
  }
 },
 "nbformat": 4,
 "nbformat_minor": 5
}

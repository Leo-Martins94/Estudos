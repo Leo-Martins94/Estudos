{
 "cells": [
  {
   "cell_type": "markdown",
   "id": "26cb4fd8",
   "metadata": {},
   "source": [
    "Leitura de Dados"
   ]
  },
  {
   "cell_type": "code",
   "execution_count": 5,
   "id": "05c32e66",
   "metadata": {},
   "outputs": [],
   "source": [
    "import sqlite3\n",
    "import random\n",
    "import time\n",
    "import datetime\n",
    "\n",
    "#Criando uma conexão\n",
    "conn = sqlite3.connect('dsa.db')\n",
    "\n",
    "#Criando um cursor\n",
    "c = conn.cursor()\n",
    "\n",
    "# Função para inserir uma linha\n",
    "def data_insert():\n",
    "    c.execute(\"INSERT INTO produtos VALUES (002, '02-05-2020','teclado', 130)\")\n",
    "    conn.commit()\n",
    "    c.close()\n",
    "    conn.close()\n",
    "    \n",
    "#Usando vari]aveis para inserir dados\n",
    "def data_insert_var():\n",
    "    new_date = datime.datetime.now()\n",
    "    new_prod_nome = 'monitor'\n",
    "    new_valor = random.randrange(50,100)\n",
    "    c.execute(\"INSERT INTO produtos (date, prod_name, valor) VALUES (?, ?, ?, ?)\", \n",
    "              (new_date, new_prod_nome, new_valor))\n",
    "    conn.commit()\n",
    "    \n",
    "#Leitura de dados\n",
    "def leitura_todos_dados():\n",
    "    c.execute(\"SELECT * FROM PRODUTOS\")\n",
    "    for linha in c.fetchall():\n",
    "        print(linha)\n",
    "        \n",
    "#Leitura de registros especificos\n",
    "def leitura_registros():\n",
    "    c.execute(\"SELECT * FROM PRODUTOS WHERE valor > 60.0\")\n",
    "    for linha in c.fetchall():\n",
    "        print(linha)\n",
    "\n",
    "#Leitura de colunas especificos\n",
    "def leitura_colunas():\n",
    "    c.execute(\"SELECT * FROM PRODUTOS\")\n",
    "    for linha in c.fetchall():\n",
    "        print(linha[3])"
   ]
  },
  {
   "cell_type": "code",
   "execution_count": 6,
   "id": "273ad199",
   "metadata": {},
   "outputs": [
    {
     "name": "stdout",
     "output_type": "stream",
     "text": [
      "(10, '2020-05-02 14:32:11', 'Teclado', 90.0)\n",
      "(11, '2022-01-13 21:54:24.220282', 'Monitor', 69.0)\n",
      "(12, '2022-01-13 21:54:25.346893', 'Monitor', 76.0)\n",
      "(13, '2022-01-13 21:54:26.477687', 'Monitor', 59.0)\n",
      "(14, '2022-01-13 21:54:27.534370', 'Monitor', 96.0)\n",
      "(15, '2022-01-13 21:54:28.589973', 'Monitor', 60.0)\n",
      "(16, '2022-01-13 21:54:29.667713', 'Monitor', 59.0)\n",
      "(17, '2022-01-13 21:54:30.745497', 'Monitor', 63.0)\n",
      "(18, '2022-01-13 21:54:31.823292', 'Monitor', 92.0)\n",
      "(19, '2022-01-13 21:54:32.890047', 'Monitor', 84.0)\n",
      "(20, '2022-01-13 21:54:33.978986', 'Monitor', 68.0)\n"
     ]
    }
   ],
   "source": [
    "#Select nos dados\n",
    "leitura_todos_dados()"
   ]
  },
  {
   "cell_type": "code",
   "execution_count": 7,
   "id": "bbb98e08",
   "metadata": {},
   "outputs": [
    {
     "name": "stdout",
     "output_type": "stream",
     "text": [
      "(10, '2020-05-02 14:32:11', 'Teclado', 90.0)\n",
      "(11, '2022-01-13 21:54:24.220282', 'Monitor', 69.0)\n",
      "(12, '2022-01-13 21:54:25.346893', 'Monitor', 76.0)\n",
      "(14, '2022-01-13 21:54:27.534370', 'Monitor', 96.0)\n",
      "(17, '2022-01-13 21:54:30.745497', 'Monitor', 63.0)\n",
      "(18, '2022-01-13 21:54:31.823292', 'Monitor', 92.0)\n",
      "(19, '2022-01-13 21:54:32.890047', 'Monitor', 84.0)\n",
      "(20, '2022-01-13 21:54:33.978986', 'Monitor', 68.0)\n"
     ]
    }
   ],
   "source": [
    "#Leitura de registros especificos\n",
    "leitura_registros()"
   ]
  },
  {
   "cell_type": "code",
   "execution_count": 8,
   "id": "7a826d74",
   "metadata": {},
   "outputs": [
    {
     "name": "stdout",
     "output_type": "stream",
     "text": [
      "90.0\n",
      "69.0\n",
      "76.0\n",
      "59.0\n",
      "96.0\n",
      "60.0\n",
      "59.0\n",
      "63.0\n",
      "92.0\n",
      "84.0\n",
      "68.0\n"
     ]
    }
   ],
   "source": [
    "#Leitura de colunas especificos\n",
    "leitura_colunas()"
   ]
  },
  {
   "cell_type": "code",
   "execution_count": 9,
   "id": "c88589b2",
   "metadata": {},
   "outputs": [],
   "source": [
    "#Encerrando a conexão\n",
    "c.close()"
   ]
  },
  {
   "cell_type": "code",
   "execution_count": null,
   "id": "c4b9d29a",
   "metadata": {},
   "outputs": [],
   "source": []
  }
 ],
 "metadata": {
  "kernelspec": {
   "display_name": "Python 3",
   "language": "python",
   "name": "python3"
  },
  "language_info": {
   "codemirror_mode": {
    "name": "ipython",
    "version": 3
   },
   "file_extension": ".py",
   "mimetype": "text/x-python",
   "name": "python",
   "nbconvert_exporter": "python",
   "pygments_lexer": "ipython3",
   "version": "3.8.8"
  }
 },
 "nbformat": 4,
 "nbformat_minor": 5
}

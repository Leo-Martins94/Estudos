{
 "cells": [
  {
   "cell_type": "code",
   "execution_count": 10,
   "id": "318511dd",
   "metadata": {},
   "outputs": [],
   "source": [
    "import sqlite3\n",
    "import random\n",
    "import time\n",
    "import datetime\n",
    "\n",
    "#Criando uma conexão\n",
    "\n",
    "conn = sqlite3.connect('dsa.db')\n",
    "\n",
    "#Criando um cursor\n",
    "c = conn.cursor()\n",
    "\n",
    "#Função para criar uma tabela\n",
    "def create_table():\n",
    "    c.execute('CREATE TABLE IF NOT EXISTS produtos (id INTEGER PRIMARY KEY AUTOINCREMENT NOT NULL, date TEXT, '\\\n",
    "              'prod_name TEXT, valor REAL)')\n",
    "\n",
    "#Função para inserir uma linha\n",
    "def data_insert():\n",
    "    c.execute(\"INSERT INTO produtos VALUES(002, '20-01-2022', 'teclado',130)\")\n",
    "    conn.commit()\n",
    "    c.close()\n",
    "    conn.close()\n",
    "\n",
    "#Função varáveis para inserir dados\n",
    "def data_insert_var():\n",
    "    new_date = datetime.datetime.now()\n",
    "    new_prod_name = 'monitor'\n",
    "    new_valor = random.randrange(50,100)\n",
    "    c.execute(\"INSERT INTO produtos (date, prod_name, valor) VALUES (?, ?, ?,?)\",\n",
    "              (new_date, new_prod_name, new_valor))\n",
    "    conn.commit()\n",
    "    \n",
    "#Função para leitura de dados\n",
    "def leitura_todos_dados():\n",
    "    c.execute(\"SELECT * FROM produtos\")\n",
    "    for linha in c.fetchall():\n",
    "        print(linha)\n",
    "\n",
    "#Leitura de Registror especificos\n",
    "def leitura_colunas():\n",
    "    c.execute(\"SELECT * FROM produtos WHERE valor > 70.0\")\n",
    "    for linha in c.fetchall():\n",
    "        print(linha[3])\n",
    "\n",
    "#Leitura de colunas especificos\n",
    "def leitura_colunas():\n",
    "    c.execute(\"SELECT * FROM produtos\")\n",
    "    for linha in c.fetchall():\n",
    "        print(linha[3])\n",
    "\n",
    "#Update\n",
    "def atualizando_dados():\n",
    "    c.execute(\"UPDATE produtos SET valor = 70.00 WHERE valor = 98.0\")\n",
    "    conn.commit()\n",
    "\n",
    "#Delete\n",
    "def remove_dados():\n",
    "    c.execute(\"DELETE FROM produtos WHERE valor = 84.0\")\n",
    "    conn.commit()\n",
    "        "
   ]
  },
  {
   "cell_type": "code",
   "execution_count": 11,
   "id": "cca18a50",
   "metadata": {},
   "outputs": [],
   "source": [
    "atualizando_dados()"
   ]
  },
  {
   "cell_type": "code",
   "execution_count": 12,
   "id": "279c2ce2",
   "metadata": {},
   "outputs": [
    {
     "name": "stdout",
     "output_type": "stream",
     "text": [
      "(10, '2020-05-02 14:32:11', 'Teclado', 90.0)\n",
      "(11, '2022-01-13 21:54:24.220282', 'Monitor', 69.0)\n",
      "(12, '2022-01-13 21:54:25.346893', 'Monitor', 76.0)\n",
      "(13, '2022-01-13 21:54:26.477687', 'Monitor', 59.0)\n",
      "(14, '2022-01-13 21:54:27.534370', 'Monitor', 96.0)\n",
      "(15, '2022-01-13 21:54:28.589973', 'Monitor', 60.0)\n",
      "(16, '2022-01-13 21:54:29.667713', 'Monitor', 59.0)\n",
      "(17, '2022-01-13 21:54:30.745497', 'Monitor', 63.0)\n",
      "(18, '2022-01-13 21:54:31.823292', 'Monitor', 92.0)\n",
      "(19, '2022-01-13 21:54:32.890047', 'Monitor', 84.0)\n",
      "(20, '2022-01-13 21:54:33.978986', 'Monitor', 68.0)\n"
     ]
    }
   ],
   "source": [
    "leitura_todos_dados()"
   ]
  },
  {
   "cell_type": "code",
   "execution_count": 14,
   "id": "003361e8",
   "metadata": {},
   "outputs": [],
   "source": [
    "remove_dados()"
   ]
  },
  {
   "cell_type": "code",
   "execution_count": 15,
   "id": "4605bf78",
   "metadata": {},
   "outputs": [
    {
     "name": "stdout",
     "output_type": "stream",
     "text": [
      "(10, '2020-05-02 14:32:11', 'Teclado', 90.0)\n",
      "(11, '2022-01-13 21:54:24.220282', 'Monitor', 69.0)\n",
      "(12, '2022-01-13 21:54:25.346893', 'Monitor', 76.0)\n",
      "(13, '2022-01-13 21:54:26.477687', 'Monitor', 59.0)\n",
      "(14, '2022-01-13 21:54:27.534370', 'Monitor', 96.0)\n",
      "(15, '2022-01-13 21:54:28.589973', 'Monitor', 60.0)\n",
      "(16, '2022-01-13 21:54:29.667713', 'Monitor', 59.0)\n",
      "(17, '2022-01-13 21:54:30.745497', 'Monitor', 63.0)\n",
      "(18, '2022-01-13 21:54:31.823292', 'Monitor', 92.0)\n",
      "(20, '2022-01-13 21:54:33.978986', 'Monitor', 68.0)\n"
     ]
    }
   ],
   "source": [
    "leitura_todos_dados()"
   ]
  },
  {
   "cell_type": "code",
   "execution_count": null,
   "id": "8c81f37e",
   "metadata": {},
   "outputs": [],
   "source": []
  }
 ],
 "metadata": {
  "kernelspec": {
   "display_name": "Python 3",
   "language": "python",
   "name": "python3"
  },
  "language_info": {
   "codemirror_mode": {
    "name": "ipython",
    "version": 3
   },
   "file_extension": ".py",
   "mimetype": "text/x-python",
   "name": "python",
   "nbconvert_exporter": "python",
   "pygments_lexer": "ipython3",
   "version": "3.8.8"
  }
 },
 "nbformat": 4,
 "nbformat_minor": 5
}

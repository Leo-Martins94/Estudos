{
 "cells": [
  {
   "cell_type": "markdown",
   "id": "df209348",
   "metadata": {},
   "source": [
    "Criando  o Banco de Dados e Inserindo Dados"
   ]
  },
  {
   "cell_type": "code",
   "execution_count": 1,
   "id": "5ed33af8",
   "metadata": {},
   "outputs": [],
   "source": [
    "import sqlite3\n",
    "\n",
    "#Criando uma conexão\n",
    "conn = sqlite3.connect('dsa.db')\n",
    "\n",
    "#Criando um cursor\n",
    "c = conn.cursor()\n",
    "\n",
    "#Função para criar uma tabela\n",
    "def create_table():\n",
    "    c.execute('CREATE TABLE IF NOT EXISTS produtos(id INTEGER PRIMARY KEY AUTOINCREMENT NOT NULL, date TEXT, '\\\n",
    "              'prod_nome TEXT, valor REAL)')\n",
    "\n",
    "# Função para inserir uma linha\n",
    "def data_insert():\n",
    "    c.execute(\"INSERT INTO produtos VALUES(10, '2020-05-02 14:32:11', 'Teclado', 90)\")\n",
    "    conn.commit()\n",
    "    c.close()\n",
    "    conn.close()"
   ]
  },
  {
   "cell_type": "code",
   "execution_count": 2,
   "id": "8433e9fa",
   "metadata": {},
   "outputs": [],
   "source": [
    "#Criar a tabela\n",
    "create_table()"
   ]
  },
  {
   "cell_type": "code",
   "execution_count": 3,
   "id": "118a446b",
   "metadata": {},
   "outputs": [],
   "source": [
    "# Insert dados\n",
    "data_insert()"
   ]
  },
  {
   "cell_type": "code",
   "execution_count": null,
   "id": "88aab44e",
   "metadata": {},
   "outputs": [],
   "source": []
  }
 ],
 "metadata": {
  "kernelspec": {
   "display_name": "Python 3",
   "language": "python",
   "name": "python3"
  },
  "language_info": {
   "codemirror_mode": {
    "name": "ipython",
    "version": 3
   },
   "file_extension": ".py",
   "mimetype": "text/x-python",
   "name": "python",
   "nbconvert_exporter": "python",
   "pygments_lexer": "ipython3",
   "version": "3.8.8"
  }
 },
 "nbformat": 4,
 "nbformat_minor": 5
}

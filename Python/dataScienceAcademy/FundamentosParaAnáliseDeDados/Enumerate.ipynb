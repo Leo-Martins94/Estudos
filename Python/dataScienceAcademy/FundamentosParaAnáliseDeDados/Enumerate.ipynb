{
 "cells": [
  {
   "cell_type": "code",
   "execution_count": 4,
   "id": "ecf24b23",
   "metadata": {},
   "outputs": [
    {
     "data": {
      "text/plain": [
       "[(0, 'a'), (1, 'g'), (2, 'h'), (3, 'f'), (4, 'b'), (5, 'e')]"
      ]
     },
     "execution_count": 4,
     "metadata": {},
     "output_type": "execute_result"
    }
   ],
   "source": [
    "# Criando uma lista e depois a chame na função Enumerate\n",
    "\n",
    "lst = ['a','g','h','f','b','e']\n",
    "\n",
    "enumerate(lst)\n",
    "list(enumerate(lst))"
   ]
  },
  {
   "cell_type": "code",
   "execution_count": 5,
   "id": "5d3cddd3",
   "metadata": {},
   "outputs": [
    {
     "name": "stdout",
     "output_type": "stream",
     "text": [
      "0 a\n",
      "1 g\n",
      "2 h\n",
      "3 f\n",
      "4 b\n",
      "5 e\n"
     ]
    }
   ],
   "source": [
    "# Imprimindo os valores de uma lista com a função enumerate() e seus respectivos índices\n",
    "\n",
    "for k,v in enumerate(lst):\n",
    "    print(k,v)"
   ]
  },
  {
   "cell_type": "code",
   "execution_count": 8,
   "id": "5ca02136",
   "metadata": {},
   "outputs": [
    {
     "name": "stdout",
     "output_type": "stream",
     "text": [
      "2 h\n",
      "3 f\n",
      "4 b\n",
      "5 e\n"
     ]
    }
   ],
   "source": [
    "# Enumerate com condicionais\n",
    "\n",
    "for k,v in enumerate(lst):\n",
    "    if k >= 2:\n",
    "        print(k,v)"
   ]
  },
  {
   "cell_type": "code",
   "execution_count": 9,
   "id": "a44985ee",
   "metadata": {},
   "outputs": [
    {
     "name": "stdout",
     "output_type": "stream",
     "text": [
      "0 Python\n",
      "1 JavaScript\n",
      "2 Java\n"
     ]
    }
   ],
   "source": [
    "#criando listas com indices\n",
    "\n",
    "tecnologias = ['Python','JavaScript','Java']\n",
    "\n",
    "for k,v in enumerate(tecnologias):\n",
    "    print(k,v)"
   ]
  },
  {
   "cell_type": "code",
   "execution_count": 11,
   "id": "a30315e0",
   "metadata": {},
   "outputs": [
    {
     "name": "stdout",
     "output_type": "stream",
     "text": [
      "0 P\n",
      "1 y\n",
      "2 t\n",
      "3 h\n",
      "4 o\n",
      "5 n\n",
      "6  \n",
      "7 E\n",
      "8 n\n",
      "9 u\n",
      "10 m\n",
      "11 e\n",
      "12 r\n",
      "13 a\n",
      "14 t\n",
      "15 e\n"
     ]
    }
   ],
   "source": [
    "# Enumerate em uma string\n",
    "\n",
    "for i, item in enumerate('Python Enumerate'):\n",
    "    print(i,item)"
   ]
  },
  {
   "cell_type": "code",
   "execution_count": 12,
   "id": "a2766f7b",
   "metadata": {},
   "outputs": [
    {
     "name": "stdout",
     "output_type": "stream",
     "text": [
      "0 0\n",
      "1 1\n",
      "2 2\n",
      "3 3\n",
      "4 4\n",
      "5 5\n",
      "6 6\n",
      "7 7\n",
      "8 8\n",
      "9 9\n",
      "10 10\n",
      "11 11\n",
      "12 12\n",
      "13 13\n",
      "14 14\n",
      "15 15\n",
      "16 16\n",
      "17 17\n",
      "18 18\n",
      "19 19\n",
      "20 20\n",
      "21 21\n",
      "22 22\n",
      "23 23\n",
      "24 24\n",
      "25 25\n",
      "26 26\n",
      "27 27\n",
      "28 28\n",
      "29 29\n",
      "30 30\n",
      "31 31\n",
      "32 32\n",
      "33 33\n",
      "34 34\n"
     ]
    }
   ],
   "source": [
    "#Enumerate em Range\n",
    "\n",
    "for i,v in enumerate(range(0,35)):\n",
    "    print(i,v)"
   ]
  },
  {
   "cell_type": "code",
   "execution_count": null,
   "id": "f65313a7",
   "metadata": {},
   "outputs": [],
   "source": []
  }
 ],
 "metadata": {
  "kernelspec": {
   "display_name": "Python 3",
   "language": "python",
   "name": "python3"
  },
  "language_info": {
   "codemirror_mode": {
    "name": "ipython",
    "version": 3
   },
   "file_extension": ".py",
   "mimetype": "text/x-python",
   "name": "python",
   "nbconvert_exporter": "python",
   "pygments_lexer": "ipython3",
   "version": "3.8.8"
  }
 },
 "nbformat": 4,
 "nbformat_minor": 5
}

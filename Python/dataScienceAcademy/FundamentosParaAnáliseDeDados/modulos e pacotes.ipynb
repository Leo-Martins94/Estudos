{
 "cells": [
  {
   "cell_type": "markdown",
   "id": "ee89bfc8",
   "metadata": {},
   "source": [
    "# Modulos e pacotes"
   ]
  },
  {
   "cell_type": "code",
   "execution_count": 2,
   "id": "5dd0a183",
   "metadata": {},
   "outputs": [],
   "source": [
    "# importando um modulo em Python\n",
    "\n",
    "import math"
   ]
  },
  {
   "cell_type": "code",
   "execution_count": 3,
   "id": "5844eed2",
   "metadata": {},
   "outputs": [
    {
     "data": {
      "text/plain": [
       "['__doc__',\n",
       " '__file__',\n",
       " '__loader__',\n",
       " '__name__',\n",
       " '__package__',\n",
       " '__spec__',\n",
       " 'acos',\n",
       " 'acosh',\n",
       " 'asin',\n",
       " 'asinh',\n",
       " 'atan',\n",
       " 'atan2',\n",
       " 'atanh',\n",
       " 'ceil',\n",
       " 'comb',\n",
       " 'copysign',\n",
       " 'cos',\n",
       " 'cosh',\n",
       " 'degrees',\n",
       " 'dist',\n",
       " 'e',\n",
       " 'erf',\n",
       " 'erfc',\n",
       " 'exp',\n",
       " 'expm1',\n",
       " 'fabs',\n",
       " 'factorial',\n",
       " 'floor',\n",
       " 'fmod',\n",
       " 'frexp',\n",
       " 'fsum',\n",
       " 'gamma',\n",
       " 'gcd',\n",
       " 'hypot',\n",
       " 'inf',\n",
       " 'isclose',\n",
       " 'isfinite',\n",
       " 'isinf',\n",
       " 'isnan',\n",
       " 'isqrt',\n",
       " 'ldexp',\n",
       " 'lgamma',\n",
       " 'log',\n",
       " 'log10',\n",
       " 'log1p',\n",
       " 'log2',\n",
       " 'modf',\n",
       " 'nan',\n",
       " 'perm',\n",
       " 'pi',\n",
       " 'pow',\n",
       " 'prod',\n",
       " 'radians',\n",
       " 'remainder',\n",
       " 'sin',\n",
       " 'sinh',\n",
       " 'sqrt',\n",
       " 'tan',\n",
       " 'tanh',\n",
       " 'tau',\n",
       " 'trunc']"
      ]
     },
     "execution_count": 3,
     "metadata": {},
     "output_type": "execute_result"
    }
   ],
   "source": [
    "#veirificando os metodos exitentes no modulo\n",
    "\n",
    "dir(math)"
   ]
  },
  {
   "cell_type": "code",
   "execution_count": 4,
   "id": "53bf9c0b",
   "metadata": {},
   "outputs": [
    {
     "data": {
      "text/plain": [
       "5.0"
      ]
     },
     "execution_count": 4,
     "metadata": {},
     "output_type": "execute_result"
    }
   ],
   "source": [
    "#usando o metodo raiz quadrada\n",
    "\n",
    "math.sqrt(25)"
   ]
  },
  {
   "cell_type": "code",
   "execution_count": 5,
   "id": "43f71e46",
   "metadata": {},
   "outputs": [],
   "source": [
    "#importando apenas um metodo\n",
    "\n",
    "from math import sqrt"
   ]
  },
  {
   "cell_type": "code",
   "execution_count": 6,
   "id": "3360ac5d",
   "metadata": {},
   "outputs": [
    {
     "data": {
      "text/plain": [
       "4.0"
      ]
     },
     "execution_count": 6,
     "metadata": {},
     "output_type": "execute_result"
    }
   ],
   "source": [
    "#usando o metodo\n",
    "\n",
    "sqrt(16)"
   ]
  },
  {
   "cell_type": "code",
   "execution_count": 7,
   "id": "01cf1958",
   "metadata": {},
   "outputs": [
    {
     "name": "stdout",
     "output_type": "stream",
     "text": [
      "['__doc__', '__file__', '__loader__', '__name__', '__package__', '__spec__', 'acos', 'acosh', 'asin', 'asinh', 'atan', 'atan2', 'atanh', 'ceil', 'comb', 'copysign', 'cos', 'cosh', 'degrees', 'dist', 'e', 'erf', 'erfc', 'exp', 'expm1', 'fabs', 'factorial', 'floor', 'fmod', 'frexp', 'fsum', 'gamma', 'gcd', 'hypot', 'inf', 'isclose', 'isfinite', 'isinf', 'isnan', 'isqrt', 'ldexp', 'lgamma', 'log', 'log10', 'log1p', 'log2', 'modf', 'nan', 'perm', 'pi', 'pow', 'prod', 'radians', 'remainder', 'sin', 'sinh', 'sqrt', 'tan', 'tanh', 'tau', 'trunc']\n"
     ]
    }
   ],
   "source": [
    "#imŕimindo todos os metodos do modulo math\n",
    "\n",
    "print(dir(math))"
   ]
  },
  {
   "cell_type": "code",
   "execution_count": 9,
   "id": "b4c7568a",
   "metadata": {},
   "outputs": [
    {
     "name": "stdout",
     "output_type": "stream",
     "text": [
      "Help on built-in function sqrt in module math:\n",
      "\n",
      "sqrt(x, /)\n",
      "    Return the square root of x.\n",
      "\n"
     ]
    }
   ],
   "source": [
    "#utilizando ajudo do metodo\n",
    "\n",
    "help(sqrt)"
   ]
  },
  {
   "cell_type": "code",
   "execution_count": 10,
   "id": "4c6fecf2",
   "metadata": {},
   "outputs": [],
   "source": [
    "import random"
   ]
  },
  {
   "cell_type": "code",
   "execution_count": 16,
   "id": "254f0230",
   "metadata": {},
   "outputs": [
    {
     "data": {
      "text/plain": [
       "'uva'"
      ]
     },
     "execution_count": 16,
     "metadata": {},
     "output_type": "execute_result"
    }
   ],
   "source": [
    "random.choice(['uva','banana','maca'])"
   ]
  },
  {
   "cell_type": "code",
   "execution_count": 18,
   "id": "001ac209",
   "metadata": {},
   "outputs": [
    {
     "data": {
      "text/plain": [
       "[27, 28, 85, 89, 66, 95, 11, 74, 3, 76]"
      ]
     },
     "execution_count": 18,
     "metadata": {},
     "output_type": "execute_result"
    }
   ],
   "source": [
    "random.sample(range(100),10)"
   ]
  },
  {
   "cell_type": "code",
   "execution_count": 19,
   "id": "0dc261ca",
   "metadata": {},
   "outputs": [],
   "source": [
    "import statistics"
   ]
  },
  {
   "cell_type": "code",
   "execution_count": 20,
   "id": "90be4020",
   "metadata": {},
   "outputs": [],
   "source": [
    "dados = [1.75,5.68,3.45,4.25,9,65]"
   ]
  },
  {
   "cell_type": "code",
   "execution_count": 21,
   "id": "beecb373",
   "metadata": {},
   "outputs": [
    {
     "data": {
      "text/plain": [
       "14.855"
      ]
     },
     "execution_count": 21,
     "metadata": {},
     "output_type": "execute_result"
    }
   ],
   "source": [
    "statistics.mean(dados)"
   ]
  },
  {
   "cell_type": "code",
   "execution_count": 22,
   "id": "24dda4de",
   "metadata": {},
   "outputs": [
    {
     "data": {
      "text/plain": [
       "4.965"
      ]
     },
     "execution_count": 22,
     "metadata": {},
     "output_type": "execute_result"
    }
   ],
   "source": [
    "statistics.median(dados)"
   ]
  },
  {
   "cell_type": "code",
   "execution_count": 23,
   "id": "53b6a839",
   "metadata": {},
   "outputs": [],
   "source": [
    "import os"
   ]
  },
  {
   "cell_type": "code",
   "execution_count": 24,
   "id": "b03010d0",
   "metadata": {},
   "outputs": [
    {
     "data": {
      "text/plain": [
       "['CLD_CONTINUED',\n",
       " 'CLD_DUMPED',\n",
       " 'CLD_EXITED',\n",
       " 'CLD_TRAPPED',\n",
       " 'DirEntry',\n",
       " 'EX_CANTCREAT',\n",
       " 'EX_CONFIG',\n",
       " 'EX_DATAERR',\n",
       " 'EX_IOERR',\n",
       " 'EX_NOHOST',\n",
       " 'EX_NOINPUT',\n",
       " 'EX_NOPERM',\n",
       " 'EX_NOUSER',\n",
       " 'EX_OK',\n",
       " 'EX_OSERR',\n",
       " 'EX_OSFILE',\n",
       " 'EX_PROTOCOL',\n",
       " 'EX_SOFTWARE',\n",
       " 'EX_TEMPFAIL',\n",
       " 'EX_UNAVAILABLE',\n",
       " 'EX_USAGE',\n",
       " 'F_LOCK',\n",
       " 'F_OK',\n",
       " 'F_TEST',\n",
       " 'F_TLOCK',\n",
       " 'F_ULOCK',\n",
       " 'MutableMapping',\n",
       " 'NGROUPS_MAX',\n",
       " 'O_ACCMODE',\n",
       " 'O_APPEND',\n",
       " 'O_ASYNC',\n",
       " 'O_CLOEXEC',\n",
       " 'O_CREAT',\n",
       " 'O_DIRECT',\n",
       " 'O_DIRECTORY',\n",
       " 'O_DSYNC',\n",
       " 'O_EXCL',\n",
       " 'O_LARGEFILE',\n",
       " 'O_NDELAY',\n",
       " 'O_NOATIME',\n",
       " 'O_NOCTTY',\n",
       " 'O_NOFOLLOW',\n",
       " 'O_NONBLOCK',\n",
       " 'O_RDONLY',\n",
       " 'O_RDWR',\n",
       " 'O_RSYNC',\n",
       " 'O_SYNC',\n",
       " 'O_TRUNC',\n",
       " 'O_WRONLY',\n",
       " 'POSIX_FADV_DONTNEED',\n",
       " 'POSIX_FADV_NOREUSE',\n",
       " 'POSIX_FADV_NORMAL',\n",
       " 'POSIX_FADV_RANDOM',\n",
       " 'POSIX_FADV_SEQUENTIAL',\n",
       " 'POSIX_FADV_WILLNEED',\n",
       " 'POSIX_SPAWN_CLOSE',\n",
       " 'POSIX_SPAWN_DUP2',\n",
       " 'POSIX_SPAWN_OPEN',\n",
       " 'PRIO_PGRP',\n",
       " 'PRIO_PROCESS',\n",
       " 'PRIO_USER',\n",
       " 'P_ALL',\n",
       " 'P_NOWAIT',\n",
       " 'P_NOWAITO',\n",
       " 'P_PGID',\n",
       " 'P_PID',\n",
       " 'P_WAIT',\n",
       " 'PathLike',\n",
       " 'RTLD_DEEPBIND',\n",
       " 'RTLD_GLOBAL',\n",
       " 'RTLD_LAZY',\n",
       " 'RTLD_LOCAL',\n",
       " 'RTLD_NODELETE',\n",
       " 'RTLD_NOLOAD',\n",
       " 'RTLD_NOW',\n",
       " 'R_OK',\n",
       " 'SCHED_BATCH',\n",
       " 'SCHED_FIFO',\n",
       " 'SCHED_IDLE',\n",
       " 'SCHED_OTHER',\n",
       " 'SCHED_RESET_ON_FORK',\n",
       " 'SCHED_RR',\n",
       " 'SEEK_CUR',\n",
       " 'SEEK_END',\n",
       " 'SEEK_SET',\n",
       " 'ST_APPEND',\n",
       " 'ST_MANDLOCK',\n",
       " 'ST_NOATIME',\n",
       " 'ST_NODEV',\n",
       " 'ST_NODIRATIME',\n",
       " 'ST_NOEXEC',\n",
       " 'ST_NOSUID',\n",
       " 'ST_RDONLY',\n",
       " 'ST_RELATIME',\n",
       " 'ST_SYNCHRONOUS',\n",
       " 'ST_WRITE',\n",
       " 'TMP_MAX',\n",
       " 'WCONTINUED',\n",
       " 'WCOREDUMP',\n",
       " 'WEXITED',\n",
       " 'WEXITSTATUS',\n",
       " 'WIFCONTINUED',\n",
       " 'WIFEXITED',\n",
       " 'WIFSIGNALED',\n",
       " 'WIFSTOPPED',\n",
       " 'WNOHANG',\n",
       " 'WNOWAIT',\n",
       " 'WSTOPPED',\n",
       " 'WSTOPSIG',\n",
       " 'WTERMSIG',\n",
       " 'WUNTRACED',\n",
       " 'W_OK',\n",
       " 'XATTR_CREATE',\n",
       " 'XATTR_REPLACE',\n",
       " 'XATTR_SIZE_MAX',\n",
       " 'X_OK',\n",
       " '_Environ',\n",
       " '__all__',\n",
       " '__builtins__',\n",
       " '__cached__',\n",
       " '__doc__',\n",
       " '__file__',\n",
       " '__loader__',\n",
       " '__name__',\n",
       " '__package__',\n",
       " '__spec__',\n",
       " '_check_methods',\n",
       " '_execvpe',\n",
       " '_exists',\n",
       " '_exit',\n",
       " '_fspath',\n",
       " '_fwalk',\n",
       " '_get_exports_list',\n",
       " '_putenv',\n",
       " '_spawnvef',\n",
       " '_unsetenv',\n",
       " '_wrap_close',\n",
       " 'abc',\n",
       " 'abort',\n",
       " 'access',\n",
       " 'altsep',\n",
       " 'chdir',\n",
       " 'chmod',\n",
       " 'chown',\n",
       " 'chroot',\n",
       " 'close',\n",
       " 'closerange',\n",
       " 'confstr',\n",
       " 'confstr_names',\n",
       " 'cpu_count',\n",
       " 'ctermid',\n",
       " 'curdir',\n",
       " 'defpath',\n",
       " 'device_encoding',\n",
       " 'devnull',\n",
       " 'dup',\n",
       " 'dup2',\n",
       " 'environ',\n",
       " 'environb',\n",
       " 'error',\n",
       " 'execl',\n",
       " 'execle',\n",
       " 'execlp',\n",
       " 'execlpe',\n",
       " 'execv',\n",
       " 'execve',\n",
       " 'execvp',\n",
       " 'execvpe',\n",
       " 'extsep',\n",
       " 'fchdir',\n",
       " 'fchmod',\n",
       " 'fchown',\n",
       " 'fdatasync',\n",
       " 'fdopen',\n",
       " 'fork',\n",
       " 'forkpty',\n",
       " 'fpathconf',\n",
       " 'fsdecode',\n",
       " 'fsencode',\n",
       " 'fspath',\n",
       " 'fstat',\n",
       " 'fstatvfs',\n",
       " 'fsync',\n",
       " 'ftruncate',\n",
       " 'fwalk',\n",
       " 'get_blocking',\n",
       " 'get_exec_path',\n",
       " 'get_inheritable',\n",
       " 'get_terminal_size',\n",
       " 'getcwd',\n",
       " 'getcwdb',\n",
       " 'getegid',\n",
       " 'getenv',\n",
       " 'getenvb',\n",
       " 'geteuid',\n",
       " 'getgid',\n",
       " 'getgrouplist',\n",
       " 'getgroups',\n",
       " 'getloadavg',\n",
       " 'getlogin',\n",
       " 'getpgid',\n",
       " 'getpgrp',\n",
       " 'getpid',\n",
       " 'getppid',\n",
       " 'getpriority',\n",
       " 'getresgid',\n",
       " 'getresuid',\n",
       " 'getsid',\n",
       " 'getuid',\n",
       " 'getxattr',\n",
       " 'initgroups',\n",
       " 'isatty',\n",
       " 'kill',\n",
       " 'killpg',\n",
       " 'lchown',\n",
       " 'linesep',\n",
       " 'link',\n",
       " 'listdir',\n",
       " 'listxattr',\n",
       " 'lockf',\n",
       " 'lseek',\n",
       " 'lstat',\n",
       " 'major',\n",
       " 'makedev',\n",
       " 'makedirs',\n",
       " 'minor',\n",
       " 'mkdir',\n",
       " 'mkfifo',\n",
       " 'mknod',\n",
       " 'name',\n",
       " 'nice',\n",
       " 'open',\n",
       " 'openpty',\n",
       " 'pardir',\n",
       " 'path',\n",
       " 'pathconf',\n",
       " 'pathconf_names',\n",
       " 'pathsep',\n",
       " 'pipe',\n",
       " 'pipe2',\n",
       " 'popen',\n",
       " 'posix_fadvise',\n",
       " 'posix_fallocate',\n",
       " 'posix_spawn',\n",
       " 'posix_spawnp',\n",
       " 'pread',\n",
       " 'preadv',\n",
       " 'putenv',\n",
       " 'pwrite',\n",
       " 'pwritev',\n",
       " 'read',\n",
       " 'readlink',\n",
       " 'readv',\n",
       " 'register_at_fork',\n",
       " 'remove',\n",
       " 'removedirs',\n",
       " 'removexattr',\n",
       " 'rename',\n",
       " 'renames',\n",
       " 'replace',\n",
       " 'rmdir',\n",
       " 'scandir',\n",
       " 'sched_get_priority_max',\n",
       " 'sched_get_priority_min',\n",
       " 'sched_getaffinity',\n",
       " 'sched_getparam',\n",
       " 'sched_getscheduler',\n",
       " 'sched_param',\n",
       " 'sched_rr_get_interval',\n",
       " 'sched_setaffinity',\n",
       " 'sched_setparam',\n",
       " 'sched_setscheduler',\n",
       " 'sched_yield',\n",
       " 'sendfile',\n",
       " 'sep',\n",
       " 'set_blocking',\n",
       " 'set_inheritable',\n",
       " 'setegid',\n",
       " 'seteuid',\n",
       " 'setgid',\n",
       " 'setgroups',\n",
       " 'setpgid',\n",
       " 'setpgrp',\n",
       " 'setpriority',\n",
       " 'setregid',\n",
       " 'setresgid',\n",
       " 'setresuid',\n",
       " 'setreuid',\n",
       " 'setsid',\n",
       " 'setuid',\n",
       " 'setxattr',\n",
       " 'spawnl',\n",
       " 'spawnle',\n",
       " 'spawnlp',\n",
       " 'spawnlpe',\n",
       " 'spawnv',\n",
       " 'spawnve',\n",
       " 'spawnvp',\n",
       " 'spawnvpe',\n",
       " 'st',\n",
       " 'stat',\n",
       " 'stat_result',\n",
       " 'statvfs',\n",
       " 'statvfs_result',\n",
       " 'strerror',\n",
       " 'supports_bytes_environ',\n",
       " 'supports_dir_fd',\n",
       " 'supports_effective_ids',\n",
       " 'supports_fd',\n",
       " 'supports_follow_symlinks',\n",
       " 'symlink',\n",
       " 'sync',\n",
       " 'sys',\n",
       " 'sysconf',\n",
       " 'sysconf_names',\n",
       " 'system',\n",
       " 'tcgetpgrp',\n",
       " 'tcsetpgrp',\n",
       " 'terminal_size',\n",
       " 'times',\n",
       " 'times_result',\n",
       " 'truncate',\n",
       " 'ttyname',\n",
       " 'umask',\n",
       " 'uname',\n",
       " 'uname_result',\n",
       " 'unlink',\n",
       " 'unsetenv',\n",
       " 'urandom',\n",
       " 'utime',\n",
       " 'wait',\n",
       " 'wait3',\n",
       " 'wait4',\n",
       " 'waitid',\n",
       " 'waitid_result',\n",
       " 'waitpid',\n",
       " 'walk',\n",
       " 'write',\n",
       " 'writev']"
      ]
     },
     "execution_count": 24,
     "metadata": {},
     "output_type": "execute_result"
    }
   ],
   "source": [
    "dir(os)"
   ]
  },
  {
   "cell_type": "code",
   "execution_count": 25,
   "id": "ba963b5e",
   "metadata": {},
   "outputs": [
    {
     "data": {
      "text/plain": [
       "'/home/lion/Documentos/Repos/Estudos-em-Python/dataScienceAcademy/FundamentosParaAnáliseDeDados'"
      ]
     },
     "execution_count": 25,
     "metadata": {},
     "output_type": "execute_result"
    }
   ],
   "source": [
    "os.getcwd()"
   ]
  },
  {
   "cell_type": "code",
   "execution_count": 26,
   "id": "880e9227",
   "metadata": {},
   "outputs": [],
   "source": [
    "import sys"
   ]
  },
  {
   "cell_type": "code",
   "execution_count": 27,
   "id": "483c9701",
   "metadata": {},
   "outputs": [
    {
     "name": "stdout",
     "output_type": "stream",
     "text": [
      "Teste"
     ]
    }
   ],
   "source": [
    "sys.stdout.write('Teste')"
   ]
  },
  {
   "cell_type": "code",
   "execution_count": 28,
   "id": "ab0a3b74",
   "metadata": {},
   "outputs": [
    {
     "data": {
      "text/plain": [
       "'3.8.8 (default, Apr 13 2021, 19:58:26) \\n[GCC 7.3.0]'"
      ]
     },
     "execution_count": 28,
     "metadata": {},
     "output_type": "execute_result"
    }
   ],
   "source": [
    "sys.version"
   ]
  },
  {
   "cell_type": "code",
   "execution_count": 29,
   "id": "4740b9a5",
   "metadata": {},
   "outputs": [
    {
     "data": {
      "text/plain": [
       "['__breakpointhook__',\n",
       " '__displayhook__',\n",
       " '__doc__',\n",
       " '__excepthook__',\n",
       " '__interactivehook__',\n",
       " '__loader__',\n",
       " '__name__',\n",
       " '__package__',\n",
       " '__spec__',\n",
       " '__stderr__',\n",
       " '__stdin__',\n",
       " '__stdout__',\n",
       " '__unraisablehook__',\n",
       " '_base_executable',\n",
       " '_clear_type_cache',\n",
       " '_current_frames',\n",
       " '_debugmallocstats',\n",
       " '_framework',\n",
       " '_getframe',\n",
       " '_git',\n",
       " '_home',\n",
       " '_xoptions',\n",
       " 'abiflags',\n",
       " 'addaudithook',\n",
       " 'api_version',\n",
       " 'argv',\n",
       " 'audit',\n",
       " 'base_exec_prefix',\n",
       " 'base_prefix',\n",
       " 'breakpointhook',\n",
       " 'builtin_module_names',\n",
       " 'byteorder',\n",
       " 'call_tracing',\n",
       " 'callstats',\n",
       " 'copyright',\n",
       " 'displayhook',\n",
       " 'dont_write_bytecode',\n",
       " 'exc_info',\n",
       " 'excepthook',\n",
       " 'exec_prefix',\n",
       " 'executable',\n",
       " 'exit',\n",
       " 'flags',\n",
       " 'float_info',\n",
       " 'float_repr_style',\n",
       " 'get_asyncgen_hooks',\n",
       " 'get_coroutine_origin_tracking_depth',\n",
       " 'getallocatedblocks',\n",
       " 'getcheckinterval',\n",
       " 'getdefaultencoding',\n",
       " 'getdlopenflags',\n",
       " 'getfilesystemencodeerrors',\n",
       " 'getfilesystemencoding',\n",
       " 'getprofile',\n",
       " 'getrecursionlimit',\n",
       " 'getrefcount',\n",
       " 'getsizeof',\n",
       " 'getswitchinterval',\n",
       " 'gettrace',\n",
       " 'hash_info',\n",
       " 'hexversion',\n",
       " 'implementation',\n",
       " 'int_info',\n",
       " 'intern',\n",
       " 'is_finalizing',\n",
       " 'last_traceback',\n",
       " 'last_type',\n",
       " 'last_value',\n",
       " 'maxsize',\n",
       " 'maxunicode',\n",
       " 'meta_path',\n",
       " 'modules',\n",
       " 'path',\n",
       " 'path_hooks',\n",
       " 'path_importer_cache',\n",
       " 'platform',\n",
       " 'prefix',\n",
       " 'ps1',\n",
       " 'ps2',\n",
       " 'ps3',\n",
       " 'pycache_prefix',\n",
       " 'set_asyncgen_hooks',\n",
       " 'set_coroutine_origin_tracking_depth',\n",
       " 'setcheckinterval',\n",
       " 'setdlopenflags',\n",
       " 'setprofile',\n",
       " 'setrecursionlimit',\n",
       " 'setswitchinterval',\n",
       " 'settrace',\n",
       " 'stderr',\n",
       " 'stdin',\n",
       " 'stdout',\n",
       " 'thread_info',\n",
       " 'unraisablehook',\n",
       " 'version',\n",
       " 'version_info',\n",
       " 'warnoptions']"
      ]
     },
     "execution_count": 29,
     "metadata": {},
     "output_type": "execute_result"
    }
   ],
   "source": [
    "dir(sys)"
   ]
  },
  {
   "cell_type": "code",
   "execution_count": 30,
   "id": "0a4a6250",
   "metadata": {},
   "outputs": [],
   "source": [
    "# importando omodulo request, utilidado para trazer url para nosso ambiente\n",
    "\n",
    "import urllib.request"
   ]
  },
  {
   "cell_type": "code",
   "execution_count": 31,
   "id": "78b2f44f",
   "metadata": {},
   "outputs": [],
   "source": [
    "# variavel armazena dados da url passados como parametro\n",
    "\n",
    "responde = urllib.request.urlopen('http://www.pip.org')"
   ]
  },
  {
   "cell_type": "code",
   "execution_count": 32,
   "id": "24a3a60e",
   "metadata": {},
   "outputs": [
    {
     "name": "stdout",
     "output_type": "stream",
     "text": [
      "<http.client.HTTPResponse object at 0x7fab8046f250>\n"
     ]
    }
   ],
   "source": [
    "print(responde)"
   ]
  },
  {
   "cell_type": "code",
   "execution_count": 33,
   "id": "e16b297b",
   "metadata": {},
   "outputs": [],
   "source": [
    "#chamando a função read no objeto reponse e salvando seu html\n",
    "\n",
    "html = responde.read()"
   ]
  },
  {
   "cell_type": "code",
   "execution_count": 36,
   "id": "13d4efc4",
   "metadata": {},
   "outputs": [
    {
     "name": "stdout",
     "output_type": "stream",
     "text": [
      "b' <!DOCTYPE html> <html lang=\"en\"> <head> <meta http-equiv=\"X-UA-Compatible\" content=\"IE=edge,chrome=1\" /> <meta charset=\"utf-8\" /> <title>\\r\\n\\tHome\\r\\n</title> <link href=\"/ResourcePackages/Bootstrap/assets/dist/css/main.min.css\" rel=\"stylesheet\" type=\"text/css\" /> <meta http-equiv=\"X-UA-Compatible\" content=\"IE=edge\">\\n<meta name=\"viewport\" content=\"width=device-width, initial-scale=1\"><script type=\"text/javascript\" src=\"/Sitefinity/WebsiteTemplates/PipSite/JS/jquery.min.js\"></script><script type=\"text/javascript\" src=\"//ajax.googleapis.com/ajax/libs/jqueryui/1.9.2/jquery-ui.min.js\"></script><script type=\"text/javascript\" src=\"/public/js/owl.carousel.min.js\"></script><script type=\"text/javascript\" src=\"//rawgit.com/kimmobrunfeldt/progressbar.js/master/dist/progressbar.js\"></script><script type=\"text/javascript\" src=\"/Sitefinity/WebsiteTemplates/PipSite/JS/bootstrap.min.js\"></script><link href=\"/Sitefinity/WebsiteTemplates/PipSite/App_Themes/Global/main.css\" media=\"all\" rel=\"stylesheet\" type=\"text/css\" /><script type=\"text/javascript\">$(document).ready(function(){\\n  $(\".login-member a\").hover(function(){\\n       $(\"span.icon-m-user-login\").css(\"color\",\"#24dd95\");\\n  },function(){\\n       $(\"span.icon-m-user-login\").css(\"color\",\"#ffffff\");\\n  });\\n});</script><meta name=\"Generator\" content=\"Sitefinity 10.2.6602.0 PE\" /><link rel=\"canonical\" href=\"https://www.pip.org\" /><link href=\"/Telerik.Web.UI.WebResource.axd?d=PMrIT5dOWaVYIcpFWUE4nJuyDS3P2F8YR6Mc_if7hTWv0R5mIamDtV9NinVArVwCCUhqGwhjRASccB2Ork3XzC7IA9DrZ0Zd4ZOkVLyTjf38pdWsscoDLj2Kr5yrSxcz0&amp;t=637655382789164454&amp;compress=0&amp;_TSM_CombinedScripts_=%3b%3bTelerik.Sitefinity.Resources%2c+Version%3d10.2.6602.0%2c+Culture%3dneutral%2c+PublicKeyToken%3db28c218413bdf563%3aen%3a1c3e6627-a90c-4375-b55c-75906376ec60%3a7a90d6a\" type=\"text/css\" rel=\"stylesheet\" /><style type=\"text/css\" media=\"all\">.testimonial{\\n  margin-top: 60px;\\n  margin-bottom: 60px; \\n  margin-left: -30px;\\n}\\n\\n.testimonial #blue_carousel .c-blue .item .box-blue h5, .testimonial #blue_carousel .c-blue .item .box-blue p{\\n   margin-right: -30px;\\n   margin-bottom: 0px;\\n   margin-left: -10px;\\n}\\n\\n.testimonial #blue_carousel .c-blue .item .box-blue h5{\\n   font-size: 14pt;\\n}\\n\\n.testimonial #blue_carousel .c-blue .item .box-blue p{\\n   font-size: 14pt;\\n   text-transform: uppercase;\\n}\\n\\n.testimonial #blue_carousel .c-blue .item:first-child .box-blue{\\n   padding-top: 35px;   \\n}\\n\\n.testimonial #blue_carousel .c-blue .item:first-child .box-blue .quotes{\\n   padding-top: 6px;\\n}\\n.testimonial #blue_carousel .c-blue .item:last-child .box-blue{\\n   padding-top: 60px;\\n}\\n\\n.testimonial #blue_carousel .c-blue .item:last-child .box-blue .quotes{\\n   padding-top: 30px;\\n}\\n\\n.section-home-brands .col-wtm hr{\\n    margin-bottom: -5.3em;\\n    position: absolute;\\n    bottom: 0;\\n    width: 80%;\\n}\\n\\n.section-home-brands .col-wtm .button-member{\\n    margin-top: 9.3em;\\n    position: absolute;\\n}</style><link href=\"/public/css/owl.carousel.min.css\" type=\"text/css\" rel=\"stylesheet\" media=\"all\" /><link href=\"/public/css/owl.theme.default.min.css\" type=\"text/css\" rel=\"stylesheet\" media=\"all\" /><style type=\"text/css\" media=\"all\">html,body\\n{\\n    overflow-x: hidden; \\n}\\n\\n#circle{\\n   position: absolute!important;\\n   margin-top:-3.7em;\\n   margin-left: -.7em;\\n}\\n.modal-dialog {\\n      width: auto !important;\\n}\\n\\n.modal .model-close {\\n    margin: 0px 0px 0px 0px;\\n}\\n\\n/*\\n@media (max-width: 990px){\\n  #circle {\\n      right: -6em;\\n      top: 10px !important;\\n      margin-top: 0px;\\n  }\\n}\\n*/\\n\\n/*\\n@media (max-width: 768px){\\n  #circle {\\n      display: block;\\n  }\\n  .modal .modal-dialog {\\n    width: 95% !important;\\n  }\\n}\\n*/\\n\\n@media (max-width:500px){\\n  .owl-theme .owl-controls .owl-nav {\\n      margin-left: -2em;\\n  }\\n  /*\\n  #circle {\\n      right: -4em;\\n  }\\n  */\\n  .arrow-down {\\n      margin-left: -3em;\\n  }\\n  #owl-home .main-title{\\n      font-size: 1.3em;\\n  }\\n  #owl-home .description{\\n      font-size: .8em;\\n      line-height: 1.2;\\n  }\\n  .h-slide {\\n      margin-top: -2em;\\n  }\\n  \\n}\\n\\n@media only screen and (max-width:740px) and (orientation: landscape) {\\n  .h-slide {\\n      margin-top: -3em;\\n  }\\n  #owl-home .main-title{\\n      font-size: 1em;\\n  }\\n  .h-slide .description {\\n    margin: 5px 0;\\n    font-size: .7em;\\n  }\\n}\\n</style><style type=\"text/css\" media=\"all\">html,body{\\n   overflow-x: hidden;\\n}\\n\\n/*------ Header Styles ------*/\\n.collapse:not(.in) span.icon-m-user-login {\\n    float: left;\\n    padding-right: .2em;\\n}\\nspan.icon-m-user-login {\\n    display: block;\\n}\\n.collapse:not(.in) .navbar-right li.login-member {\\n    margin-right: -2em;\\n    width: 240px;\\n}\\n\\n@media (max-width: 1100px){\\n  #menu-fixed .collapse:not(.in) .navbar-center{\\n     left: 35%;\\n     margin-top: 7px;\\n  }\\n  #menu-fixed .collapse:not(.in) .navbar-center li:nth-child(3){\\n    margin-top: 23px;\\n    position: absolute;\\n  }\\n  #menu-fixed .collapse:not(.in) .navbar-center li:nth-child(4){\\n    margin-top: 23px;\\n    position: absolute;\\n    margin-left: 100px;\\n  }\\n}\\n@media (max-width: 921px){\\n  #menu-fixed .collapse:not(.in) .navbar-right li:first-child{\\n     margin-top: 50px;\\n     right: -11em;\\n  }\\n  #menu-fixed .collapse:not(.in) .navbar-center{\\n     left: 40%;\\n  }\\n}\\n\\n\\n/*------ Login Modal styles ------*/\\n.modal .model-close {\\n    margin: 0px 0px 0px 0px;\\n    opacity: 1 !important;\\n}\\n.modal-dialog {\\n      width: 80% !important;\\n}\\n\\n@media (max-width: 768px){\\n  .modal .modal-dialog {\\n    width: 95% !important;\\n  }\\n  .col-sm-5.pull-right.text-center {\\n    background: rgba(9,122,192,1);\\n    z-index: 0;\\n    float: right!important;\\n  }\\n  .box-blue-modal .login-sign-in{\\n    z-index: 99;\\n  }\\n  .modal .model-close {\\n    margin: -3.3em 0px 0px 0px;\\n  }\\n  \\n  .box-blue-modal .col-sm-5.pull-right.text-center h3{\\n      margin-bottom: 10px;\\n  }\\n  .box-blue-modal .col-sm-5.pull-right.text-center .btn-default{\\n      margin-top: 0px!important;\\n  }\\n}\\n\\n@media (max-width:481px){\\n  .box-blue-modal .login-sign-in{\\n      margin-left: 0px;\\n      padding: 40px 10px 10px 10px;\\n  }\\n}\\n\\n@media screen and (min-width: 768px){\\n  .navbar-nav .dropdown-menu > li > a:link {\\n    color: #000;\\n  }\\n}\\n.dropdown:hover > ul.dropdown-menu  {\\n      display: block;\\n}\\n\\n/*---------------- Footer Styles -------------*/\\n.footer .list-inline {\\n    margin-left: 30px;\\n}\\n\\n.footer .btn, .footer input[type=\"text\"]{\\n   border-radius: 0px;\\n   margin-top: 10px;\\n}\\n.footer h3:first-child{\\n    font-family: \"Helvetica Neue LT Std\";\\n    font-weight: bold;\\n    font-style: normal;\\n    font-size: 8pt;\\n}\\n.footer input[type=\"submit\"] {\\n    font-family: \"Helvetica Neue LT Std\";\\n    font-weight: bold;\\n    font-style: normal;\\n    font-size: 12pt;\\n    background-image: url(/images/default-source/default-album/icons/arrow-white.png);\\n    padding-left: 10px;\\n    background-position-x: 90px;\\n    width: 135px;\\n    background-position-y: 20px;\\n}\\n\\n.footer .form-group{\\n    display: -webkit-inline-box;\\n}</style></head> <body><form method=\"post\" action=\"./\" id=\"aspnetForm\">\\r\\n<input type=\"hidden\" name=\"ctl05_TSSM\" id=\"ctl05_TSSM\" value=\"\" />\\r\\n<input type=\"hidden\" name=\"__VIEWSTATE\" id=\"__VIEWSTATE\" value=\"9E2gzZwALDARKz77TRvaRT26F1GjQTuFLZd3Ca+9XulRDDyjL0cgeQ5GiHNvzr3RC6mLYvjJ19nf9c9vYzEtl2VAd4TePQvajvxZrs/IDE00nh7P023TS4OrGRcruCTJDUfBcDOjrIDlKPVut8H32MzVQ23VmX7ukghLGgOyQbfFwIY92dM39huot3Siq9PduUgKV17UnPeal52MjQpNmep1L/Q/kXH0Id63u9H4d/k9HxNQsafUo0HVxd8OicM3YmQHFO9CNSNEpOOgrWT78aQepzp6C9dW/SyjXCQPtyK7Hi8p/2ebkD1KulGFEjUcf8fwmTeJxtuNuaNPfHSR66ppFGxYr7G0zLBNAbDmbJf4eUEr/NqCuQPFGB9YeiEgpYhCsOXgQ9ZF2eKmein2sUB4D49hl9YMHaxInqwCQ9qK0vrcarq3UfvVZa/Lnk7/MuaUNYMASp9rxO3NdShRRAEpfmdP1vV/sUJ721msq2GjLuxUb3qCcDh7EkNEP8iPrtTYK3C9iuEZ/5XhIMXr5qaF7iby7KThGFhRjrpox53YJaiNh5gUezKscp/glotBEtS0zIyGs67/h2T0iXw8k1enJNysraPJvql+ldRaVUiDxb2n5A7JZy6yjeF9xTnGovL+0xEavide9WvTI6qfSw==\" />\\r\\n\\r\\n\\r\\n<script src=\"/ScriptResource.axd?d=nnHyWnZ5bTPuYszCeiYmK3hIQwNB-r81hNhYCUJowHuuf3HMg_CQEyD2ArOksYRE0xLJpUzNeWmIzwy5yiWv0yf8fs1eudNB6FH4w5iVMJZ4zmPwmuaoKkKpn-YQZ9WoGGLUoJ5x_fHv_HxfCYXWGIaJZ0Z6J_A_lyFuhGbPh_A1&amp;t=363be08\" type=\"text/javascript\"></script>\\r\\n<script type=\"text/javascript\">\\r\\n//<![CDATA[\\r\\nif (typeof(Sys) === \\'undefined\\') throw new Error(\\'ASP.NET Ajax client-side framework failed to load.\\');\\r\\n//]]>\\r\\n</script>\\r\\n\\r\\n<script src=\"/ScriptResource.axd?d=4bMApOb58R6igmkUEZ0eXsWctJJ8wnf1IKU0RQnjqs1AHbzhN101TKb3KeUdwOpsIgHYMG8i3oxLtMYINSNNkLGJ9jX2cadziJJdxLp8vXgcTosrnuZqO8PCQrizNrviNgpYikgCK1sCEEWIq2fANTBh0_b7fSUZdvROi_UAb1I39mWMVegnju2BHNIql64i0&amp;t=ffffffffd99926d3\" type=\"text/javascript\"></script>\\r\\n<script src=\"/ScriptResource.axd?d=EydukmxBmDstn7gSYzQESIagEBzHB3kIz_eUpJC9xw_5scCUbOZ61OAXFQ7am57oCENuFjAc03DxBOanhfEnIHTDvfX7GVtMY_2J3yzgFyRW2s8OSZlSVi1LApiNm4kwmUqb1S2cTkYIanNQSqfS8RUQRq92sxApptOS6ERfPJphdJxoDsksCUFsB14ss47H0&amp;t=ffffffffd99926d3\" type=\"text/javascript\"></script>\\r\\n<script src=\"/ScriptResource.axd?d=8u3ngCqoRB16IXgFyG-fdn7a_CjMfn-WKwltpa7vpW43JUVSRdyzdtFyJsgeUhR4Q24d-fRaLhk_Fo7W1_PqlNSb0eer17_jNtwcptJtjsUFxJVNfvwrOmvwjUoIjYfG0&amp;t=ffffffffd8a61378\" type=\"text/javascript\"></script>\\r\\n<script src=\"/ScriptResource.axd?d=pL5wgiwL1GpmyqMwhkDjF-LS09mt4DT9sZVwPKLVCwFQjpceUeoUXIBkEhczbACzpA3UkfBVTieKsUv9PzwrW5FSf1Hllu09Txbi91N49SzeebL3vi70lPhxhO1MJo1-tYcjV1cNTDLOv4BqWnV87A2&amp;t=ffffffffd8a61378\" type=\"text/javascript\"></script>\\r\\n<script src=\"/ScriptResource.axd?d=75C6zhn_I2ZyGfX3QbVbDCtIEBTiHT0iwo5iJJHQe8k2K07RAiTmuehAgGEi25zGaFt45CDv1D_OpQ1yaM7Wiydl0fbw8zHL615iHzmSXIcttNMxV-9pt6nw0V0fagATocxq0jojYhOp3FKvaWWckA2&amp;t=ffffffffd8a61378\" type=\"text/javascript\"></script>\\r\\n<script src=\"/ScriptResource.axd?d=3ALIo0v4Eh_1FjrgiqyCska3WvtK-odpfZY69wKzdl3wSHsNLs3JuZ2lRRI8bwKHew82PIub5hXE99ErbM2s-y94OuVkI24Q_WhVTIuJIvqvyI07_ate3Oy1w0tJtGEUjGg81fOMOho0BLEkKvVgJMvz-rDruzz4k_MapZRMlT81&amp;t=72c3e51d\" type=\"text/javascript\"></script>\\r\\n<input type=\"hidden\" name=\"__VIEWSTATEGENERATOR\" id=\"__VIEWSTATEGENERATOR\" value=\"198BF687\" />\\r\\n<input type=\"hidden\" name=\"__EVENTVALIDATION\" id=\"__EVENTVALIDATION\" value=\"X+1ngvbE8SAVSUXF9BSNfA5GcPwmQjdjWhIdWRnSol+3hbiON+HfCWzz1pNvNMZ/totO3yNywMLjS45oret75OXW2penLeIY32PKq7xEcsuA9tlP0TYyuQ+Tu09bb6+1a/+Uxobu0xFllSBh5jLm2yTKT3EQKA60voTtcjCbTcNJZ2US55c4jg0BqOp1edMuJ0pM2lZLtNKsjxczkrVzmon0XxkPZ/CGuz/YM8VjiMk=\" />  <div> \\r\\n\\n<header id=\"menu-fixed\">\\n<div class=\"container\">\\n<nav class=\"navbar navbar-static-top\">\\n<div class=\"container-fluid\">\\n  <div class=\"navbar-header\"><a class=\"navbar-brand navbar-link\" href=\"/\"><img src=\"/images/default-source/home-marketing-site/pip-logo.png\" alt=\"PIP\" /></a>\\n<button class=\"navbar-toggle collapsed\" data-toggle=\"collapse\" data-target=\"#navcol-1\" onclick=\"return false;\"><span class=\"sr-only\">Toggle navigation</span><span class=\"icon-bar\"></span><span class=\"icon-bar\"></span><span class=\"icon-bar\"></span></button>\\n</div>\\n<div class=\"collapse navbar-collapse\" id=\"navcol-1\">\\n\\n\\n  \\n      \\n    \\n    \\n    \\n\\t<ul class=\"nav navbar-nav navbar-center\">\\n\\t\\n\\t\\t\\t\\t\\t<li>\\n\\t\\t\\t\\t\\t\\t<a href=\"/practices\">Practices</a>\\n\\t\\t\\t\\t\\t\\t\\n\\t\\t\\t\\t\\t</li>\\n\\t\\t\\t\\t\\n\\t\\t\\t\\t\\t<li>\\n\\t\\t\\t\\t\\t\\t<a href=\"/our-members\">Our Members</a>\\n\\t\\t\\t\\t\\t\\t\\n\\t\\t\\t\\t\\t</li>\\n\\t\\t\\t\\t\\n\\t\\t\\t\\t\\t<li>\\n\\t\\t\\t\\t\\t\\t<a href=\"/about\">About</a>\\n\\t\\t\\t\\t\\t\\t<ul id=\"Contentplaceholder1_TE800CC98007_ctl00_ctl00_ctl02_ctl02_childNodesContainer\">\\n\\t\\t\\t\\t\\t<li>\\n\\t\\t\\t\\t\\t\\t<a href=\"/about/about-pip\">About PIP</a>\\n\\t\\t\\t\\t\\t\\t\\n\\t\\t\\t\\t\\t</li>\\n\\t\\t\\t\\t\\n\\t\\t\\t\\t\\t<li>\\n\\t\\t\\t\\t\\t\\t<a href=\"/about/faq-acronyms\">FAQ & Acronyms</a>\\n\\t\\t\\t\\t\\t\\t\\n\\t\\t\\t\\t\\t</li>\\n\\t\\t\\t\\t</ul>\\n\\t\\t\\t\\t\\t</li>\\n\\t\\t\\t\\t\\n\\t\\t\\t\\t\\t<li>\\n\\t\\t\\t\\t\\t\\t<a href=\"/contact\">Contact</a>\\n\\t\\t\\t\\t\\t\\t\\n\\t\\t\\t\\t\\t</li>\\n\\t\\t\\t\\t\\n    </ul>\\n   \\n\\n\\n\\n<!--<ul class=\"nav navbar-nav navbar-center\">\\n    <li><a class=\"active\" href=\"#\">Practices</a></li>\\n    <li><a href=\"#\">Our Members</a></li>\\n    <li><a href=\"#\">About</a></li>\\n    <li><a href=\"#\">Contact</a></li>\\n</ul>-->\\n<script type=\"text/javascript\">\\n    (function ($) {\\n       var index = 0;\\n\\t$(\".navbar-nav li\").each(function () \\n        { \\n                   \\t\\n            \\n        \\tif ($(this).find(\"ul\").length) {\\n\\t\\t  index = index + 1 ;\\n                  $(this).addClass(\"dropdown\");\\n                  var link = $(this).find(\"a\").first();\\n                  link.addClass(\"dropdown-toggle\");\\n                  link.attr(\"data-toggle\",\"dropdown\");\\n                  link.attr(\"aria-haspopup\",\"true\");\\n                  link.attr(\"aria-expanded\",\"false\");\\n                  link.append( \"<span class=\\'caret\\'></span>\" );\\n                  link.attr(\"href\",\"#;\");\\n                  link.attr(\"id\",\"drop\"+index);\\n                  \\n                  $(this).find(\"ul\").addClass(\"dropdown-menu\");\\n                  $(this).find(\"ul\").attr(\"role\",\"menu\");\\n                  $(this).find(\"ul\").attr(\"aria-labelledby\",\"drop\"+index);\\n\\t\\t\\n                }    \\n          \\n        }) ;\\n\\t   \\n\\t   \\n\\t   \\n    })(jQuery);\\n  \\n\\n  \\n</script>   \\n\\n<ul class=\"nav navbar-nav navbar-right\">\\n    <li>\\n      <div class=\"button-access\"><a href=\"/get-access\">Get Access</a></div>\\n    </li>\\n    <li class=\"login-member\" data-toggle=\"modal\" data-target=\"#myLogin\">\\n      <a href=\"#\">\\n        <span class=\"icon-m-user-login\"></span>\\n        <span>Already a Member?</span><br />\\n        <span style=\"font-weight:bold;\">Login</span>\\n      </a>\\n   </li> \\n</ul>\\n</div>\\n</div>\\n</nav>\\n</div>\\n</header>\\n\\n\\n\\n  \\n  \\n  <div class=\"sf_cols\">\\r\\n    <div class=\"sf_colsOut sf_1col_1_100\">\\r\\n        <div id=\"Contentplaceholder1_TE800CC98008_Col00\" class=\"sf_colsIn sf_1col_1in_100\"><div class=\"sf_cols\">\\r\\n    <div class=\"sf_colsOut sf_1col_1_100\">\\r\\n        <div id=\"Contentplaceholder1_TE800CC98051_Col00\" class=\"sf_colsIn sf_1col_1in_100\"><div class=\"sf_cols\">\\r\\n    <div class=\"sf_colsOut sf_1col_1_100\">\\r\\n        <div id=\"Contentplaceholder1_C023_Col00\" class=\"sf_colsIn sf_1col_1in_100\"><div>\\r\\n\\t\\n\\n<!--[if IE]>\\n<style>\\n    .owl-theme .owl-controls .owl-nav .owl-prev{\\nfloat: left;\\n    height: 68px;\\n    /* width: 74px; */\\n    padding: 4px 17px 4px 0px;\\n    margin-top: 18px !important;\\n    }\\n</style>\\n<![endif]-->\\n\\n\\n<!-- 2017.3.913.40 -->\\n        <div id=\"owl-home\" class=\"owl-carousel owl-theme\">\\n                    \\n       \\n            <article class=\"item section-home-slide\" data-sf-provider=\\'OpenAccessProvider\\' data-sf-id=\\'776ca503-95a2-62f7-89ed-ff00008ddc6a\\' data-sf-type=\"Telerik.Sitefinity.DynamicModules.Model.DynamicContent\">\\n\\t\\t<!--<img src=\\'https://www.pip.org/images/default-source/default-album/members-bw.jpg?sfvrsn=dfffc59e_0\\' alt=\\'members-bw\\' title=\\'members-bw\\'  />-->\\n<img src=\\'https://www.pip.org/images/default-source/default-album/members-bw.jpg?sfvrsn=dfffc59e_0\\' alt=\\'members-bw\\' title=\\'members-bw\\' />\\n               \\n                <div class=\"section-home-slide-filter\">&nbsp;</div>\\n                <div class=\"container c-h-slide\">\\n                    <div class=\"row\">\\n                        <div class=\"col-md-6 h-slide\">\\n                            <span class=\"small-title\" style=\"display:none;\">PIP ORGANIZATION</span>\\n                            <h1 class=\"main-title\" style=\"display:none;\">\\n                                We are our Members\\n                            </h1>\\n                            <hr style=\"display:none;\" />\\n                            <p class=\"description\" style=\"display:none;\">PIP Practices are written through a harmonization process. Members assign engineers to discipline teams where each member company shares their non-proprietary best practices.</p>\\n                              <div class=\"h-s-button practices-button\" style=\"display:none;\"><a href=\"/our-members\">View Members <span class=\"glyphicon glyphicon-arrow-right\"></span></a></div>\\n                        </div>\\n                    </div>\\n                </div>\\n<div class=\"arrow-down\">SCROLL DOWN <br /><span class=\"glyphicon glyphicon-menu-down\"></span></div>\\n            </article>\\n        \\n    \\n       \\n            <article class=\"item section-home-slide\" data-sf-provider=\\'OpenAccessProvider\\' data-sf-id=\\'686ca503-95a2-62f7-89ed-ff00008ddc6a\\' data-sf-type=\"Telerik.Sitefinity.DynamicModules.Model.DynamicContent\">\\n\\t\\t<!--<img src=\\'https://www.pip.org/images/default-source/default-album/purpose-bw.jpg?sfvrsn=a6ffc59e_0\\' alt=\\'purpose-bw\\' title=\\'purpose-bw\\'  />-->\\n<img src=\\'https://www.pip.org/images/default-source/default-album/purpose-bw.jpg?sfvrsn=a6ffc59e_0\\' alt=\\'purpose-bw\\' title=\\'purpose-bw\\' />\\n               \\n                <div class=\"section-home-slide-filter\">&nbsp;</div>\\n                <div class=\"container c-h-slide\">\\n                    <div class=\"row\">\\n                        <div class=\"col-md-6 h-slide\">\\n                            <span class=\"small-title\" style=\"display:none;\">PIP ENGINEERING PRACTICES</span>\\n                            <h1 class=\"main-title\" style=\"display:none;\">\\n                                Fit for Purpose\\n                            </h1>\\n                            <hr style=\"display:none;\" />\\n                            <p class=\"description\" style=\"display:none;\">PIP Practices are clear, concise, and suitable for purchase order or contract. Practices touch constructability, operations, and maintenance and are consistent across disciplines.</p>\\n                              <div class=\"h-s-button practices-button\" style=\"display:none;\"><a href=\"/practices\">View Practices <span class=\"glyphicon glyphicon-arrow-right\"></span></a></div>\\n                        </div>\\n                    </div>\\n                </div>\\n<div class=\"arrow-down\">SCROLL DOWN <br /><span class=\"glyphicon glyphicon-menu-down\"></span></div>\\n            </article>\\n        \\n    \\n       \\n            <article class=\"item section-home-slide\" data-sf-provider=\\'OpenAccessProvider\\' data-sf-id=\\'336ca503-95a2-62f7-89ed-ff00008ddc6a\\' data-sf-type=\"Telerik.Sitefinity.DynamicModules.Model.DynamicContent\">\\n\\t\\t<!--<img src=\\'https://www.pip.org/images/default-source/home-marketing-site/bg-slide-home.jpg?sfvrsn=cc68c69e_2\\' alt=\\'bg-slide-home\\' title=\\'bg-slide-home\\'  />-->\\n<img src=\\'https://www.pip.org/images/default-source/home-marketing-site/bg-slide-home.jpg?sfvrsn=cc68c69e_2\\' alt=\\'bg-slide-home\\' title=\\'bg-slide-home\\' />\\n               \\n                <div class=\"section-home-slide-filter\">&nbsp;</div>\\n                <div class=\"container c-h-slide\">\\n                    <div class=\"row\">\\n                        <div class=\"col-md-6 h-slide\">\\n                            <span class=\"small-title\" style=\"display:none;\">OUR VISION</span>\\n                            <h1 class=\"main-title\" style=\"display:none;\">\\n                                Value Through Collaboration\\n                            </h1>\\n                            <hr style=\"display:none;\" />\\n                            <p class=\"description\" style=\"display:none;\">Save time with our expert developed practices.</p>\\n                              <div class=\"h-s-button practices-button\" style=\"display:none;\"><a href=\"/practices\">View Practices <span class=\"glyphicon glyphicon-arrow-right\"></span></a></div>\\n                        </div>\\n                    </div>\\n                </div>\\n<div class=\"arrow-down\">SCROLL DOWN <br /><span class=\"glyphicon glyphicon-menu-down\"></span></div>\\n            </article>\\n        \\n    \\n                    \\n                </div>\\n            \\n    <input id=\"ctl00_Contentplaceholder1_ctl09_ctl00_ctl00_dynamicContentListView_ClientState\" name=\"ctl00_Contentplaceholder1_ctl09_ctl00_ctl00_dynamicContentListView_ClientState\" type=\"hidden\" /><span id=\"ctl00_Contentplaceholder1_ctl09_ctl00_ctl00_dynamicContentListView\" style=\"display:none;\"></span>\\n\\n\\n<script>\\n        $(document).ready(function (){\\n            $(\".arrow-down\").click(function (){\\n                $(\\'html, body\\').animate({\\n                    scrollTop: $(\".section-home-wwo\").offset().top\\n                }, 2000);\\n            });\\n        });\\n    </script>\\n\\r\\n</div>\\r\\n            \\r\\n        </div>\\r\\n    </div>\\r\\n</div>\\r\\n            \\r\\n        </div>\\r\\n    </div>\\r\\n</div><div class=\"sf_cols\">\\n    <div class=\"sf_colsOut section-home-wwo\">\\n        <div id=\"Contentplaceholder1_C016_Col00\" class=\"sf_colsIn sf_1col_1in_100\"><div class=\"sf_cols\">\\n    <div class=\"sf_colsOut section-home-wwo-filter1\" style=\"width: 100%;\">\\n        <div id=\"Contentplaceholder1_C024_Col00\" class=\"sf_colsIn sf_1col_1in_100\"><div id=\"Contentplaceholder1_C033_Col00\" class=\"sf_colsIn container\" data-sf-element=\"Container\" data-placeholder-label=\"Container\"><div class=\"row\" data-sf-element=\"Row\">\\n    <div id=\"Contentplaceholder1_C013_Col00\" class=\"sf_colsIn col-md-4\" data-sf-element=\"Column 1\" data-placeholder-label=\"Column 1\"><div class=\\'sfContentBlock\\'><div class=\"col-wwo\" style=\"margin-top: 30px\">\\n<h2><span class=\"blue\">What is PIP?</span></h2>\\n<p>PIP - Process Industry Practices - is a member consortium of process industry owners and engineering construction contractors.<br>\\n<br>\\nMembers collaborate to harmonize internal company standards and \\xe2\\x80\\x98best practices\\xe2\\x80\\x9d around design, procurement, construction, and maintenance into industry wide PIP Practices for member use.<br>\\n<br>\\nPIP Practices are on a 5-year revision cycle and are written and maintained by members on discipline teams.<br>\\n<br>\\n<br>\\n</p>\\n<hr>\\n<a href=\"https://pip.org/about/hygienic-processes/\" target=\"_blank\">Function Team Spotlight: Hygienic Process</a></div>\\r\\n\\r\\n\\r\\n</div>\\n    </div>\\n    <div id=\"Contentplaceholder1_C013_Col01\" class=\"sf_colsIn col-md-8\" data-sf-element=\"Column 2\" data-placeholder-label=\"Column 2\"><div class=\"sf_cols\">\\n    <div class=\"sf_colsOut col-icons\">\\n        <div id=\"Contentplaceholder1_C025_Col00\" class=\"sf_colsIn sf_1col_1in_100\"><div class=\"row\" data-sf-element=\"Row\">\\n    <div id=\"Contentplaceholder1_C014_Col00\" class=\"sf_colsIn col-md-6\" data-sf-element=\"Column 1\" data-placeholder-label=\"Column 1\"><div class=\\'sfContentBlock\\'><span class=\"icon-m-home-2\"></span>\\n<h4>Collective Wisdom</h4>\\n<p>No one is as smart as all of us. PIP has 10,000 years of combined engineering experience in one place.</p>\\r\\n\\r\\n\\r\\n</div>\\n    </div>\\n    <div id=\"Contentplaceholder1_C014_Col01\" class=\"sf_colsIn col-md-6\" data-sf-element=\"Column 2\" data-placeholder-label=\"Column 2\"><div class=\\'sfContentBlock\\'><span class=\"icon-m-home-1\"></span>\\n<h4>Capital Project Savings</h4>\\n<p>Members share the goal of reducing total installed costs of process plants by up to 5% through the implementation of common industry practices.</p>\\r\\n\\r\\n\\r\\n</div>\\n    </div>\\n</div>\\n<div class=\"row\" data-sf-element=\"Row\">\\n    <div id=\"Contentplaceholder1_C015_Col00\" class=\"sf_colsIn col-md-6\" data-sf-element=\"Column 1\" data-placeholder-label=\"Column 1\"><div class=\\'sfContentBlock\\'><span class=\"icon-m-home-3\"></span>\\n<h4>Lower Costs</h4>\\n<p>Up to 70% reduction in costs for generating and maintaining internal company standards.</p>\\r\\n\\r\\n\\r\\n</div>\\n    </div>\\n    <div id=\"Contentplaceholder1_C015_Col01\" class=\"sf_colsIn col-md-6\" data-sf-element=\"Column 2\" data-placeholder-label=\"Column 2\"><div class=\\'sfContentBlock\\'><span class=\"icon-m-home-4\"></span>\\n<h4>Up To Date</h4>\\n<p>PIP is focused on staying current to maintain value in all PIP Practices.</p>\\r\\n\\r\\n\\r\\n</div>\\n    </div>\\n</div>\\n\\n            \\n        </div>\\n    </div>\\n</div>\\n    </div>\\n</div>\\n\\n</div>\\n\\n            \\n        </div>\\n    </div>\\n</div><div id=\"Contentplaceholder1_C017_Col00\" class=\"sf_colsIn container\" data-sf-element=\"Container\" data-placeholder-label=\"Container\">\\n</div>\\n\\n            \\n        </div>\\n    </div>\\n</div><div class=\"sf_cols\">\\n    <div class=\"sf_colsOut section-home-brands\">\\n        <div id=\"Contentplaceholder1_TE800CC98011_Col00\" class=\"sf_colsIn sf_1col_1in_100\"><div class=\"sf_cols\">\\n    <div class=\"sf_colsOut section-home-brands\">\\n        <div id=\"Contentplaceholder1_C026_Col00\" class=\"sf_colsIn sf_1col_1in_100\"><div id=\"Contentplaceholder1_C028_Col00\" class=\"sf_colsIn container\" data-sf-element=\"Container\" data-placeholder-label=\"Container\"><div class=\"row\" data-sf-element=\"Row\">\\n    <div id=\"Contentplaceholder1_C029_Col00\" class=\"sf_colsIn col-md-4 col-xs-12 col-wtm\" data-sf-element=\"Column 1\" data-placeholder-label=\"Column 1\"><div class=\\'sfContentBlock\\'><h2><span class=\"blue\">Member Feedback<br>\\n<br>\\n</span></h2>\\n<p>One of the unique features of PIP is that each member benefits from the collective efforts of the other Members.\\x03\\n</p>\\n<br>\\n<div class=\"button-member\">\\n<br>\\n<a href=\"/get-access\">Become a Member</a></div>\\r\\n\\r\\n\\r\\n</div>\\n    </div>\\n    <div id=\"Contentplaceholder1_C029_Col01\" class=\"sf_colsIn col-md-8  col-xs-12\" data-sf-element=\"Column 2\" data-placeholder-label=\"Column 2\"><div>\\r\\n\\t\\n\\n        <div class=\"testimonial\">\\n                <div id=\"blue_carousel\" class=\"carousel slide\" data-ride=\"carousel\">\\n                    <div class=\"carousel-inner c-blue\" role=\"listbox\">\\n                    \\n        <div class=\"item\" data-sf-provider=\\'OpenAccessProvider\\' data-sf-id=\\'dc20a603-95a2-62f7-89ed-ff00008ddc6a\\' data-sf-type=\"Telerik.Sitefinity.DynamicModules.Model.DynamicContent\">\\n            <div class=\"container-fluid\">\\n                <div class=\"row\">\\n                    <div class=\"col-md-4 imagen-left\">\\n                        <img src=\\'https://www.pip.org/images/default-source/default-album/pip-2015-ac---scott-develle---huntsman.jpg?sfvrsn=ae83c49e_0\\' alt=\\'Scott Develle - Huntsman\\' title=\\'Scott Develle - Huntsman\\' class=\"img-responsive\" /></div>\\n                    <div class=\"col-md-8 box-blue\">\\n                        \\n                        <div class=\"quotes\">\\n                                <span class=\"pull-left\"><img alt=\"comilla-left\" src=\"/images/default-source/Conference-Site/quote1.jpg\"></span>\\n                                <span class=\"pull-right\"><img alt=\"comilla-right\" src=\"/images/default-source/Conference-Site/quote2.jpg\"></span>\\n                            </div>\\n                       <h5 class=\"p-bold\">We are a strong supporter of PIP because we believe in the mission and realize the value daily. Our confidence in the Practices is in part because we contribute to their development and in part because we realize that we also benefit from the knowledge and experience of the participants from other companies.</h5>\\n                         <hr>\\n                        <p class=\"p-normal\">- Scott Develle, Director of Corporate Engineering, Huntsman</p>\\n                         <li data-target=\"#blue_carousel\" data-slide-to=\"0\" class=\"logoelement\"><a href=\"#\"><img src=\\'https://www.pip.org/images/default-source/default-album/huntsman-2016.png?sfvrsn=b983c49e_0\\' alt=\\'Huntsman\\' title=\\'Huntsman\\' /></a></li>\\n                                         </div>\\n                </div>\\n            </div>\\n        </div>\\n    \\n        <div class=\"item\" data-sf-provider=\\'OpenAccessProvider\\' data-sf-id=\\'ae20a603-95a2-62f7-89ed-ff00008ddc6a\\' data-sf-type=\"Telerik.Sitefinity.DynamicModules.Model.DynamicContent\">\\n            <div class=\"container-fluid\">\\n                <div class=\"row\">\\n                    <div class=\"col-md-4 imagen-left\">\\n                        <img src=\\'https://www.pip.org/images/default-source/default-album/john-mcdermott---direct-energy---headshot.jpg?sfvrsn=ed83c49e_0\\' alt=\\'John McDermott Direct Energy\\' title=\\'John McDermott Direct Energy\\' class=\"img-responsive\" /></div>\\n                    <div class=\"col-md-8 box-blue\">\\n                        \\n                        <div class=\"quotes\">\\n                                <span class=\"pull-left\"><img alt=\"comilla-left\" src=\"/images/default-source/Conference-Site/quote1.jpg\"></span>\\n                                <span class=\"pull-right\"><img alt=\"comilla-right\" src=\"/images/default-source/Conference-Site/quote2.jpg\"></span>\\n                            </div>\\n                       <h5 class=\"p-bold\">PIP membership benefits us tremendously. It provides us a library of up to date and applicable practices that, when leveraged by our project managers and utilized by our engineers, ensures we meet current best practices and provides consistency from project to project. Membership also provides us with opportunities to have team members involved in an industry organization providing opportunities for development and industry networking.</h5>\\n                         <hr>\\n                        <p class=\"p-normal\">- John McDermott, Head of Projects & Engineering, Centrica</p>\\n                         <li data-target=\"#blue_carousel\" data-slide-to=\"1\" class=\"logoelement\"><a href=\"#\"><img src=\\'https://www.pip.org/images/default-source/member-logos/centrica.png?sfvrsn=37ca9e_2\\' alt=\\'centrica\\' title=\\'centrica\\' /></a></li>\\n                                         </div>\\n                </div>\\n            </div>\\n        </div>\\n    \\n        <div class=\"item\" data-sf-provider=\\'OpenAccessProvider\\' data-sf-id=\\'80dfa503-95a2-62f7-89ed-ff00008ddc6a\\' data-sf-type=\"Telerik.Sitefinity.DynamicModules.Model.DynamicContent\">\\n            <div class=\"container-fluid\">\\n                <div class=\"row\">\\n                    <div class=\"col-md-4 imagen-left\">\\n                        <img src=\\'https://www.pip.org/images/default-source/default-album/josh-pearson---res-kaidi---head-shot.jpg?sfvrsn=8683c49e_0\\' alt=\\'Josh Pearson - RES Kaidi\\' title=\\'Josh Pearson - RES Kaidi\\' class=\"img-responsive\" /></div>\\n                    <div class=\"col-md-8 box-blue\">\\n                        \\n                        <div class=\"quotes\">\\n                                <span class=\"pull-left\"><img alt=\"comilla-left\" src=\"/images/default-source/Conference-Site/quote1.jpg\"></span>\\n                                <span class=\"pull-right\"><img alt=\"comilla-right\" src=\"/images/default-source/Conference-Site/quote2.jpg\"></span>\\n                            </div>\\n                       <h5 class=\"p-bold\">RES Kaidi is a high energy, fast acting technology company in the alternative energy business. We do not have time, experience or funding to create practices from scratch. We use PIP Practices as is, out of the box, and deploy them on our design packages. Choosing PIP Practices is not only a matter of savings, our products would not be complete without the existence of PIP Practices.</h5>\\n                         <hr>\\n                        <p class=\"p-normal\">- Joshua Pearson, C. Ronald Simpkins Award Winner 2017</p>\\n                         <li data-target=\"#blue_carousel\" data-slide-to=\"2\" class=\"logoelement\"><a href=\"#\"><img src=\\'https://www.pip.org/images/default-source/home-marketing-site/pip-logo.png?sfvrsn=cf68c69e_2\\' alt=\\'pip-logo\\' title=\\'pip-logo\\' /></a></li>\\n                                         </div>\\n                </div>\\n            </div>\\n        </div>\\n    \\n                </div>\\n                <div class=\"controls\">\\n                    <ul class=\"nav\" id=\"brandelements\">\\n                    </ul>\\n                </div>\\n            </div>\\n        </div>\\n    <input id=\"ctl00_Contentplaceholder1_ctl20_ctl00_ctl00_dynamicContentListView_ClientState\" name=\"ctl00_Contentplaceholder1_ctl20_ctl00_ctl00_dynamicContentListView_ClientState\" type=\"hidden\" /><span id=\"ctl00_Contentplaceholder1_ctl20_ctl00_ctl00_dynamicContentListView\" style=\"display:none;\"></span>\\n\\n\\n\\r\\n</div><script type=\"text/javascript\"> $(\\'#blue_carousel\\').find(\\'.item\\').first().addClass(\\'active\\');\\n\\t$(\\'#blue_carousel\\').find(\\'.logoelement\\').appendTo(\"#brandelements\");\\n$(document).ready(function(ev){\\n    $(\\'#blue_carousel\\').on(\\'slide.bs.carousel\\', function (evt) {\\n      \\n      $(\\'#blue_carousel .controls li.active\\').removeClass(\\'active\\');\\n      $(\\'#blue_carousel .controls li:eq(\\'+$(evt.relatedTarget).index()+\\')\\').addClass(\\'active\\');\\n    })\\n});</script>\\n    </div>\\n</div>\\n\\n</div>\\n\\n            \\n        </div>\\n    </div>\\n</div><div id=\"Contentplaceholder1_TE800CC98037_Col00\" class=\"sf_colsIn container\" data-sf-element=\"Container\" data-placeholder-label=\"Container\">\\n</div>\\n\\n            \\n        </div>\\n    </div>\\n</div><div class=\"sf_cols\">\\n    <div class=\"sf_colsOut footer\">\\n        <div id=\"Contentplaceholder1_TE800CC98010_Col00\" class=\"sf_colsIn sf_1col_1in_100\"><div id=\"Contentplaceholder1_TE800CC98024_Col00\" class=\"sf_colsIn container\" data-sf-element=\"Container\" data-placeholder-label=\"Container\"><div class=\"row\" data-sf-element=\"Row\">\\n    <div id=\"Contentplaceholder1_TE800CC98025_Col00\" class=\"sf_colsIn col-md-4 col-xs-12\" data-sf-element=\"Column 1\" data-placeholder-label=\"Column 1\"><div id=\"Contentplaceholder1_TE800CC98056\" class=\"hide-fieldset\">\\r\\n\\t\\r\\n<fieldset id=\"Contentplaceholder1_TE800CC98056_ctl00_ctl00_formFieldset\" class=\"sfnewsletterForm sfSubscribe\">\\r\\n        <div id=\"defaultForm\">\\r\\n    <h3 id=\"Contentplaceholder1_TE800CC98056_ctl00_ctl00_widgetTitle\">\\r\\n\\t\\tSTAY CONNECTED\\r\\n\\t</h3>\\r\\n    <p id=\"Contentplaceholder1_TE800CC98056_ctl00_ctl00_widgetDescription\" style=\"display:none;\"></p>\\r\\n    <div id=\"Contentplaceholder1_TE800CC98056_ctl00_ctl00_messageControl\" class=\"sfMessage\">\\r\\n\\r\\n\\t</div>\\r\\n\\r\\n\\r\\n        \\r\\n        <input name=\"ctl00$Contentplaceholder1$TE800CC98056$ctl00$ctl00$emailAddress\" type=\"text\" id=\"Contentplaceholder1_TE800CC98056_ctl00_ctl00_emailAddress\" class=\"form-control\" placeholder=\"Email sign-up...\" />\\r\\n\\r\\n        \\r\\n        \\r\\n\\r\\n        \\r\\n        \\r\\n\\r\\n        <input type=\"submit\" name=\"ctl00$Contentplaceholder1$TE800CC98056$ctl00$ctl00$subscribeButton\" value=\"Submit\" onclick=\"javascript:WebForm_DoPostBackWithOptions(new WebForm_PostBackOptions(&quot;ctl00$Contentplaceholder1$TE800CC98056$ctl00$ctl00$subscribeButton&quot;, &quot;&quot;, true, &quot;subscribeFormaac24dc1-01fa-4b05-a265-9823ef3bba45&quot;, &quot;&quot;, false, false))\" id=\"Contentplaceholder1_TE800CC98056_ctl00_ctl00_subscribeButton\" class=\"btn btn-default\" />\\r\\n        <div class=\"form-group\">\\r\\n            <div class=\"has-error\">\\r\\n                \\r\\n                \\r\\n            </div>\\r\\n        </div>\\r\\n    </div>\\r\\n</fieldset>\\r\\n\\r\\n\\r\\n\\r\\n</div>\\n<div >\\n    <div ><a href=\"https://www.facebook.com/ProcessIndustryPractices/\" target=\"_blank\"><span class=\"icon-m-facebook\"></span></a>\\n\\n<a href=\"https://www.linkedin.com/groups/4651066/profile\" target=\"_blank\"><span class=\"icon-m-linkedin\"></span></a></div>    \\n\\n</div>\\n    </div>\\n    <div id=\"Contentplaceholder1_TE800CC98025_Col01\" class=\"sf_colsIn col-md-5 col-xs-12 logo-footer\" data-sf-element=\"Column 2\" data-placeholder-label=\"Column 2\">\\n<div >\\n    <div ><img alt=\"logo-footer\" data-displaymode=\"Original\" src=\"/images/default-source/home-marketing-site/logo-footer.png?sfvrsn=a978c69e_0\" title=\"logo-footer\"></div>    \\n\\n</div>\\n    </div>\\n    <div id=\"Contentplaceholder1_TE800CC98025_Col02\" class=\"sf_colsIn col-md-3 col-xs-12 footer-bottom\" data-sf-element=\"Column 3\" data-placeholder-label=\"Column 3\">\\n<div >\\n    <div ><h3>Explore</h3></div>    \\n\\n</div>\\n<div class=\" col-md-6\">\\n\\t<ul class=\"list-unstyled\">\\n\\t\\n\\t\\t\\t\\t\\t<li class=\"active\">\\n\\t\\t\\t\\t\\t\\t<a href=\"/\">Home</a>\\n\\t\\t\\t\\t\\t\\t\\n\\t\\t\\t\\t\\t</li>\\n\\t\\t\\t\\t\\n\\t\\t\\t\\t\\t<li>\\n\\t\\t\\t\\t\\t\\t<a href=\"/practices\">Practices</a>\\n\\n\\t\\t\\t\\t\\t</li>\\n\\t\\t\\t\\t\\n\\t\\t\\t\\t\\t<li>\\n\\t\\t\\t\\t\\t\\t<a href=\"/about/faq-acronyms\">FAQ & Acronyms</a>\\n\\n\\t\\t\\t\\t\\t</li>\\n\\t\\t\\t\\t\\n\\t</ul>\\n</div>\\n\\n   \\n<div class=\" col-md-6\">\\n\\t<ul class=\"list-unstyled\">\\n\\t\\n\\t\\t\\t\\t\\t<li>\\n\\t\\t\\t\\t\\t\\t<a href=\"/our-members\">Our Members</a>\\n\\n\\t\\t\\t\\t\\t</li>\\n\\t\\t\\t\\t\\n\\t\\t\\t\\t\\t<li>\\n\\t\\t\\t\\t\\t\\t<a href=\"/contact\">Contact</a>\\n\\n\\t\\t\\t\\t\\t</li>\\n\\t\\t\\t\\t\\n\\t</ul>\\n</div>\\n\\n   \\n    </div>\\n</div>\\n\\n<div >\\n    <div ><hr></div>    \\n\\n</div><div class=\"row footer-bottom\" data-sf-element=\"Row\">\\n    <div id=\"Contentplaceholder1_TE800CC98027_Col00\" class=\"sf_colsIn col-md-5 col-md-offset-4 col-xs-12\" data-sf-element=\"Column 1\" data-placeholder-label=\"Column 1\">\\n<div >\\n    <div ><p style=\"text-align: center\">\\xc2\\xa9 Process Industry Practices 2020. All Rights Reserved.</p></div>    \\n\\n</div>\\n    </div>\\n    <div id=\"Contentplaceholder1_TE800CC98027_Col01\" class=\"sf_colsIn col-md-3 col-xs-12\" data-sf-element=\"Column 2\" data-placeholder-label=\"Column 2\">\\n<div >\\n    <div ><ul class=\"list-inline\"><li>Terms Of Use</li><li>Privacy Policy</li><li>FAQ</li></ul></div>    \\n\\n</div>\\n    </div>\\n</div>\\n\\n</div>\\n\\n            \\n        </div>\\n    </div>\\n</div>\\r\\n            \\r\\n        </div>\\r\\n    </div>\\r\\n</div>\\r\\n<script type=\"text/javascript\">\\r\\n    function validateEmail(sender, args) {\\r\\n        if (args.Value == \"\") {\\r\\n            args.IsValid = false;\\r\\n        }\\r\\n        else {\\r\\n            var filter = /^([a-zA-Z0-9_\\\\.\\\\-])+\\\\@(([a-zA-Z0-9\\\\-])+\\\\.)+([a-zA-Z0-9]{2,4})+$/;\\r\\n            if (!filter.test(args.Value)) {\\r\\n                args.IsValid = false;\\r\\n            }\\r\\n        }\\r\\n    }\\r\\n\\r\\n</script>\\r\\n\\r\\n\\r\\n<div class=\"modal fade bs-example-modal-lg in\" id=\"myLogin\" tabindex=\"-1\" role=\"dialog\" aria-labelledby=\"myLargeModalLabel\">\\r\\n    <div class=\"modal-dialog modal-lg\">\\r\\n        <div class=\"modal-content\" style=\"background-color:transparent;\">\\r\\n            <div class=\"modal-header\" style=\"border-bottom: 0px solid #e5e5e5;\">\\r\\n\\t\\t\\t    <button type=\"button\" class=\"close model-close\" data-dismiss=\"modal\" aria-hidden=\"true\" ng-click=\"cancel($event)\"><img width=\"45\" height=\"45\" src=\"/images/default-source/home-marketing-site/close.png?sfvrsn=2\" alt=\"Close\"/></button>\\r\\n\\t\\t    </div>\\r\\n            <div class=\"modal-body-l\">\\r\\n                <div class=\"row\">\\r\\n                    <div class=\"col-xs-12\">\\r\\n                        <div class=\"box-blue-modal shadow\">\\r\\n                            <div id=\"Contentplaceholder1_TE800CC98052_UpdatePanel102\">\\r\\n\\t\\r\\n                                    <div id=\"Contentplaceholder1_TE800CC98052_LoginPanel\" class=\"col-sm-7\">\\r\\n\\t\\t\\r\\n                                        <div class=\"login-sign-in shadow\">\\r\\n                                            <div class=\"col-xs-12 cab-sigin\">\\r\\n                                                <img class=\"pull-left\" src=\"/images/default-source/home-marketing-site/logo-footer.png\">\\r\\n                                                <h3 class=\"pull-right\">SIGN IN</h3>\\r\\n                                            </div>\\r\\n                                            <div class=\"col-xs-12\">\\r\\n                                                <div class=\"form-group modal-group\">\\r\\n                                                    <input name=\"ctl00$Contentplaceholder1$TE800CC98052$txtUserName\" type=\"text\" id=\"Contentplaceholder1_TE800CC98052_txtUserName\" accesskey=\"u\" class=\"form-control username\" placeholder=\"User Name\" />\\r\\n                                                    \\r\\n\\r\\n                                                </div>\\r\\n                                            </div>\\r\\n                                            <div class=\"col-xs-12\">\\r\\n                                                <div class=\"form-group modal-group\">\\r\\n                                                    <input name=\"ctl00$Contentplaceholder1$TE800CC98052$txtPassword\" type=\"password\" id=\"Contentplaceholder1_TE800CC98052_txtPassword\" accesskey=\"p\" class=\"form-control password\" placeholder=\"Password\" />\\r\\n                                                    \\r\\n                                                </div>\\r\\n                                            </div>\\r\\n\\r\\n                                            <div class=\"col-xs-12 foot-sign\">\\r\\n                                                <input type=\"submit\" name=\"ctl00$Contentplaceholder1$TE800CC98052$btnLogin\" value=\"Sign in\" onclick=\"javascript:WebForm_DoPostBackWithOptions(new WebForm_PostBackOptions(&quot;ctl00$Contentplaceholder1$TE800CC98052$btnLogin&quot;, &quot;&quot;, true, &quot;LoginBox&quot;, &quot;&quot;, false, false))\" id=\"Contentplaceholder1_TE800CC98052_btnLogin\" />\\r\\n                                                <a id=\"Contentplaceholder1_TE800CC98052_lnkForgotPassword\" class=\"link pull-right\" href=\"javascript:__doPostBack(&#39;ctl00$Contentplaceholder1$TE800CC98052$lnkForgotPassword&#39;,&#39;&#39;)\">Having trouble logging in?</a>\\r\\n                                            </div>\\r\\n                                            \\r\\n                                        </div>\\r\\n                                    \\r\\n\\t</div>\\r\\n                                    \\r\\n                                    <div class=\"col-sm-5 pull-right text-center\">\\r\\n                                        <h3>Want to access our practices?</h3>\\r\\n                                        <h6>Learn more about our membership options.</h6>\\r\\n                                        <a class=\"btn btn-default\" style=\"margin-top: 40px;\" href=\"/get-access\">Get Access</a>\\r\\n                                    </div>\\r\\n                                \\r\\n</div>\\r\\n                        </div>\\r\\n                    </div>\\r\\n                </div>\\r\\n            </div>\\r\\n        </div>\\r\\n    </div>\\r\\n</div>\\r\\n\\r\\n\\n\\n\\n\\n\\n\\n\\n\\n\\r\\n\\r\\n </div>  \\r\\n<script type=\"text/javascript\">$(document).ready(function () {\\n    initTimeOut = 0;\\n    initAnimateText = 0;\\n\\n    $(\\'#owl-home\\').on(\\'initialized.owl.carousel\\', function (e) {\\n        initProgressBarCircle(e);\\n    });\\n\\n    var owl = $(\\'#owl-home\\');\\n    owl.owlCarousel({\\n        rtl:false,\\n        items: 1,\\n        loop: true,\\n        autoplay: true,\\n        autoplayTimeout: 11000,\\n        dots: false,\\n        nav: true,\\n        navText: [\"<img src=\\'/images/default-source/home-marketing-site/previous-arrow-btn.png\\'>\", \"<img src=\\'/images/default-source/home-marketing-site/next-arrow-btn.png\\'>\"],\\n        callbacks:true\\n    });\\n\\n    owl.on(\\'translated.owl.carousel\\', function (e) {\\n        if($(\"#circle\").length) {\\n            $(\"#circle\").remove();\\n        }        \\n\\n        $(\".owl-next\").append(\"<div id=\\'circle\\' style=\\'width:60px;height:60px;\\'>\");\\n        var circle = new ProgressBar.Circle(\\'#circle\\', {\\n            color: \\'#097AC0\\',\\n            strokeWidth: 6,\\n            duration: 11000\\n        });\\n        circle.setText(\"<img class=\\'next-cir\\' src=\\'/images/default-source/home-marketing-site/next-arrow-btn.png\\'>\");\\n        circle.animate(1, function () {\\n            //$(\"#circle\").fadeOut(500);\\n        });\\n\\n        animateText(e);\\n    });\\n});\\n\\n$(\\'.section-home-slide img\\').each(function() {\\n    $(this).parent().css(\\'backgroundImage\\',\\'url(\\'+$(this).attr(\\'src\\')+\\')\\');\\n    $(this).remove();\\n});\\n\\nvar animateText = function(e){\\n    var data = $(e.currentTarget).find(\".active\");\\n    data.find(\".small-title\").slideDown(1000);\\n    data.find(\".main-title\").show(\"slide\", { direction: \"right\" }, 1000);\\n    data.find(\".description\").slideDown(1000);\\n    data.find(\"hr\").show(\"slide\", { direction: \"left\" }, 1000);\\n    setTimeout(function(){\\n        data.find(\".practices-button\").fadeIn(1000);\\n    },1000);\\n\\n    hideText(e);\\n}\\n\\nvar hideText = function(e){\\n    var data = $(e.currentTarget).find(\".active\").siblings();\\n        data.find(\".small-title\").css(\"display\",\"none\");\\n    data.find(\".main-title\").css(\"display\",\"none\");\\n        data.find(\".description\").css(\"display\",\"none\");\\n        data.find(\"hr\").css(\"display\",\"none\");\\n        data.find(\".practices-button\").css(\"display\",\"none\");\\n}\\n\\nvar initProgressBarCircle = function(e){\\n    if($(\".owl-next\").length){\\n        $(\".owl-next\").append(\"<div id=\\'circle\\' style=\\'width:60px;height:60px;\\'>\");\\n        var circle = new ProgressBar.Circle(\\'div#circle\\', {\\n            color: \\'#097AC0\\',\\n            strokeWidth: 6,\\n            duration: 11000\\n        });\\n        \\n        circle.setText(\"<img class=\\'next-cir\\' src=\\'/images/default-source/home-marketing-site/next-arrow-btn.png\\'>\");\\n        circle.animate(1, function () {\\n            $(\"#circle\").remove();\\n            circle.animate(1);\\n        });\\n        \\n        if(!initAnimateText){\\n            animateText(e);\\n        }\\n    } else if(!initTimeOut) {\\n        initTimeOut = 1;\\n        initAnimateText = 1;\\n        animateText(e);\\n        setTimeout( initProgressBarCircle, 100 );\\n    }\\n}</script>\\r\\n<script type=\"text/javascript\">\\r\\n//<![CDATA[\\r\\n;(function() {\\r\\n                        function loadHandler() {\\r\\n                            var hf = $get(\\'ctl05_TSSM\\');\\r\\n                            if (!hf._RSSM_init) { hf._RSSM_init = true; hf.value = \\'\\'; }\\r\\n                            hf.value += \\';Telerik.Sitefinity.Resources, Version=10.2.6602.0, Culture=neutral, PublicKeyToken=b28c218413bdf563:en:1c3e6627-a90c-4375-b55c-75906376ec60:7a90d6a\\';\\r\\n                            Sys.Application.remove_load(loadHandler);\\r\\n                        };\\r\\n                        Sys.Application.add_load(loadHandler);\\r\\n                    })();Sys.Application.add_init(function() {\\r\\n    $create(Telerik.Web.UI.RadListView, {\"UniqueID\":\"ctl00$Contentplaceholder1$ctl09$ctl00$ctl00$dynamicContentListView\",\"_clientSettings\":{\"DataBinding\":{\"ItemPlaceHolderID\":\"ctl00_Contentplaceholder1_ctl09_ctl00_ctl00_dynamicContentListView_ItemsContainer\",\"DataService\":{}}},\"_virtualItemCount\":3,\"clientStateFieldID\":\"ctl00_Contentplaceholder1_ctl09_ctl00_ctl00_dynamicContentListView_ClientState\",\"renderMode\":1}, null, null, $get(\"ctl00_Contentplaceholder1_ctl09_ctl00_ctl00_dynamicContentListView\"));\\r\\n});\\r\\nSys.Application.add_init(function() {\\r\\n    $create(Telerik.Web.UI.RadListView, {\"UniqueID\":\"ctl00$Contentplaceholder1$ctl20$ctl00$ctl00$dynamicContentListView\",\"_clientSettings\":{\"DataBinding\":{\"ItemPlaceHolderID\":\"ctl00_Contentplaceholder1_ctl20_ctl00_ctl00_dynamicContentListView_ItemsContainer\",\"DataService\":{}}},\"_virtualItemCount\":3,\"clientStateFieldID\":\"ctl00_Contentplaceholder1_ctl20_ctl00_ctl00_dynamicContentListView_ClientState\",\"renderMode\":1}, null, null, $get(\"ctl00_Contentplaceholder1_ctl20_ctl00_ctl00_dynamicContentListView\"));\\r\\n});\\r\\nSys.Application.add_init(function() {\\r\\n    $create(Telerik.Sitefinity.Web.UI.Message, {\"_animate\":false,\"_commandButtons\":\"[]\",\"_endNegativeColor\":\"#FFB9B9\",\"_endNeutralColor\":\"#FFFFCC\",\"_endPositiveColor\":\"#D3EABB\",\"_fadeDuration\":3000,\"_messageText\":null,\"_messageType\":\"Neutral\",\"_removeAfter\":60000,\"_startNegativeColor\":\"#FFB9B9\",\"_startNeutralColor\":\"#FFFFCC\",\"_startPositiveColor\":\"#D3EABB\"}, null, null, $get(\"Contentplaceholder1_TE800CC98056_ctl00_ctl00_messageControl\"));\\r\\n});\\r\\n//]]>\\r\\n</script>\\r\\n</form><script type=\"text/javascript\" src=\"/Sitefinity/WebsiteTemplates/PipSite/JS/app.js\"></script><script type=\"text/javascript\">\\r\\n  (function(i,s,o,g,r,a,m){i[\\'GoogleAnalyticsObject\\']=r;i[r]=i[r]||function(){\\n  (i[r].q=i[r].q||[]).push(arguments)},i[r].l=1*new Date();a=s.createElement(o),\\n  m=s.getElementsByTagName(o)[0];a.async=1;a.src=g;m.parentNode.insertBefore(a,m)\\n  })(window,document,\\'script\\',\\'https://www.google-analytics.com/analytics.js\\',\\'ga\\');\\n\\n  ga(\\'create\\', \\'UA-64313514-2\\', \\'auto\\');\\n  ga(\\'send\\', \\'pageview\\');\\n\\n\\r\\n</script></body> </html>'\n"
     ]
    }
   ],
   "source": [
    "print(html)"
   ]
  },
  {
   "cell_type": "code",
   "execution_count": null,
   "id": "f9a795ff",
   "metadata": {},
   "outputs": [],
   "source": []
  }
 ],
 "metadata": {
  "kernelspec": {
   "display_name": "Python 3",
   "language": "python",
   "name": "python3"
  },
  "language_info": {
   "codemirror_mode": {
    "name": "ipython",
    "version": 3
   },
   "file_extension": ".py",
   "mimetype": "text/x-python",
   "name": "python",
   "nbconvert_exporter": "python",
   "pygments_lexer": "ipython3",
   "version": "3.8.8"
  }
 },
 "nbformat": 4,
 "nbformat_minor": 5
}

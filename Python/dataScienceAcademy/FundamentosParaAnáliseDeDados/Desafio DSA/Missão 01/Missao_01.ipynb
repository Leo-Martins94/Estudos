{
 "cells": [
  {
   "cell_type": "markdown",
   "id": "9037bf62",
   "metadata": {},
   "source": [
    "Missão: Implementar um algoritimo para determinar se uma string possui todos os caracteres exclusivos"
   ]
  },
  {
   "cell_type": "markdown",
   "id": "f7572024",
   "metadata": {},
   "source": [
    "Premissas\n",
    "Podemos assumir que a string é ASCII? Sim Nota: As cadeias de caracteres Unicode podem exigir tratamento especial dependendo do seu idioma\n",
    "Podemos supor que há distinção entre maiúsculas e minúsculas? *sim\n",
    "Podemos usar estruturas de dados adicionais? *Sim"
   ]
  },
  {
   "cell_type": "markdown",
   "id": "c7acf987",
   "metadata": {},
   "source": [
    "Teste Cases\n",
    "* none -> False\n",
    "* \" -> True\n",
    "* 'foo' -> False\n",
    "* 'bar' -> True"
   ]
  },
  {
   "cell_type": "markdown",
   "id": "16043d64",
   "metadata": {},
   "source": [
    "# Algoritimo:Hash Map Lookup\n",
    "\n",
    "Materemos um mapa hash (conjunto) para rastrear os caracteres únicos que encontramos\n",
    "\n",
    "Passos:\n",
    "* Faça um scan cada caracter\n",
    "* Para cada caracter: Se o caracter não existir em um mapa hash, adicione o caractere a um mapa de hash Senão, retorne False\n",
    "* Retornar Verdadeiro\n",
    "\n",
    "Nota:\n",
    "* Também podemos usar um dicionário, mas parece mais lógico usar um set, pois ele não contém elementos duplicados"
   ]
  },
  {
   "cell_type": "code",
   "execution_count": 10,
   "id": "c01ad7fc",
   "metadata": {},
   "outputs": [],
   "source": [
    "# Verificando letra por letra\n",
    "\n",
    "texto = \"Leeo\"\n",
    "\n",
    "def caracteres_unicos(texto):\n",
    "    if texto is None:\n",
    "        return False\n",
    "    for l in texto:\n",
    "        print(l)\n",
    "        if texto.count(l) > 1:\n",
    "            return False\n",
    "    return True\n",
    "    "
   ]
  },
  {
   "cell_type": "code",
   "execution_count": null,
   "id": "89eaf86e",
   "metadata": {},
   "outputs": [],
   "source": []
  }
 ],
 "metadata": {
  "kernelspec": {
   "display_name": "Python 3",
   "language": "python",
   "name": "python3"
  },
  "language_info": {
   "codemirror_mode": {
    "name": "ipython",
    "version": 3
   },
   "file_extension": ".py",
   "mimetype": "text/x-python",
   "name": "python",
   "nbconvert_exporter": "python",
   "pygments_lexer": "ipython3",
   "version": "3.8.8"
  }
 },
 "nbformat": 4,
 "nbformat_minor": 5
}

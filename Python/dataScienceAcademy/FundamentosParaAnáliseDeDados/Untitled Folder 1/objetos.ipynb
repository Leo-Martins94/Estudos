{
 "cells": [
  {
   "cell_type": "code",
   "execution_count": 4,
   "id": "648ff29b",
   "metadata": {},
   "outputs": [],
   "source": [
    "#Criando uma lista\n",
    "\n",
    "lista = ['Data','Sience','Leo',10]"
   ]
  },
  {
   "cell_type": "code",
   "execution_count": 5,
   "id": "923be26d",
   "metadata": {},
   "outputs": [
    {
     "data": {
      "text/plain": [
       "list"
      ]
     },
     "execution_count": 5,
     "metadata": {},
     "output_type": "execute_result"
    }
   ],
   "source": [
    "#Verificando o tipo da lista\n",
    "\n",
    "type(lista)"
   ]
  },
  {
   "cell_type": "code",
   "execution_count": 6,
   "id": "fbbb4951",
   "metadata": {},
   "outputs": [
    {
     "data": {
      "text/plain": [
       "1"
      ]
     },
     "execution_count": 6,
     "metadata": {},
     "output_type": "execute_result"
    }
   ],
   "source": [
    "lista.count(10)"
   ]
  },
  {
   "cell_type": "code",
   "execution_count": 7,
   "id": "9f2e81c1",
   "metadata": {},
   "outputs": [
    {
     "name": "stdout",
     "output_type": "stream",
     "text": [
      "<class 'int'>\n",
      "<class 'list'>\n",
      "<class 'tuple'>\n",
      "<class 'dict'>\n",
      "<class 'str'>\n"
     ]
    }
   ],
   "source": [
    "#Verificando cada tipo de objteo\n",
    "\n",
    "print(type(10))\n",
    "print(type([]))\n",
    "print(type(()))\n",
    "print(type({}))\n",
    "print(type('a'))"
   ]
  },
  {
   "cell_type": "code",
   "execution_count": 8,
   "id": "15a3883e",
   "metadata": {},
   "outputs": [
    {
     "name": "stdout",
     "output_type": "stream",
     "text": [
      "<class '__main__.Carro'>\n"
     ]
    }
   ],
   "source": [
    "class Carro(object):\n",
    "    pass\n",
    "\n",
    "mustang = Carro()\n",
    "\n",
    "print(type(mustang))"
   ]
  },
  {
   "cell_type": "code",
   "execution_count": 9,
   "id": "b78b5963",
   "metadata": {},
   "outputs": [],
   "source": [
    "class Aluno():\n",
    "    \n",
    "    def __init__(self,nome,idade,nota):\n",
    "        \n",
    "        self.nome = nome\n",
    "        self.idade = idade\n",
    "        self.nota = nota"
   ]
  },
  {
   "cell_type": "code",
   "execution_count": 10,
   "id": "67eff583",
   "metadata": {},
   "outputs": [],
   "source": [
    "aluno1 = Aluno('Leo',27,10)"
   ]
  },
  {
   "cell_type": "code",
   "execution_count": 11,
   "id": "cf9e7772",
   "metadata": {},
   "outputs": [
    {
     "data": {
      "text/plain": [
       "'Leo'"
      ]
     },
     "execution_count": 11,
     "metadata": {},
     "output_type": "execute_result"
    }
   ],
   "source": [
    "aluno1.nome"
   ]
  },
  {
   "cell_type": "code",
   "execution_count": 12,
   "id": "81f68a5c",
   "metadata": {},
   "outputs": [
    {
     "data": {
      "text/plain": [
       "27"
      ]
     },
     "execution_count": 12,
     "metadata": {},
     "output_type": "execute_result"
    }
   ],
   "source": [
    "aluno1.idade"
   ]
  },
  {
   "cell_type": "code",
   "execution_count": 14,
   "id": "d990ec1f",
   "metadata": {},
   "outputs": [
    {
     "data": {
      "text/plain": [
       "10"
      ]
     },
     "execution_count": 14,
     "metadata": {},
     "output_type": "execute_result"
    }
   ],
   "source": [
    "aluno1.nota"
   ]
  },
  {
   "cell_type": "code",
   "execution_count": 21,
   "id": "e8fecf25",
   "metadata": {},
   "outputs": [],
   "source": [
    "class Funcionario():\n",
    "    \n",
    "    def __init__(self,cargo,salario):\n",
    "        \n",
    "        self.cargo = cargo\n",
    "        self.salario = salario\n",
    "        \n",
    "    def descricao(self):\n",
    "        print('O seu cargo é {}, com um salriaro de R${}'.format(self.cargo,self.salario))"
   ]
  },
  {
   "cell_type": "code",
   "execution_count": 22,
   "id": "d170cad7",
   "metadata": {},
   "outputs": [],
   "source": [
    "Leo = Funcionario('Data Scientist',10000.50)"
   ]
  },
  {
   "cell_type": "code",
   "execution_count": 23,
   "id": "3d3cab58",
   "metadata": {},
   "outputs": [
    {
     "data": {
      "text/plain": [
       "'Data Scientist'"
      ]
     },
     "execution_count": 23,
     "metadata": {},
     "output_type": "execute_result"
    }
   ],
   "source": [
    "Leo.cargo"
   ]
  },
  {
   "cell_type": "code",
   "execution_count": 24,
   "id": "42e768cf",
   "metadata": {},
   "outputs": [
    {
     "name": "stdout",
     "output_type": "stream",
     "text": [
      "O seu cargo é Data Scientist, com um salriaro de R$10000.5\n"
     ]
    }
   ],
   "source": [
    "Leo.descricao()"
   ]
  },
  {
   "cell_type": "code",
   "execution_count": 26,
   "id": "4ad95eef",
   "metadata": {},
   "outputs": [
    {
     "data": {
      "text/plain": [
       "True"
      ]
     },
     "execution_count": 26,
     "metadata": {},
     "output_type": "execute_result"
    }
   ],
   "source": [
    "hasattr(Leo,'cargo')"
   ]
  },
  {
   "cell_type": "code",
   "execution_count": 27,
   "id": "ae32521f",
   "metadata": {},
   "outputs": [
    {
     "data": {
      "text/plain": [
       "True"
      ]
     },
     "execution_count": 27,
     "metadata": {},
     "output_type": "execute_result"
    }
   ],
   "source": [
    "hasattr(Leo,'salario')"
   ]
  },
  {
   "cell_type": "code",
   "execution_count": 29,
   "id": "d1501fbd",
   "metadata": {},
   "outputs": [],
   "source": [
    "setattr(Leo,'salario',2000)"
   ]
  },
  {
   "cell_type": "code",
   "execution_count": 30,
   "id": "41613e96",
   "metadata": {},
   "outputs": [
    {
     "data": {
      "text/plain": [
       "True"
      ]
     },
     "execution_count": 30,
     "metadata": {},
     "output_type": "execute_result"
    }
   ],
   "source": [
    "hasattr(Leo,'salario')"
   ]
  },
  {
   "cell_type": "code",
   "execution_count": 31,
   "id": "4b63e6b8",
   "metadata": {},
   "outputs": [
    {
     "data": {
      "text/plain": [
       "2000"
      ]
     },
     "execution_count": 31,
     "metadata": {},
     "output_type": "execute_result"
    }
   ],
   "source": [
    "getattr(Leo,'salario')"
   ]
  },
  {
   "cell_type": "code",
   "execution_count": 32,
   "id": "6e007c68",
   "metadata": {},
   "outputs": [],
   "source": [
    "delattr(Leo,'salario')"
   ]
  },
  {
   "cell_type": "code",
   "execution_count": 33,
   "id": "5dbdbca2",
   "metadata": {},
   "outputs": [
    {
     "data": {
      "text/plain": [
       "False"
      ]
     },
     "execution_count": 33,
     "metadata": {},
     "output_type": "execute_result"
    }
   ],
   "source": [
    "hasattr(Leo,'salario')"
   ]
  },
  {
   "cell_type": "code",
   "execution_count": null,
   "id": "5e7bbf19",
   "metadata": {},
   "outputs": [],
   "source": []
  }
 ],
 "metadata": {
  "kernelspec": {
   "display_name": "Python 3",
   "language": "python",
   "name": "python3"
  },
  "language_info": {
   "codemirror_mode": {
    "name": "ipython",
    "version": 3
   },
   "file_extension": ".py",
   "mimetype": "text/x-python",
   "name": "python",
   "nbconvert_exporter": "python",
   "pygments_lexer": "ipython3",
   "version": "3.8.8"
  }
 },
 "nbformat": 4,
 "nbformat_minor": 5
}

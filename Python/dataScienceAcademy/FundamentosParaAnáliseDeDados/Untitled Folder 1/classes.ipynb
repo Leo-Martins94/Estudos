{
 "cells": [
  {
   "cell_type": "code",
   "execution_count": 2,
   "id": "029c3fe6",
   "metadata": {},
   "outputs": [],
   "source": [
    "#Definindo uma classe\n",
    "\n",
    "class Livro():\n",
    "    \n",
    "    #Esse metodo vai iniciar cada objeto criado apartir dessa classe\n",
    "    #O nome desse metodo é __init__\n",
    "    #Self é uma referencia a cada atributodo de m objeto criado apartir dessa classe\n",
    "    \n",
    "    #Definindo os atributos\n",
    "    def __init__(self):\n",
    "        self.titulo = 'Entrevista com o vampiro'\n",
    "        self.isbn = 2319\n",
    "        print('Novo livro cridado')\n",
    "        \n",
    "     #Defininfo os metodos   \n",
    "    def imprime(self):\n",
    "        print('Foi criado o livro.\\n Titulo: {}\\n ISBN: {} '.format(self.titulo,self.isbn))"
   ]
  },
  {
   "cell_type": "code",
   "execution_count": 3,
   "id": "d437db26",
   "metadata": {},
   "outputs": [
    {
     "name": "stdout",
     "output_type": "stream",
     "text": [
      "Novo livro cridado\n"
     ]
    }
   ],
   "source": [
    "#Criando uma instancia da classe livro\n",
    "Livro1 = Livro()"
   ]
  },
  {
   "cell_type": "code",
   "execution_count": 4,
   "id": "452970c9",
   "metadata": {},
   "outputs": [
    {
     "data": {
      "text/plain": [
       "__main__.Livro"
      ]
     },
     "execution_count": 4,
     "metadata": {},
     "output_type": "execute_result"
    }
   ],
   "source": [
    "type(Livro1)"
   ]
  },
  {
   "cell_type": "code",
   "execution_count": 5,
   "id": "8ce9f96a",
   "metadata": {},
   "outputs": [
    {
     "data": {
      "text/plain": [
       "'Entrevista com o vampiro'"
      ]
     },
     "execution_count": 5,
     "metadata": {},
     "output_type": "execute_result"
    }
   ],
   "source": [
    "Livro1.titulo"
   ]
  },
  {
   "cell_type": "code",
   "execution_count": 6,
   "id": "53d1b440",
   "metadata": {},
   "outputs": [
    {
     "data": {
      "text/plain": [
       "2319"
      ]
     },
     "execution_count": 6,
     "metadata": {},
     "output_type": "execute_result"
    }
   ],
   "source": [
    "Livro1.isbn"
   ]
  },
  {
   "cell_type": "code",
   "execution_count": 7,
   "id": "9f0acfce",
   "metadata": {},
   "outputs": [
    {
     "name": "stdout",
     "output_type": "stream",
     "text": [
      "Foi criado o livro.\n",
      " Titulo: Entrevista com o vampiro\n",
      " ISBN: 2319 \n"
     ]
    }
   ],
   "source": [
    "Livro1.imprime()"
   ]
  },
  {
   "cell_type": "code",
   "execution_count": 15,
   "id": "b4adc2f9",
   "metadata": {},
   "outputs": [],
   "source": [
    "#Criando a classe Livro parametros no construtor\n",
    "\n",
    "#Criando a classe\n",
    "class Livro():\n",
    "    \n",
    "    #Criando os atributos\n",
    "    def __init__(self,titulo,categoria,isbn):\n",
    "    \n",
    "        self.titulo = titulo\n",
    "        self.categoria = categoria\n",
    "        self.isbn = isbn\n",
    "    \n",
    "    #Criando os metodos\n",
    "    def imprime(self):\n",
    "        print('Foi criado o livro:\\nTitulo:{}\\nCategoria:{}\\nISBN:{}'.format(self.titulo,self.categoria,self.isbn))"
   ]
  },
  {
   "cell_type": "code",
   "execution_count": 16,
   "id": "6029c75f",
   "metadata": {},
   "outputs": [],
   "source": [
    "Livro2 = Livro('Harry Potter','Infantil',5554301)"
   ]
  },
  {
   "cell_type": "code",
   "execution_count": 17,
   "id": "488c0ea6",
   "metadata": {},
   "outputs": [
    {
     "data": {
      "text/plain": [
       "'Harry Potter'"
      ]
     },
     "execution_count": 17,
     "metadata": {},
     "output_type": "execute_result"
    }
   ],
   "source": [
    "Livro2.titulo"
   ]
  },
  {
   "cell_type": "code",
   "execution_count": 18,
   "id": "cdaf653e",
   "metadata": {},
   "outputs": [
    {
     "name": "stdout",
     "output_type": "stream",
     "text": [
      "Foi criado o livro:\n",
      "Titulo:Harry Potter\n",
      "Categoria:Infantil\n",
      "ISBN:5554301\n"
     ]
    }
   ],
   "source": [
    "Livro2.imprime()"
   ]
  },
  {
   "cell_type": "code",
   "execution_count": 24,
   "id": "7dba48e0",
   "metadata": {},
   "outputs": [],
   "source": [
    "#Criando a classe cachorro\n",
    "\n",
    "class Cachorro():\n",
    "    \n",
    "    #Definindo os atributos\n",
    "    def __init__(self,raca,porte):\n",
    "        self.raca = raca\n",
    "        self.porte = porte\n",
    "    \n",
    "    #Definindo metodos\n",
    "    def latir(self):\n",
    "        print('AuAu!!')"
   ]
  },
  {
   "cell_type": "code",
   "execution_count": 25,
   "id": "e07cf6a9",
   "metadata": {},
   "outputs": [],
   "source": [
    "Zeus = Cachorro('Pit-bull','Grande')"
   ]
  },
  {
   "cell_type": "code",
   "execution_count": 26,
   "id": "8301157a",
   "metadata": {},
   "outputs": [
    {
     "data": {
      "text/plain": [
       "'Pit-bull'"
      ]
     },
     "execution_count": 26,
     "metadata": {},
     "output_type": "execute_result"
    }
   ],
   "source": [
    "Zeus.raca"
   ]
  },
  {
   "cell_type": "code",
   "execution_count": 27,
   "id": "e033ed68",
   "metadata": {},
   "outputs": [
    {
     "name": "stdout",
     "output_type": "stream",
     "text": [
      "AuAu!!\n"
     ]
    }
   ],
   "source": [
    "Zeus.latir()"
   ]
  },
  {
   "cell_type": "code",
   "execution_count": null,
   "id": "9665a378",
   "metadata": {},
   "outputs": [],
   "source": []
  }
 ],
 "metadata": {
  "kernelspec": {
   "display_name": "Python 3",
   "language": "python",
   "name": "python3"
  },
  "language_info": {
   "codemirror_mode": {
    "name": "ipython",
    "version": 3
   },
   "file_extension": ".py",
   "mimetype": "text/x-python",
   "name": "python",
   "nbconvert_exporter": "python",
   "pygments_lexer": "ipython3",
   "version": "3.8.8"
  }
 },
 "nbformat": 4,
 "nbformat_minor": 5
}

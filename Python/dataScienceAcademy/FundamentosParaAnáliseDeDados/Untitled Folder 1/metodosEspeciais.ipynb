{
 "cells": [
  {
   "cell_type": "markdown",
   "id": "a8263913",
   "metadata": {},
   "source": [
    "# Metodos Especiais #"
   ]
  },
  {
   "cell_type": "code",
   "execution_count": 9,
   "id": "8a7de5fb",
   "metadata": {},
   "outputs": [],
   "source": [
    "class Livro():\n",
    "    \n",
    "    def __init__(self, titulo, autor, paginas):\n",
    "        print('Livro criado')\n",
    "        self.titulo = titulo\n",
    "        self.autor = autor\n",
    "        self.paginas = paginas\n",
    "        \n",
    "    def __str__(self):\n",
    "        return 'Tirulo: {}\\nAutor:{}\\nPaginas: {}'.format(self.titulo,self.autor,self.paginas)\n",
    "    \n",
    "    def __len__(self):\n",
    "        return self.paginas\n",
    "    \n",
    "    def len(self):\n",
    "        return 'Paginas do livro cim metodo comum: {}'.format(self.paginas)"
   ]
  },
  {
   "cell_type": "code",
   "execution_count": 14,
   "id": "568b649b",
   "metadata": {},
   "outputs": [
    {
     "name": "stdout",
     "output_type": "stream",
     "text": [
      "Livro criado\n"
     ]
    }
   ],
   "source": [
    "livro1 = Livro('O Senhor dos Aneis','Tolkien',1000)"
   ]
  },
  {
   "cell_type": "code",
   "execution_count": 15,
   "id": "a91e93ec",
   "metadata": {},
   "outputs": [
    {
     "name": "stdout",
     "output_type": "stream",
     "text": [
      "Tirulo: O Senhor dos Aneis\n",
      "Autor:Tolkien\n",
      "Paginas: 1000\n"
     ]
    }
   ],
   "source": [
    "#Metodos especiais\n",
    "print(livro1)"
   ]
  },
  {
   "cell_type": "code",
   "execution_count": 16,
   "id": "984ea9d6",
   "metadata": {},
   "outputs": [
    {
     "data": {
      "text/plain": [
       "'Tirulo: O Senhor dos Aneis\\nAutor:Tolkien\\nPaginas: 1000'"
      ]
     },
     "execution_count": 16,
     "metadata": {},
     "output_type": "execute_result"
    }
   ],
   "source": [
    "str(livro1)"
   ]
  },
  {
   "cell_type": "code",
   "execution_count": 17,
   "id": "3064141e",
   "metadata": {},
   "outputs": [
    {
     "data": {
      "text/plain": [
       "1000"
      ]
     },
     "execution_count": 17,
     "metadata": {},
     "output_type": "execute_result"
    }
   ],
   "source": [
    "len(livro1)"
   ]
  },
  {
   "cell_type": "code",
   "execution_count": 19,
   "id": "f68bdca4",
   "metadata": {},
   "outputs": [],
   "source": [
    "del livro1.paginas"
   ]
  },
  {
   "cell_type": "code",
   "execution_count": 22,
   "id": "d9977a71",
   "metadata": {},
   "outputs": [
    {
     "data": {
      "text/plain": [
       "False"
      ]
     },
     "execution_count": 22,
     "metadata": {},
     "output_type": "execute_result"
    }
   ],
   "source": [
    "hasattr(livro1,'paginas')"
   ]
  },
  {
   "cell_type": "code",
   "execution_count": null,
   "id": "ae38b225",
   "metadata": {},
   "outputs": [],
   "source": []
  }
 ],
 "metadata": {
  "kernelspec": {
   "display_name": "Python 3",
   "language": "python",
   "name": "python3"
  },
  "language_info": {
   "codemirror_mode": {
    "name": "ipython",
    "version": 3
   },
   "file_extension": ".py",
   "mimetype": "text/x-python",
   "name": "python",
   "nbconvert_exporter": "python",
   "pygments_lexer": "ipython3",
   "version": "3.8.8"
  }
 },
 "nbformat": 4,
 "nbformat_minor": 5
}

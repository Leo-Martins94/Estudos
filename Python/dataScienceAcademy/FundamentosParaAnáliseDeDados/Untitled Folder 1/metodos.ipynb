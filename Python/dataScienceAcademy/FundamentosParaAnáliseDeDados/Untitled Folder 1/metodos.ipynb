{
 "cells": [
  {
   "cell_type": "code",
   "execution_count": 7,
   "id": "716b5ee5",
   "metadata": {},
   "outputs": [],
   "source": [
    "class Circulo():\n",
    "    \n",
    "    pi = 3.14\n",
    "    \n",
    "    def __init__(self,raio=5):\n",
    "        self.raio = raio\n",
    "        \n",
    "    def area(self):\n",
    "        return (self.raio*self.raio) * Circulo.pi\n",
    "    \n",
    "    def setRaio(self,novoRaio):\n",
    "        self.raio = novoRaio\n",
    "        \n",
    "    def getRaio(self):\n",
    "        return self.raio"
   ]
  },
  {
   "cell_type": "code",
   "execution_count": 8,
   "id": "006f932b",
   "metadata": {},
   "outputs": [],
   "source": [
    "circ = Circulo()"
   ]
  },
  {
   "cell_type": "code",
   "execution_count": 9,
   "id": "e43be36f",
   "metadata": {},
   "outputs": [
    {
     "data": {
      "text/plain": [
       "5"
      ]
     },
     "execution_count": 9,
     "metadata": {},
     "output_type": "execute_result"
    }
   ],
   "source": [
    "circ.getRaio()"
   ]
  },
  {
   "cell_type": "code",
   "execution_count": 10,
   "id": "0d5d9a39",
   "metadata": {},
   "outputs": [],
   "source": [
    "circ.setRaio(7)"
   ]
  },
  {
   "cell_type": "code",
   "execution_count": 11,
   "id": "65754980",
   "metadata": {},
   "outputs": [
    {
     "data": {
      "text/plain": [
       "7"
      ]
     },
     "execution_count": 11,
     "metadata": {},
     "output_type": "execute_result"
    }
   ],
   "source": [
    "circ.getRaio()"
   ]
  },
  {
   "cell_type": "code",
   "execution_count": 14,
   "id": "70c297f9",
   "metadata": {},
   "outputs": [
    {
     "name": "stdout",
     "output_type": "stream",
     "text": [
      "A area do circulo é: 7\n"
     ]
    }
   ],
   "source": [
    "print('A area do circulo é:', circ.getRaio())"
   ]
  },
  {
   "cell_type": "code",
   "execution_count": 15,
   "id": "3b9e1938",
   "metadata": {},
   "outputs": [],
   "source": [
    "circ.setRaio(5)"
   ]
  },
  {
   "cell_type": "code",
   "execution_count": 16,
   "id": "041d47f2",
   "metadata": {},
   "outputs": [
    {
     "name": "stdout",
     "output_type": "stream",
     "text": [
      "A area do circulo é:  78.5\n"
     ]
    }
   ],
   "source": [
    "print('A area do circulo é: ', circ.area())"
   ]
  },
  {
   "cell_type": "code",
   "execution_count": null,
   "id": "6f4bb1ba",
   "metadata": {},
   "outputs": [],
   "source": []
  }
 ],
 "metadata": {
  "kernelspec": {
   "display_name": "Python 3",
   "language": "python",
   "name": "python3"
  },
  "language_info": {
   "codemirror_mode": {
    "name": "ipython",
    "version": 3
   },
   "file_extension": ".py",
   "mimetype": "text/x-python",
   "name": "python",
   "nbconvert_exporter": "python",
   "pygments_lexer": "ipython3",
   "version": "3.8.8"
  }
 },
 "nbformat": 4,
 "nbformat_minor": 5
}

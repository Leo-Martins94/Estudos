{
 "cells": [
  {
   "cell_type": "code",
   "execution_count": 1,
   "id": "5f3c8001",
   "metadata": {},
   "outputs": [],
   "source": [
    "#criando a super classe\n",
    "\n",
    "class Animal():\n",
    "    \n",
    "    def __init__(self):\n",
    "        print('Animal Criado')\n",
    "        \n",
    "    def identif(self):\n",
    "        print('Animal')\n",
    "    \n",
    "    def comer(self):\n",
    "        print('Comendo')"
   ]
  },
  {
   "cell_type": "code",
   "execution_count": 8,
   "id": "fa468bb6",
   "metadata": {},
   "outputs": [],
   "source": [
    "class Cachorro(Animal):\n",
    "    \n",
    "    def __init__(self):\n",
    "        Animal.__init__(self)\n",
    "        print('Cachorro criado com sucesso')\n",
    "        \n",
    "    def identif(self):\n",
    "        print('Cachorro')\n",
    "        \n",
    "    def latir(self):\n",
    "        print('Au Au!!')"
   ]
  },
  {
   "cell_type": "code",
   "execution_count": 9,
   "id": "82b4171b",
   "metadata": {},
   "outputs": [
    {
     "name": "stdout",
     "output_type": "stream",
     "text": [
      "Animal Criado\n",
      "Cachorro criado com sucesso\n"
     ]
    }
   ],
   "source": [
    "fofo = Cachorro()"
   ]
  },
  {
   "cell_type": "code",
   "execution_count": 10,
   "id": "ff15c91c",
   "metadata": {},
   "outputs": [
    {
     "name": "stdout",
     "output_type": "stream",
     "text": [
      "Cachorro\n"
     ]
    }
   ],
   "source": [
    "fofo.identif()"
   ]
  },
  {
   "cell_type": "code",
   "execution_count": 11,
   "id": "a882db24",
   "metadata": {},
   "outputs": [
    {
     "name": "stdout",
     "output_type": "stream",
     "text": [
      "Au Au!!\n"
     ]
    }
   ],
   "source": [
    "fofo.latir()"
   ]
  },
  {
   "cell_type": "code",
   "execution_count": 13,
   "id": "f9006de5",
   "metadata": {},
   "outputs": [
    {
     "name": "stdout",
     "output_type": "stream",
     "text": [
      "Comendo\n"
     ]
    }
   ],
   "source": [
    "fofo.comer()"
   ]
  },
  {
   "cell_type": "code",
   "execution_count": null,
   "id": "30ebc302",
   "metadata": {},
   "outputs": [],
   "source": []
  }
 ],
 "metadata": {
  "kernelspec": {
   "display_name": "Python 3",
   "language": "python",
   "name": "python3"
  },
  "language_info": {
   "codemirror_mode": {
    "name": "ipython",
    "version": 3
   },
   "file_extension": ".py",
   "mimetype": "text/x-python",
   "name": "python",
   "nbconvert_exporter": "python",
   "pygments_lexer": "ipython3",
   "version": "3.8.8"
  }
 },
 "nbformat": 4,
 "nbformat_minor": 5
}

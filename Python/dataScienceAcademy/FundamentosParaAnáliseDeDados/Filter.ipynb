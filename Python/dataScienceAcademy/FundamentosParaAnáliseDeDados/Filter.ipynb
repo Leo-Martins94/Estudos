{
 "cells": [
  {
   "cell_type": "markdown",
   "id": "15b83415",
   "metadata": {},
   "source": [
    "# Filter"
   ]
  },
  {
   "cell_type": "code",
   "execution_count": 1,
   "id": "5a990ca9",
   "metadata": {},
   "outputs": [],
   "source": [
    "# Criando uma função\n",
    "\n",
    "def Par (x):\n",
    "    if x % 2 == 0:\n",
    "        return True\n",
    "    else:\n",
    "        return False"
   ]
  },
  {
   "cell_type": "code",
   "execution_count": 3,
   "id": "8e7d7814",
   "metadata": {},
   "outputs": [
    {
     "data": {
      "text/plain": [
       "False"
      ]
     },
     "execution_count": 3,
     "metadata": {},
     "output_type": "execute_result"
    }
   ],
   "source": [
    "#chamando a função para verificar funcionamento\n",
    "Par(25)"
   ]
  },
  {
   "cell_type": "code",
   "execution_count": 4,
   "id": "acb0d2a7",
   "metadata": {},
   "outputs": [],
   "source": [
    "# criando uma sequencia em lista\n",
    "\n",
    "lista = [1, 2, 5, 9, 5, 6569, 4415, 1552, 41515, 2356, 41815, 5841521574]"
   ]
  },
  {
   "cell_type": "code",
   "execution_count": 5,
   "id": "344c70c0",
   "metadata": {},
   "outputs": [
    {
     "data": {
      "text/plain": [
       "<filter at 0x7f2df05de970>"
      ]
     },
     "execution_count": 5,
     "metadata": {},
     "output_type": "execute_result"
    }
   ],
   "source": [
    "# Aplicando a função Filter\n",
    "filter(Par,lista)"
   ]
  },
  {
   "cell_type": "code",
   "execution_count": 6,
   "id": "c2655585",
   "metadata": {},
   "outputs": [
    {
     "data": {
      "text/plain": [
       "[2, 1552, 2356, 5841521574]"
      ]
     },
     "execution_count": 6,
     "metadata": {},
     "output_type": "execute_result"
    }
   ],
   "source": [
    "# colocando filtro em uma lista \n",
    "list(filter(Par,lista))"
   ]
  },
  {
   "cell_type": "code",
   "execution_count": 7,
   "id": "e097dd23",
   "metadata": {},
   "outputs": [
    {
     "data": {
      "text/plain": [
       "[2, 1552, 2356, 5841521574]"
      ]
     },
     "execution_count": 7,
     "metadata": {},
     "output_type": "execute_result"
    }
   ],
   "source": [
    "list(filter(lambda x:x%2 ==0,lista))"
   ]
  },
  {
   "cell_type": "code",
   "execution_count": 8,
   "id": "3039e6de",
   "metadata": {},
   "outputs": [
    {
     "data": {
      "text/plain": [
       "[1, 5, 9, 5, 6569, 4415, 41515, 41815]"
      ]
     },
     "execution_count": 8,
     "metadata": {},
     "output_type": "execute_result"
    }
   ],
   "source": [
    "list(filter(lambda y: y % 2 !=0,lista))"
   ]
  },
  {
   "cell_type": "code",
   "execution_count": null,
   "id": "f5c6acd8",
   "metadata": {},
   "outputs": [],
   "source": []
  }
 ],
 "metadata": {
  "kernelspec": {
   "display_name": "Python 3",
   "language": "python",
   "name": "python3"
  },
  "language_info": {
   "codemirror_mode": {
    "name": "ipython",
    "version": 3
   },
   "file_extension": ".py",
   "mimetype": "text/x-python",
   "name": "python",
   "nbconvert_exporter": "python",
   "pygments_lexer": "ipython3",
   "version": "3.8.8"
  }
 },
 "nbformat": 4,
 "nbformat_minor": 5
}

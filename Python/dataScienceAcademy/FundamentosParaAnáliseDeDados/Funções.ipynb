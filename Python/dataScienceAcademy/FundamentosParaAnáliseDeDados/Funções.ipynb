{
 "cells": [
  {
   "cell_type": "code",
   "execution_count": 1,
   "id": "a5cf3a10",
   "metadata": {},
   "outputs": [],
   "source": [
    "# definindo funções\n",
    "\n",
    "def primeiraFuncao():\n",
    "    print('Hello World')"
   ]
  },
  {
   "cell_type": "code",
   "execution_count": 2,
   "id": "a696a8a2",
   "metadata": {},
   "outputs": [
    {
     "name": "stdout",
     "output_type": "stream",
     "text": [
      "Hello World\n"
     ]
    }
   ],
   "source": [
    "Primeira_funcao()"
   ]
  },
  {
   "cell_type": "code",
   "execution_count": 7,
   "id": "f5a30e04",
   "metadata": {},
   "outputs": [],
   "source": [
    "#Definindo uma funcao com parametro\n",
    "def funcParametro(nome):\n",
    "    print('Bem vindo {}'.format(nome))"
   ]
  },
  {
   "cell_type": "code",
   "execution_count": 8,
   "id": "ebe33c00",
   "metadata": {},
   "outputs": [
    {
     "name": "stdout",
     "output_type": "stream",
     "text": [
      "Bem vindo Leo\n"
     ]
    }
   ],
   "source": [
    "Func_parametro('Leo')"
   ]
  },
  {
   "cell_type": "code",
   "execution_count": 11,
   "id": "4c1e82c2",
   "metadata": {},
   "outputs": [],
   "source": [
    "def funcLeitura():\n",
    "    for i in range(0,6):\n",
    "        print('Numero ' + str(i))"
   ]
  },
  {
   "cell_type": "code",
   "execution_count": 12,
   "id": "28cb3b72",
   "metadata": {},
   "outputs": [
    {
     "name": "stdout",
     "output_type": "stream",
     "text": [
      "Numero 0\n",
      "Numero 1\n",
      "Numero 2\n",
      "Numero 3\n",
      "Numero 4\n",
      "Numero 5\n"
     ]
    }
   ],
   "source": [
    "funcLeitura()"
   ]
  },
  {
   "cell_type": "code",
   "execution_count": 17,
   "id": "4f432556",
   "metadata": {},
   "outputs": [],
   "source": [
    "#Função para somar numeros\n",
    "\n",
    "def addNum (fristNumber, secondNumber):\n",
    "    print('Primeiro numero: {}\\nSegundo numero: {}'.format(fristNumber,secondNumber))\n",
    "    print('Soma: ', fristNumber + secondNumber)"
   ]
  },
  {
   "cell_type": "code",
   "execution_count": 18,
   "id": "0657abc1",
   "metadata": {},
   "outputs": [
    {
     "name": "stdout",
     "output_type": "stream",
     "text": [
      "Primeiro numero: 30\n",
      "Segundo numero: 45\n",
      "Soma:  75\n"
     ]
    }
   ],
   "source": [
    "#Chamando a função\n",
    "\n",
    "addNum(30,45)"
   ]
  },
  {
   "cell_type": "markdown",
   "id": "93ee35d8",
   "metadata": {},
   "source": [
    "# Variaveis Globais e Locais #"
   ]
  },
  {
   "cell_type": "code",
   "execution_count": 19,
   "id": "6559c671",
   "metadata": {},
   "outputs": [],
   "source": [
    "#Variavel global\n",
    "\n",
    "varGlobal = 10 #Está ŕ uma varivel global\n",
    "\n",
    "def multply (num1,num2):\n",
    "    varLocal = num1 * num2 #Essa é uma variavel local\n",
    "    print(varGlobal)\n"
   ]
  },
  {
   "cell_type": "code",
   "execution_count": 20,
   "id": "e063e879",
   "metadata": {},
   "outputs": [
    {
     "name": "stdout",
     "output_type": "stream",
     "text": [
      "500\n"
     ]
    }
   ],
   "source": [
    "multply(10,50)"
   ]
  },
  {
   "cell_type": "code",
   "execution_count": 21,
   "id": "47a70251",
   "metadata": {},
   "outputs": [
    {
     "name": "stdout",
     "output_type": "stream",
     "text": [
      "10\n"
     ]
    }
   ],
   "source": [
    "print(varGlobal)"
   ]
  },
  {
   "cell_type": "code",
   "execution_count": 22,
   "id": "b17bb650",
   "metadata": {},
   "outputs": [],
   "source": [
    "varGlobal = 10 # Está é uma variavel global\n",
    "\n",
    "def multiply (num1,num2):\n",
    "    varLocal = num1 * num2 #Essa é uma variavel local\n",
    "    print(varLocal)"
   ]
  },
  {
   "cell_type": "code",
   "execution_count": 23,
   "id": "0d1552b7",
   "metadata": {},
   "outputs": [
    {
     "name": "stdout",
     "output_type": "stream",
     "text": [
      "800\n"
     ]
    }
   ],
   "source": [
    "multiply(10,80)"
   ]
  },
  {
   "cell_type": "code",
   "execution_count": 24,
   "id": "954dfed3",
   "metadata": {},
   "outputs": [
    {
     "name": "stdout",
     "output_type": "stream",
     "text": [
      "10\n"
     ]
    }
   ],
   "source": [
    "print(varGlobal)"
   ]
  },
  {
   "cell_type": "markdown",
   "id": "a50fc88c",
   "metadata": {},
   "source": [
    "# Funções Build-in #\n"
   ]
  },
  {
   "cell_type": "code",
   "execution_count": 25,
   "id": "8cce3157",
   "metadata": {},
   "outputs": [
    {
     "data": {
      "text/plain": [
       "52"
      ]
     },
     "execution_count": 25,
     "metadata": {},
     "output_type": "execute_result"
    }
   ],
   "source": [
    "abs(-52)"
   ]
  },
  {
   "cell_type": "code",
   "execution_count": 26,
   "id": "25a20386",
   "metadata": {},
   "outputs": [
    {
     "data": {
      "text/plain": [
       "32"
      ]
     },
     "execution_count": 26,
     "metadata": {},
     "output_type": "execute_result"
    }
   ],
   "source": [
    "abs(32)"
   ]
  },
  {
   "cell_type": "code",
   "execution_count": 27,
   "id": "221a9189",
   "metadata": {},
   "outputs": [
    {
     "data": {
      "text/plain": [
       "False"
      ]
     },
     "execution_count": 27,
     "metadata": {},
     "output_type": "execute_result"
    }
   ],
   "source": [
    "bool(0)"
   ]
  },
  {
   "cell_type": "code",
   "execution_count": 28,
   "id": "ac6cb135",
   "metadata": {},
   "outputs": [
    {
     "data": {
      "text/plain": [
       "True"
      ]
     },
     "execution_count": 28,
     "metadata": {},
     "output_type": "execute_result"
    }
   ],
   "source": [
    "bool(1)"
   ]
  },
  {
   "cell_type": "markdown",
   "id": "1e89b76a",
   "metadata": {},
   "source": [
    "# Funções str, int, float #"
   ]
  },
  {
   "cell_type": "code",
   "execution_count": 29,
   "id": "ff8c9be3",
   "metadata": {},
   "outputs": [
    {
     "name": "stdout",
     "output_type": "stream",
     "text": [
      "Qual a sua idade? 13\n"
     ]
    },
    {
     "ename": "TypeError",
     "evalue": "'>' not supported between instances of 'str' and 'int'",
     "output_type": "error",
     "traceback": [
      "\u001b[0;31m---------------------------------------------------------------------------\u001b[0m",
      "\u001b[0;31mTypeError\u001b[0m                                 Traceback (most recent call last)",
      "\u001b[0;32m<ipython-input-29-937ed7795866>\u001b[0m in \u001b[0;36m<module>\u001b[0;34m\u001b[0m\n\u001b[1;32m      3\u001b[0m \u001b[0midade\u001b[0m \u001b[0;34m=\u001b[0m \u001b[0minput\u001b[0m\u001b[0;34m(\u001b[0m\u001b[0;34m'Qual a sua idade? '\u001b[0m\u001b[0;34m)\u001b[0m\u001b[0;34m\u001b[0m\u001b[0;34m\u001b[0m\u001b[0m\n\u001b[1;32m      4\u001b[0m \u001b[0;34m\u001b[0m\u001b[0m\n\u001b[0;32m----> 5\u001b[0;31m \u001b[0;32mif\u001b[0m \u001b[0midade\u001b[0m \u001b[0;34m>\u001b[0m \u001b[0;36m13\u001b[0m\u001b[0;34m:\u001b[0m\u001b[0;34m\u001b[0m\u001b[0;34m\u001b[0m\u001b[0m\n\u001b[0m\u001b[1;32m      6\u001b[0m     \u001b[0mprint\u001b[0m\u001b[0;34m(\u001b[0m\u001b[0;34m'Pode usar o facebook'\u001b[0m\u001b[0;34m)\u001b[0m\u001b[0;34m\u001b[0m\u001b[0;34m\u001b[0m\u001b[0m\n",
      "\u001b[0;31mTypeError\u001b[0m: '>' not supported between instances of 'str' and 'int'"
     ]
    }
   ],
   "source": [
    "# Erro ao executar por causa de converção\n",
    "\n",
    "idade = input('Qual a sua idade? ')\n",
    "\n",
    "if idade > 13:\n",
    "    print('Pode usar o facebook')"
   ]
  },
  {
   "cell_type": "code",
   "execution_count": 33,
   "id": "475d2585",
   "metadata": {},
   "outputs": [
    {
     "name": "stdout",
     "output_type": "stream",
     "text": [
      "Qual a sua idade? 32\n",
      "Pode usar o facebook\n"
     ]
    }
   ],
   "source": [
    "#Usando a função int para converter valor do input\n",
    "\n",
    "idade = int(input('Qual a sua idade? '))\n",
    "\n",
    "if idade > 13:\n",
    "    print('Pode usar o facebook')\n",
    "else:\n",
    "    print('Não pode usar o facebook')"
   ]
  },
  {
   "cell_type": "code",
   "execution_count": 34,
   "id": "79287144",
   "metadata": {},
   "outputs": [
    {
     "data": {
      "text/plain": [
       "26"
      ]
     },
     "execution_count": 34,
     "metadata": {},
     "output_type": "execute_result"
    }
   ],
   "source": [
    "int('26')"
   ]
  },
  {
   "cell_type": "code",
   "execution_count": 35,
   "id": "f908ad4e",
   "metadata": {},
   "outputs": [
    {
     "data": {
      "text/plain": [
       "3.75"
      ]
     },
     "execution_count": 35,
     "metadata": {},
     "output_type": "execute_result"
    }
   ],
   "source": [
    "float('3.75')"
   ]
  },
  {
   "cell_type": "code",
   "execution_count": 36,
   "id": "e6ff23e2",
   "metadata": {},
   "outputs": [
    {
     "data": {
      "text/plain": [
       "'14'"
      ]
     },
     "execution_count": 36,
     "metadata": {},
     "output_type": "execute_result"
    }
   ],
   "source": [
    "str(14)"
   ]
  },
  {
   "cell_type": "code",
   "execution_count": 37,
   "id": "ddeaf965",
   "metadata": {},
   "outputs": [
    {
     "data": {
      "text/plain": [
       "3"
      ]
     },
     "execution_count": 37,
     "metadata": {},
     "output_type": "execute_result"
    }
   ],
   "source": [
    "len([12,13,14])"
   ]
  },
  {
   "cell_type": "code",
   "execution_count": 53,
   "id": "d283e753",
   "metadata": {},
   "outputs": [],
   "source": [
    "array = ('a', 'b', 'c')"
   ]
  },
  {
   "cell_type": "code",
   "execution_count": 54,
   "id": "b891adcb",
   "metadata": {},
   "outputs": [
    {
     "ename": "TypeError",
     "evalue": "'list' object is not callable",
     "output_type": "error",
     "traceback": [
      "\u001b[0;31m---------------------------------------------------------------------------\u001b[0m",
      "\u001b[0;31mTypeError\u001b[0m                                 Traceback (most recent call last)",
      "\u001b[0;32m<ipython-input-54-5759ba040fea>\u001b[0m in \u001b[0;36m<module>\u001b[0;34m\u001b[0m\n\u001b[0;32m----> 1\u001b[0;31m \u001b[0mmax\u001b[0m\u001b[0;34m(\u001b[0m\u001b[0marray\u001b[0m\u001b[0;34m)\u001b[0m\u001b[0;34m\u001b[0m\u001b[0;34m\u001b[0m\u001b[0m\n\u001b[0m",
      "\u001b[0;31mTypeError\u001b[0m: 'list' object is not callable"
     ]
    }
   ],
   "source": [
    "max(array)"
   ]
  },
  {
   "cell_type": "code",
   "execution_count": 55,
   "id": "6f94d37f",
   "metadata": {},
   "outputs": [],
   "source": [
    "list = [12, 35, 68, 147, 25]"
   ]
  },
  {
   "cell_type": "code",
   "execution_count": 56,
   "id": "f9eda38e",
   "metadata": {},
   "outputs": [
    {
     "data": {
      "text/plain": [
       "287"
      ]
     },
     "execution_count": 56,
     "metadata": {},
     "output_type": "execute_result"
    }
   ],
   "source": [
    "sum(list)"
   ]
  },
  {
   "cell_type": "markdown",
   "id": "acace193",
   "metadata": {},
   "source": [
    "# Criando funções com funções #"
   ]
  },
  {
   "cell_type": "code",
   "execution_count": 58,
   "id": "7e50026b",
   "metadata": {},
   "outputs": [],
   "source": [
    "import math\n",
    "\n",
    "def numPrimo(num):\n",
    "    \"\"\"\n",
    "        Verificando se o numero é primo\n",
    "    \"\"\"    \n",
    "    if num % 2 == 0 and num > 2:\n",
    "        return 'Esse numero não é primo'\n",
    "    for i in range(3, int(math.sqrt(num)) + 1 + 2 ):\n",
    "        if num % i == 0 :\n",
    "            return 'Este numero não é primo'\n",
    "        return 'Este numero é primo'"
   ]
  },
  {
   "cell_type": "code",
   "execution_count": 59,
   "id": "61d9e1d8",
   "metadata": {},
   "outputs": [
    {
     "data": {
      "text/plain": [
       "'Este numero é primo'"
      ]
     },
     "execution_count": 59,
     "metadata": {},
     "output_type": "execute_result"
    }
   ],
   "source": [
    "numPrimo(541)"
   ]
  },
  {
   "cell_type": "markdown",
   "id": "48f542f9",
   "metadata": {},
   "source": [
    "# Fazendo split de dados #"
   ]
  },
  {
   "cell_type": "code",
   "execution_count": 61,
   "id": "6d72eb2f",
   "metadata": {},
   "outputs": [],
   "source": [
    "def splitString(text):\n",
    "    return text.split(\" \")"
   ]
  },
  {
   "cell_type": "code",
   "execution_count": 62,
   "id": "04e1ac49",
   "metadata": {},
   "outputs": [],
   "source": [
    "text = 'Essa função separa a string pelos espaços'"
   ]
  },
  {
   "cell_type": "code",
   "execution_count": 63,
   "id": "b4260d02",
   "metadata": {},
   "outputs": [
    {
     "data": {
      "text/plain": [
       "['Essa', 'função', 'separa', 'a', 'string', 'pelos', 'espaços']"
      ]
     },
     "execution_count": 63,
     "metadata": {},
     "output_type": "execute_result"
    }
   ],
   "source": [
    "splitString(text)"
   ]
  },
  {
   "cell_type": "code",
   "execution_count": 67,
   "id": "c6cd0b1a",
   "metadata": {},
   "outputs": [],
   "source": [
    "# podemos atribuir o output de uma função em uma variavel\n",
    "\n",
    "token = splitString(text)"
   ]
  },
  {
   "cell_type": "code",
   "execution_count": 68,
   "id": "0cfe6ca2",
   "metadata": {},
   "outputs": [
    {
     "data": {
      "text/plain": [
       "['Essa', 'função', 'separa', 'a', 'string', 'pelos', 'espaços']"
      ]
     },
     "execution_count": 68,
     "metadata": {},
     "output_type": "execute_result"
    }
   ],
   "source": [
    "token"
   ]
  },
  {
   "cell_type": "code",
   "execution_count": 69,
   "id": "91cdc0d3",
   "metadata": {},
   "outputs": [],
   "source": [
    "caixaBaixa = 'Esse TEXTO DEveria Estar TOdo em LowCase'"
   ]
  },
  {
   "cell_type": "code",
   "execution_count": 71,
   "id": "533e0a81",
   "metadata": {},
   "outputs": [],
   "source": [
    "def lowerCase(text):\n",
    "    return text.lower()"
   ]
  },
  {
   "cell_type": "code",
   "execution_count": 72,
   "id": "a0e0c2be",
   "metadata": {},
   "outputs": [
    {
     "data": {
      "text/plain": [
       "'esse texto deveria estar todo em lowcase'"
      ]
     },
     "execution_count": 72,
     "metadata": {},
     "output_type": "execute_result"
    }
   ],
   "source": [
    "lowerCase(caixaBaixa)"
   ]
  },
  {
   "cell_type": "code",
   "execution_count": 76,
   "id": "e3ba5ebc",
   "metadata": {},
   "outputs": [],
   "source": [
    "# nfunçoes com números variaveis de argumentos\n",
    "\n",
    "def printVarInfo(arg1, *vartuple):\n",
    "    #imprimindo valor do primeiro argumento\n",
    "    print('O primeiro argumento passado foi: ', arg1)\n",
    "    \n",
    "    #imprimindo o valor do segundo argumento\n",
    "    \n",
    "    for item in vartuple:\n",
    "        print('O parametro passado foi: ', item)\n",
    "    return;"
   ]
  },
  {
   "cell_type": "code",
   "execution_count": 74,
   "id": "a6366c09",
   "metadata": {},
   "outputs": [
    {
     "name": "stdout",
     "output_type": "stream",
     "text": [
      "O primeiro argumento passado foi:  10\n"
     ]
    }
   ],
   "source": [
    "#chamando a função com apenas um argumento\n",
    "printVarInfo(10)"
   ]
  },
  {
   "cell_type": "code",
   "execution_count": 77,
   "id": "561f45cb",
   "metadata": {},
   "outputs": [
    {
     "name": "stdout",
     "output_type": "stream",
     "text": [
      "O primeiro argumento passado foi:  Manga\n",
      "O parametro passado foi:  MElão\n",
      "O parametro passado foi:  Caqui\n"
     ]
    }
   ],
   "source": [
    "printVarInfo('Manga', 'MElão', 'Caqui')"
   ]
  },
  {
   "cell_type": "code",
   "execution_count": null,
   "id": "785845e7",
   "metadata": {},
   "outputs": [],
   "source": []
  }
 ],
 "metadata": {
  "kernelspec": {
   "display_name": "Python 3",
   "language": "python",
   "name": "python3"
  },
  "language_info": {
   "codemirror_mode": {
    "name": "ipython",
    "version": 3
   },
   "file_extension": ".py",
   "mimetype": "text/x-python",
   "name": "python",
   "nbconvert_exporter": "python",
   "pygments_lexer": "ipython3",
   "version": "3.8.8"
  }
 },
 "nbformat": 4,
 "nbformat_minor": 5
}

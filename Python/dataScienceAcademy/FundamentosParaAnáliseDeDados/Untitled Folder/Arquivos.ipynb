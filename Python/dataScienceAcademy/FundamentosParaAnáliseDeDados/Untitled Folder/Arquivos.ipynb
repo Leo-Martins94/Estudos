{
 "cells": [
  {
   "cell_type": "markdown",
   "id": "02ba2e7b",
   "metadata": {},
   "source": [
    "# Lendo arquivo"
   ]
  },
  {
   "cell_type": "code",
   "execution_count": 2,
   "id": "dcb343f8",
   "metadata": {},
   "outputs": [],
   "source": [
    "#abrindo arquivo para leitura\n",
    "\n",
    "arql = open(\"../arquivos/arquivo1.txt\",\"r\")"
   ]
  },
  {
   "cell_type": "code",
   "execution_count": 3,
   "id": "8d177f54",
   "metadata": {},
   "outputs": [
    {
     "name": "stdout",
     "output_type": "stream",
     "text": [
      "﻿Python é uma linguagem poderosa\n"
     ]
    }
   ],
   "source": [
    "#Lendo o arquivo\n",
    "print(arql.read())"
   ]
  },
  {
   "cell_type": "code",
   "execution_count": 4,
   "id": "645194b7",
   "metadata": {},
   "outputs": [
    {
     "name": "stdout",
     "output_type": "stream",
     "text": [
      "35\n"
     ]
    }
   ],
   "source": [
    "#Contando o nmero do caracter\n",
    "print(arql.tell())"
   ]
  },
  {
   "cell_type": "code",
   "execution_count": 5,
   "id": "5b077df5",
   "metadata": {},
   "outputs": [
    {
     "name": "stdout",
     "output_type": "stream",
     "text": [
      "0\n"
     ]
    }
   ],
   "source": [
    "#retornando para o inicio do arquivo\n",
    "print(arql.seek(0,0))"
   ]
  },
  {
   "cell_type": "code",
   "execution_count": 6,
   "id": "441f1d1b",
   "metadata": {},
   "outputs": [
    {
     "name": "stdout",
     "output_type": "stream",
     "text": [
      "﻿Python é \n"
     ]
    }
   ],
   "source": [
    "#Lendo os primeiros 10 caracteres\n",
    "print(arql.read(10))"
   ]
  },
  {
   "cell_type": "markdown",
   "id": "1c1711f1",
   "metadata": {},
   "source": [
    "# Gravando o arquivo"
   ]
  },
  {
   "cell_type": "code",
   "execution_count": 7,
   "id": "91011359",
   "metadata": {},
   "outputs": [],
   "source": [
    "arq1 = open(\"../arquivos/arquivo1.txt\",\"w\")"
   ]
  },
  {
   "cell_type": "code",
   "execution_count": 8,
   "id": "94abc462",
   "metadata": {},
   "outputs": [
    {
     "ename": "UnsupportedOperation",
     "evalue": "not readable",
     "output_type": "error",
     "traceback": [
      "\u001b[0;31m---------------------------------------------------------------------------\u001b[0m",
      "\u001b[0;31mUnsupportedOperation\u001b[0m                      Traceback (most recent call last)",
      "\u001b[0;32m<ipython-input-8-ad4c047f5bf6>\u001b[0m in \u001b[0;36m<module>\u001b[0;34m\u001b[0m\n\u001b[1;32m      1\u001b[0m \u001b[0;31m#Como usamos o padrão de edição não podemos usar o metodo de leitura\u001b[0m\u001b[0;34m\u001b[0m\u001b[0;34m\u001b[0m\u001b[0;34m\u001b[0m\u001b[0m\n\u001b[0;32m----> 2\u001b[0;31m \u001b[0mprint\u001b[0m\u001b[0;34m(\u001b[0m\u001b[0marq1\u001b[0m\u001b[0;34m.\u001b[0m\u001b[0mread\u001b[0m\u001b[0;34m(\u001b[0m\u001b[0;34m)\u001b[0m\u001b[0;34m)\u001b[0m\u001b[0;34m\u001b[0m\u001b[0;34m\u001b[0m\u001b[0m\n\u001b[0m",
      "\u001b[0;31mUnsupportedOperation\u001b[0m: not readable"
     ]
    }
   ],
   "source": [
    "#Como usamos o padrão de edição não podemos usar o metodo de leitura\n",
    "print(arq1.read())"
   ]
  },
  {
   "cell_type": "code",
   "execution_count": 9,
   "id": "2554e3c5",
   "metadata": {},
   "outputs": [
    {
     "data": {
      "text/plain": [
       "31"
      ]
     },
     "execution_count": 9,
     "metadata": {},
     "output_type": "execute_result"
    }
   ],
   "source": [
    "#Gravando arquivo\n",
    "arq1.write(\"Testenado a gravação do arquivo\")"
   ]
  },
  {
   "cell_type": "code",
   "execution_count": 10,
   "id": "28ddc151",
   "metadata": {},
   "outputs": [],
   "source": [
    "arq1.close()"
   ]
  },
  {
   "cell_type": "code",
   "execution_count": 12,
   "id": "a7892a94",
   "metadata": {},
   "outputs": [],
   "source": [
    "#Lendo arquivo editado\n",
    "arq1 = open(\"../arquivos/arquivo1.txt\",\"r\")"
   ]
  },
  {
   "cell_type": "code",
   "execution_count": 15,
   "id": "230d1394",
   "metadata": {},
   "outputs": [
    {
     "name": "stdout",
     "output_type": "stream",
     "text": [
      "Testenado a gravação do arquivo\n"
     ]
    }
   ],
   "source": [
    "print(arq1.read())"
   ]
  },
  {
   "cell_type": "code",
   "execution_count": 17,
   "id": "fbac5f9f",
   "metadata": {},
   "outputs": [],
   "source": [
    "#Acrescentando conteudo\n",
    "\n",
    "arq1 = open(\"../arquivos/arquivo1.txt\",\"a\")"
   ]
  },
  {
   "cell_type": "code",
   "execution_count": 18,
   "id": "46dfa115",
   "metadata": {},
   "outputs": [
    {
     "data": {
      "text/plain": [
       "31"
      ]
     },
     "execution_count": 18,
     "metadata": {},
     "output_type": "execute_result"
    }
   ],
   "source": [
    "#Acrecenstando ao arquivo\n",
    "arq1.write(\"Python é uma linguagem poderosa\")"
   ]
  },
  {
   "cell_type": "code",
   "execution_count": 19,
   "id": "769816ce",
   "metadata": {},
   "outputs": [],
   "source": [
    "arq1.close()"
   ]
  },
  {
   "cell_type": "code",
   "execution_count": 20,
   "id": "afa8c753",
   "metadata": {},
   "outputs": [],
   "source": [
    "arq1 = open(\"../arquivos/arquivo1.txt\", \"r\")"
   ]
  },
  {
   "cell_type": "code",
   "execution_count": 21,
   "id": "f40acf7d",
   "metadata": {},
   "outputs": [
    {
     "name": "stdout",
     "output_type": "stream",
     "text": [
      "Testenado a gravação do arquivoPython é uma linguagem poderosa\n"
     ]
    }
   ],
   "source": [
    "print(arq1.read())"
   ]
  },
  {
   "cell_type": "code",
   "execution_count": 22,
   "id": "8d1f5060",
   "metadata": {},
   "outputs": [
    {
     "data": {
      "text/plain": [
       "0"
      ]
     },
     "execution_count": 22,
     "metadata": {},
     "output_type": "execute_result"
    }
   ],
   "source": [
    "#rotornando ao inicio do arquivo para a leitura\n",
    "arq1.seek(0,0)"
   ]
  },
  {
   "cell_type": "code",
   "execution_count": 23,
   "id": "fa2327b3",
   "metadata": {},
   "outputs": [
    {
     "name": "stdout",
     "output_type": "stream",
     "text": [
      "Testenado a gravação do arquivoPython é uma linguagem poderosa\n"
     ]
    }
   ],
   "source": [
    "print(arq1.read())"
   ]
  },
  {
   "cell_type": "code",
   "execution_count": null,
   "id": "1fc91c38",
   "metadata": {},
   "outputs": [],
   "source": []
  }
 ],
 "metadata": {
  "kernelspec": {
   "display_name": "Python 3",
   "language": "python",
   "name": "python3"
  },
  "language_info": {
   "codemirror_mode": {
    "name": "ipython",
    "version": 3
   },
   "file_extension": ".py",
   "mimetype": "text/x-python",
   "name": "python",
   "nbconvert_exporter": "python",
   "pygments_lexer": "ipython3",
   "version": "3.8.8"
  }
 },
 "nbformat": 4,
 "nbformat_minor": 5
}

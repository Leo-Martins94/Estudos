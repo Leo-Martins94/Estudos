{
 "cells": [
  {
   "cell_type": "markdown",
   "id": "e77afa84",
   "metadata": {},
   "source": [
    "# Manipulando arquvios TXT"
   ]
  },
  {
   "cell_type": "code",
   "execution_count": 1,
   "id": "a07576ad",
   "metadata": {},
   "outputs": [],
   "source": [
    "texto = 'Cientista de dados é a profissão que mais cresce no mundo \\n'\n",
    "texto += 'Esses proficionais precisam se especializar em Programação, Estatistica e MachineLearning\\n'\n",
    "texto += 'E claro em Big Data'"
   ]
  },
  {
   "cell_type": "code",
   "execution_count": 2,
   "id": "d89416a6",
   "metadata": {},
   "outputs": [
    {
     "name": "stdout",
     "output_type": "stream",
     "text": [
      "Cientista de dados é a profissão que mais cresce no mundo \n",
      "Esses proficionais precisam se especializar em Programação, Estatistica e MachineLearning\n",
      "E claro em Big Data\n"
     ]
    }
   ],
   "source": [
    "print(texto)"
   ]
  },
  {
   "cell_type": "code",
   "execution_count": 3,
   "id": "0b28aa06",
   "metadata": {},
   "outputs": [],
   "source": [
    "#importando o modulo os\n",
    "\n",
    "import  os"
   ]
  },
  {
   "cell_type": "code",
   "execution_count": 5,
   "id": "27638b61",
   "metadata": {},
   "outputs": [],
   "source": [
    "#criando um arquivo\n",
    "arquivo = open(os.path.join('../arquivos/cientista.txt'),'w')"
   ]
  },
  {
   "cell_type": "code",
   "execution_count": 7,
   "id": "f8e14478",
   "metadata": {},
   "outputs": [],
   "source": [
    "#Gravando os dados em um arquivo\n",
    "\n",
    "for palavra in texto.split():\n",
    "    arquivo.write(palavra+' ')"
   ]
  },
  {
   "cell_type": "code",
   "execution_count": 8,
   "id": "25ab6f65",
   "metadata": {},
   "outputs": [],
   "source": [
    "#fechando o arquivo\n",
    "arquivo.close()"
   ]
  },
  {
   "cell_type": "code",
   "execution_count": 13,
   "id": "3e0341cf",
   "metadata": {},
   "outputs": [],
   "source": [
    "#Abrindo arquivo em modo read\n",
    "arquuivo = open('../arquivos/cientista.txt','r')"
   ]
  },
  {
   "cell_type": "code",
   "execution_count": 14,
   "id": "ea7fa4dd",
   "metadata": {},
   "outputs": [
    {
     "name": "stdout",
     "output_type": "stream",
     "text": [
      "Cientista de dados é a profissão que mais cresce no mundo Esses proficionais precisam se especializar em Programação, Estatistica e MachineLearning E claro em Big Data \n"
     ]
    }
   ],
   "source": [
    "conteudo = arquuivo.read()\n",
    "arquuivo.close()\n",
    "print(conteudo)"
   ]
  },
  {
   "cell_type": "markdown",
   "id": "1529ec8f",
   "metadata": {},
   "source": [
    "# Usando a expressão With\n",
    "    nela o metodo close() é chamado automaticamente"
   ]
  },
  {
   "cell_type": "code",
   "execution_count": 16,
   "id": "6a0cc8b3",
   "metadata": {},
   "outputs": [],
   "source": [
    "with open('../arquivos/cientista.txt','r') as arquivo:\n",
    "    conteudo = arquivo.read()"
   ]
  },
  {
   "cell_type": "code",
   "execution_count": 17,
   "id": "c78ed697",
   "metadata": {},
   "outputs": [
    {
     "name": "stdout",
     "output_type": "stream",
     "text": [
      "168\n"
     ]
    }
   ],
   "source": [
    "print(len(conteudo))"
   ]
  },
  {
   "cell_type": "code",
   "execution_count": 18,
   "id": "38aca327",
   "metadata": {},
   "outputs": [
    {
     "name": "stdout",
     "output_type": "stream",
     "text": [
      "Cientista de dados é a profissão que mais cresce no mundo Esses proficionais precisam se especializar em Programação, Estatistica e MachineLearning E claro em Big Data \n"
     ]
    }
   ],
   "source": [
    "print(conteudo)"
   ]
  },
  {
   "cell_type": "code",
   "execution_count": 19,
   "id": "bda99fac",
   "metadata": {},
   "outputs": [],
   "source": [
    "with open('../arquivos/cientista.txt','w') as arquivo:\n",
    "    arquivo.write(texto[:21])\n",
    "    arquivo.write('\\n')\n",
    "    arquivo.write(texto[:33])"
   ]
  },
  {
   "cell_type": "code",
   "execution_count": 20,
   "id": "2a536b03",
   "metadata": {},
   "outputs": [
    {
     "name": "stdout",
     "output_type": "stream",
     "text": [
      "Cientista de dados é a profissão que mais cresce no mundo \n",
      "Esses proficionais precisam se especializar em Programação, Estatistica e MachineLearning\n",
      "E claro em Big Data\n"
     ]
    }
   ],
   "source": [
    "arquivo = open('../arquivos/cientista.txt','r')\n",
    "conteudo = arquivo.read()\n",
    "arquivo.close()\n",
    "print(texto)"
   ]
  },
  {
   "cell_type": "markdown",
   "id": "2ded4b7b",
   "metadata": {},
   "source": [
    "# Manipulando arquvios CSV (Command - Separed Values)"
   ]
  },
  {
   "cell_type": "code",
   "execution_count": 21,
   "id": "e631a9bb",
   "metadata": {},
   "outputs": [],
   "source": [
    "#importando modulo csv\n",
    "import csv"
   ]
  },
  {
   "cell_type": "code",
   "execution_count": 25,
   "id": "d6bac2ad",
   "metadata": {},
   "outputs": [],
   "source": [
    "with open('../arquivos/numeros.csv','w') as arquivo:\n",
    "    writer = csv.writer(arquivo)\n",
    "    writer.writerow(('Primeira','Segunda','Terceira'))\n",
    "    writer.writerow((56,27,32))\n",
    "    writer.writerow((21,27,82))"
   ]
  },
  {
   "cell_type": "code",
   "execution_count": 27,
   "id": "a161085c",
   "metadata": {},
   "outputs": [
    {
     "name": "stdout",
     "output_type": "stream",
     "text": [
      "Numero de colunas:  3\n",
      "['Primeira', 'Segunda', 'Terceira']\n",
      "Numero de colunas:  3\n",
      "['56', '27', '32']\n",
      "Numero de colunas:  3\n",
      "['21', '27', '82']\n"
     ]
    }
   ],
   "source": [
    "# lendo arquivo csv\n",
    "\n",
    "with open('../arquivos/numeros.csv', 'r') as arquivo:\n",
    "    leitor = csv.reader(arquivo)\n",
    "    for x in leitor:\n",
    "        print('Numero de colunas: ', len(x))\n",
    "        print(x)"
   ]
  },
  {
   "cell_type": "code",
   "execution_count": 29,
   "id": "94d45d79",
   "metadata": {},
   "outputs": [
    {
     "name": "stdout",
     "output_type": "stream",
     "text": [
      "[['Primeira', 'Segunda', 'Terceira'], ['56', '27', '32'], ['21', '27', '82']]\n"
     ]
    }
   ],
   "source": [
    "#Gerando lista de dados em arquivo csv\n",
    "\n",
    "with open('../arquivos/numeros.csv', 'r') as arquivo:\n",
    "    leitor = csv.reader(arquivo)\n",
    "    dados = list(leitor)\n",
    "    \n",
    "print(dados)"
   ]
  },
  {
   "cell_type": "code",
   "execution_count": 30,
   "id": "1d33c698",
   "metadata": {},
   "outputs": [
    {
     "name": "stdout",
     "output_type": "stream",
     "text": [
      "['56', '27', '32']\n",
      "['21', '27', '82']\n"
     ]
    }
   ],
   "source": [
    "#imprimindo a partir da segunda linha\n",
    "\n",
    "for linha in dados[1:]:\n",
    "    print(linha)"
   ]
  },
  {
   "cell_type": "markdown",
   "id": "b8de1386",
   "metadata": {},
   "source": [
    "# Malipulando Arquivos JSON (Java Script Object Notation"
   ]
  },
  {
   "cell_type": "code",
   "execution_count": 2,
   "id": "d210f7d3",
   "metadata": {},
   "outputs": [],
   "source": [
    "#Criando um dicionario\n",
    "\n",
    "dic = {'nome':'Leonardo',\n",
    "       'linguagem':'Python',\n",
    "       'similar': ['C','modulo3','lisp'],\n",
    "       'User':'001'\n",
    "        }"
   ]
  },
  {
   "cell_type": "code",
   "execution_count": 3,
   "id": "2cf193e8",
   "metadata": {},
   "outputs": [
    {
     "name": "stdout",
     "output_type": "stream",
     "text": [
      "nome Leonardo\n",
      "linguagem Python\n",
      "similar ['C', 'modulo3', 'lisp']\n",
      "User 001\n"
     ]
    }
   ],
   "source": [
    "for k,v in dic.items():\n",
    "    print(k,v)"
   ]
  },
  {
   "cell_type": "code",
   "execution_count": 4,
   "id": "a7529e35",
   "metadata": {},
   "outputs": [],
   "source": [
    "#importando modulo json\n",
    "\n",
    "import json"
   ]
  },
  {
   "cell_type": "code",
   "execution_count": 6,
   "id": "c9b654a4",
   "metadata": {},
   "outputs": [
    {
     "data": {
      "text/plain": [
       "'{\"nome\": \"Leonardo\", \"linguagem\": \"Python\", \"similar\": [\"C\", \"modulo3\", \"lisp\"], \"User\": \"001\"}'"
      ]
     },
     "execution_count": 6,
     "metadata": {},
     "output_type": "execute_result"
    }
   ],
   "source": [
    "#Convertendo dicionario para um objeo json\n",
    "json.dumps(dic)"
   ]
  },
  {
   "cell_type": "code",
   "execution_count": 7,
   "id": "62537e26",
   "metadata": {},
   "outputs": [],
   "source": [
    "#Criando um arquivo JSON\n",
    "\n",
    "with open('../arquivos/dicionario.json', 'w') as arquivo:\n",
    "    arquivo.write(json.dumps(dic))"
   ]
  },
  {
   "cell_type": "code",
   "execution_count": 10,
   "id": "70341e18",
   "metadata": {},
   "outputs": [],
   "source": [
    "with open('../arquivos/dicionario.json', 'r') as arquivo:\n",
    "    texto = arquivo.read()\n",
    "    data = json.loads(texto)"
   ]
  },
  {
   "cell_type": "code",
   "execution_count": 11,
   "id": "2ce71770",
   "metadata": {},
   "outputs": [
    {
     "name": "stdout",
     "output_type": "stream",
     "text": [
      "{'nome': 'Leonardo', 'linguagem': 'Python', 'similar': ['C', 'modulo3', 'lisp'], 'User': '001'}\n"
     ]
    }
   ],
   "source": [
    "print(data)"
   ]
  },
  {
   "cell_type": "code",
   "execution_count": 12,
   "id": "18e3e1e1",
   "metadata": {},
   "outputs": [
    {
     "name": "stdout",
     "output_type": "stream",
     "text": [
      "Leonardo\n"
     ]
    }
   ],
   "source": [
    "print(data['nome'])"
   ]
  },
  {
   "cell_type": "code",
   "execution_count": 15,
   "id": "730764ee",
   "metadata": {},
   "outputs": [],
   "source": [
    "#imprimindo um arquivo json vindo nda internet\n",
    "\n",
    "from urllib.request import urlopen\n",
    "\n",
    "response = urlopen(\"http://vimeo.com/api/v2/video/57733101.json\").read().decode('utf8')\n",
    "\n",
    "data = json.loads(response)[0]"
   ]
  },
  {
   "cell_type": "code",
   "execution_count": 16,
   "id": "05d33a35",
   "metadata": {},
   "outputs": [
    {
     "name": "stdout",
     "output_type": "stream",
     "text": [
      "Titulo: The Good Man trailer\n",
      "URL:  https://vimeo.com/57733101\n",
      "Duração:  143\n",
      "Numero de visualizações:  6291\n"
     ]
    }
   ],
   "source": [
    "print('Titulo:',data['title'])\n",
    "print('URL: ',data['url'])\n",
    "print('Duração: ',data['duration'])\n",
    "print('Numero de visualizações: ',data['stats_number_of_plays'])"
   ]
  },
  {
   "cell_type": "code",
   "execution_count": 23,
   "id": "177c9176",
   "metadata": {},
   "outputs": [],
   "source": [
    "#Copiando o conteudo de um arquivo par ao outro\n",
    "import os\n",
    "\n",
    "arquivoFonte = '../arquivos/dicionario.json'\n",
    "arquivoDestino = '../arquivos/jsonData.txt' "
   ]
  },
  {
   "cell_type": "code",
   "execution_count": 24,
   "id": "23c7e211",
   "metadata": {},
   "outputs": [],
   "source": [
    "#Metodo 1\n",
    "\n",
    "with open(arquivoFonte, 'r') as inFile:\n",
    "        text = inFile.read()\n",
    "        with open(arquivoDestino, 'w') as outFile:\n",
    "            outFile.write(text)"
   ]
  },
  {
   "cell_type": "code",
   "execution_count": 27,
   "id": "bbf43ffa",
   "metadata": {},
   "outputs": [
    {
     "data": {
      "text/plain": [
       "95"
      ]
     },
     "execution_count": 27,
     "metadata": {},
     "output_type": "execute_result"
    }
   ],
   "source": [
    "#Metodo 2\n",
    "\n",
    "open(arquivoDestino,'w').write(open(arquivoFonte,'r').read())"
   ]
  },
  {
   "cell_type": "code",
   "execution_count": 29,
   "id": "aa2ff7cf",
   "metadata": {},
   "outputs": [],
   "source": [
    "with open('../arquivos/jsonData.txt','r') as arquivo:\n",
    "    texto = arquivo.read()\n",
    "    data = json.loads(texto)"
   ]
  },
  {
   "cell_type": "code",
   "execution_count": 30,
   "id": "6f704752",
   "metadata": {},
   "outputs": [
    {
     "name": "stdout",
     "output_type": "stream",
     "text": [
      "{'nome': 'Leonardo', 'linguagem': 'Python', 'similar': ['C', 'modulo3', 'lisp'], 'User': '001'}\n"
     ]
    }
   ],
   "source": [
    "print(data)"
   ]
  },
  {
   "cell_type": "code",
   "execution_count": null,
   "id": "473f0e18",
   "metadata": {},
   "outputs": [],
   "source": []
  }
 ],
 "metadata": {
  "kernelspec": {
   "display_name": "Python 3",
   "language": "python",
   "name": "python3"
  },
  "language_info": {
   "codemirror_mode": {
    "name": "ipython",
    "version": 3
   },
   "file_extension": ".py",
   "mimetype": "text/x-python",
   "name": "python",
   "nbconvert_exporter": "python",
   "pygments_lexer": "ipython3",
   "version": "3.8.8"
  }
 },
 "nbformat": 4,
 "nbformat_minor": 5
}

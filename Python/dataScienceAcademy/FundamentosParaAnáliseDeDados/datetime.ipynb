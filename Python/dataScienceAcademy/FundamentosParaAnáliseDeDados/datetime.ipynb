{
 "cells": [
  {
   "cell_type": "markdown",
   "id": "5a87be21",
   "metadata": {},
   "source": [
    "# Datetime"
   ]
  },
  {
   "cell_type": "code",
   "execution_count": 1,
   "id": "e17f110c",
   "metadata": {},
   "outputs": [],
   "source": [
    "import datetime"
   ]
  },
  {
   "cell_type": "code",
   "execution_count": 2,
   "id": "7096a579",
   "metadata": {},
   "outputs": [],
   "source": [
    "agora = datetime.datetime.now()"
   ]
  },
  {
   "cell_type": "code",
   "execution_count": 4,
   "id": "c0669a3a",
   "metadata": {},
   "outputs": [
    {
     "data": {
      "text/plain": [
       "datetime.datetime(2021, 11, 11, 11, 8, 12, 411812)"
      ]
     },
     "execution_count": 4,
     "metadata": {},
     "output_type": "execute_result"
    }
   ],
   "source": [
    "agora"
   ]
  },
  {
   "cell_type": "code",
   "execution_count": 5,
   "id": "919ad5d3",
   "metadata": {},
   "outputs": [],
   "source": [
    "t = datetime.time(7,43,28)"
   ]
  },
  {
   "cell_type": "code",
   "execution_count": 6,
   "id": "97d33776",
   "metadata": {},
   "outputs": [
    {
     "name": "stdout",
     "output_type": "stream",
     "text": [
      "07:43:28\n"
     ]
    }
   ],
   "source": [
    "print(t)"
   ]
  },
  {
   "cell_type": "code",
   "execution_count": 7,
   "id": "419c764c",
   "metadata": {},
   "outputs": [
    {
     "name": "stdout",
     "output_type": "stream",
     "text": [
      "Hora:  7\n",
      "Minuto:  43\n",
      "Segundo:  28\n",
      "Microsegundo:  0\n"
     ]
    }
   ],
   "source": [
    "print('Hora: ',t.hour)\n",
    "print('Minuto: ',t.minute)\n",
    "print('Segundo: ',t.second)\n",
    "print('Microsegundo: ',t.microsecond)"
   ]
  },
  {
   "cell_type": "code",
   "execution_count": 9,
   "id": "d264021b",
   "metadata": {},
   "outputs": [
    {
     "name": "stdout",
     "output_type": "stream",
     "text": [
      "00:00:00\n"
     ]
    }
   ],
   "source": [
    "print(datetime.time.min)"
   ]
  },
  {
   "cell_type": "code",
   "execution_count": 10,
   "id": "2afb51a3",
   "metadata": {},
   "outputs": [],
   "source": [
    "hoje = datetime.date.today()"
   ]
  },
  {
   "cell_type": "code",
   "execution_count": 11,
   "id": "03642c83",
   "metadata": {},
   "outputs": [
    {
     "data": {
      "text/plain": [
       "datetime.date(2021, 11, 11)"
      ]
     },
     "execution_count": 11,
     "metadata": {},
     "output_type": "execute_result"
    }
   ],
   "source": [
    "hoje"
   ]
  },
  {
   "cell_type": "code",
   "execution_count": 12,
   "id": "1d4bda45",
   "metadata": {},
   "outputs": [
    {
     "name": "stdout",
     "output_type": "stream",
     "text": [
      "Dia:  11\n",
      "Mês:  11\n",
      "Ano:  2021\n"
     ]
    }
   ],
   "source": [
    "print('Dia: ',hoje.day)\n",
    "print('Mês: ',hoje.month)\n",
    "print('Ano: ',hoje.year)"
   ]
  },
  {
   "cell_type": "code",
   "execution_count": 14,
   "id": "9223e7ce",
   "metadata": {},
   "outputs": [],
   "source": [
    "d1 = datetime.date(2011,11,11)"
   ]
  },
  {
   "cell_type": "code",
   "execution_count": 18,
   "id": "e0747e27",
   "metadata": {},
   "outputs": [],
   "source": [
    "d2 = d1.replace(year=2021)"
   ]
  },
  {
   "cell_type": "code",
   "execution_count": 19,
   "id": "c91d338a",
   "metadata": {},
   "outputs": [
    {
     "name": "stdout",
     "output_type": "stream",
     "text": [
      "d2:  2021-11-11\n"
     ]
    }
   ],
   "source": [
    "print('d2: ',d2)"
   ]
  },
  {
   "cell_type": "code",
   "execution_count": 20,
   "id": "a6e84cbf",
   "metadata": {},
   "outputs": [
    {
     "data": {
      "text/plain": [
       "datetime.timedelta(days=-3653)"
      ]
     },
     "execution_count": 20,
     "metadata": {},
     "output_type": "execute_result"
    }
   ],
   "source": [
    "d1 - d2"
   ]
  },
  {
   "cell_type": "code",
   "execution_count": null,
   "id": "4eabbea2",
   "metadata": {},
   "outputs": [],
   "source": []
  }
 ],
 "metadata": {
  "kernelspec": {
   "display_name": "Python 3",
   "language": "python",
   "name": "python3"
  },
  "language_info": {
   "codemirror_mode": {
    "name": "ipython",
    "version": 3
   },
   "file_extension": ".py",
   "mimetype": "text/x-python",
   "name": "python",
   "nbconvert_exporter": "python",
   "pygments_lexer": "ipython3",
   "version": "3.8.8"
  }
 },
 "nbformat": 4,
 "nbformat_minor": 5
}
